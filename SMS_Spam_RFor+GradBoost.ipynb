{
  "nbformat": 4,
  "nbformat_minor": 0,
  "metadata": {
    "colab": {
      "provenance": [],
      "authorship_tag": "ABX9TyNWzUr9LC2QiIWRig1LRloL",
      "include_colab_link": true
    },
    "kernelspec": {
      "name": "python3",
      "display_name": "Python 3"
    },
    "language_info": {
      "name": "python"
    }
  },
  "cells": [
    {
      "cell_type": "markdown",
      "metadata": {
        "id": "view-in-github",
        "colab_type": "text"
      },
      "source": [
        "<a href=\"https://colab.research.google.com/github/intuition-explorer/ML-Algorithms/blob/main/SMS_Spam_RFor%2BGradBoost.ipynb\" target=\"_parent\"><img src=\"https://colab.research.google.com/assets/colab-badge.svg\" alt=\"Open In Colab\"/></a>"
      ]
    },
    {
      "cell_type": "code",
      "source": [
        "from google.colab import files\n",
        "files.upload()\n",
        "\n",
        "import pandas as pd\n",
        "data = pd.read_csv('SMSSpamCollection', sep='\\t', header=None, names=['label', 'text']) #remove their header, add columns=names to data\n",
        "print(data.head())"
      ],
      "metadata": {
        "id": "FGHh69sLr4vJ",
        "colab": {
          "base_uri": "https://localhost:8080/",
          "height": 177
        },
        "outputId": "69f1a4bf-c736-426d-c674-13637e0dcfe2"
      },
      "execution_count": null,
      "outputs": [
        {
          "output_type": "display_data",
          "data": {
            "text/plain": [
              "<IPython.core.display.HTML object>"
            ],
            "text/html": [
              "\n",
              "     <input type=\"file\" id=\"files-abde905e-2a87-4641-92f1-bd2608f740f3\" name=\"files[]\" multiple disabled\n",
              "        style=\"border:none\" />\n",
              "     <output id=\"result-abde905e-2a87-4641-92f1-bd2608f740f3\">\n",
              "      Upload widget is only available when the cell has been executed in the\n",
              "      current browser session. Please rerun this cell to enable.\n",
              "      </output>\n",
              "      <script>// Copyright 2017 Google LLC\n",
              "//\n",
              "// Licensed under the Apache License, Version 2.0 (the \"License\");\n",
              "// you may not use this file except in compliance with the License.\n",
              "// You may obtain a copy of the License at\n",
              "//\n",
              "//      http://www.apache.org/licenses/LICENSE-2.0\n",
              "//\n",
              "// Unless required by applicable law or agreed to in writing, software\n",
              "// distributed under the License is distributed on an \"AS IS\" BASIS,\n",
              "// WITHOUT WARRANTIES OR CONDITIONS OF ANY KIND, either express or implied.\n",
              "// See the License for the specific language governing permissions and\n",
              "// limitations under the License.\n",
              "\n",
              "/**\n",
              " * @fileoverview Helpers for google.colab Python module.\n",
              " */\n",
              "(function(scope) {\n",
              "function span(text, styleAttributes = {}) {\n",
              "  const element = document.createElement('span');\n",
              "  element.textContent = text;\n",
              "  for (const key of Object.keys(styleAttributes)) {\n",
              "    element.style[key] = styleAttributes[key];\n",
              "  }\n",
              "  return element;\n",
              "}\n",
              "\n",
              "// Max number of bytes which will be uploaded at a time.\n",
              "const MAX_PAYLOAD_SIZE = 100 * 1024;\n",
              "\n",
              "function _uploadFiles(inputId, outputId) {\n",
              "  const steps = uploadFilesStep(inputId, outputId);\n",
              "  const outputElement = document.getElementById(outputId);\n",
              "  // Cache steps on the outputElement to make it available for the next call\n",
              "  // to uploadFilesContinue from Python.\n",
              "  outputElement.steps = steps;\n",
              "\n",
              "  return _uploadFilesContinue(outputId);\n",
              "}\n",
              "\n",
              "// This is roughly an async generator (not supported in the browser yet),\n",
              "// where there are multiple asynchronous steps and the Python side is going\n",
              "// to poll for completion of each step.\n",
              "// This uses a Promise to block the python side on completion of each step,\n",
              "// then passes the result of the previous step as the input to the next step.\n",
              "function _uploadFilesContinue(outputId) {\n",
              "  const outputElement = document.getElementById(outputId);\n",
              "  const steps = outputElement.steps;\n",
              "\n",
              "  const next = steps.next(outputElement.lastPromiseValue);\n",
              "  return Promise.resolve(next.value.promise).then((value) => {\n",
              "    // Cache the last promise value to make it available to the next\n",
              "    // step of the generator.\n",
              "    outputElement.lastPromiseValue = value;\n",
              "    return next.value.response;\n",
              "  });\n",
              "}\n",
              "\n",
              "/**\n",
              " * Generator function which is called between each async step of the upload\n",
              " * process.\n",
              " * @param {string} inputId Element ID of the input file picker element.\n",
              " * @param {string} outputId Element ID of the output display.\n",
              " * @return {!Iterable<!Object>} Iterable of next steps.\n",
              " */\n",
              "function* uploadFilesStep(inputId, outputId) {\n",
              "  const inputElement = document.getElementById(inputId);\n",
              "  inputElement.disabled = false;\n",
              "\n",
              "  const outputElement = document.getElementById(outputId);\n",
              "  outputElement.innerHTML = '';\n",
              "\n",
              "  const pickedPromise = new Promise((resolve) => {\n",
              "    inputElement.addEventListener('change', (e) => {\n",
              "      resolve(e.target.files);\n",
              "    });\n",
              "  });\n",
              "\n",
              "  const cancel = document.createElement('button');\n",
              "  inputElement.parentElement.appendChild(cancel);\n",
              "  cancel.textContent = 'Cancel upload';\n",
              "  const cancelPromise = new Promise((resolve) => {\n",
              "    cancel.onclick = () => {\n",
              "      resolve(null);\n",
              "    };\n",
              "  });\n",
              "\n",
              "  // Wait for the user to pick the files.\n",
              "  const files = yield {\n",
              "    promise: Promise.race([pickedPromise, cancelPromise]),\n",
              "    response: {\n",
              "      action: 'starting',\n",
              "    }\n",
              "  };\n",
              "\n",
              "  cancel.remove();\n",
              "\n",
              "  // Disable the input element since further picks are not allowed.\n",
              "  inputElement.disabled = true;\n",
              "\n",
              "  if (!files) {\n",
              "    return {\n",
              "      response: {\n",
              "        action: 'complete',\n",
              "      }\n",
              "    };\n",
              "  }\n",
              "\n",
              "  for (const file of files) {\n",
              "    const li = document.createElement('li');\n",
              "    li.append(span(file.name, {fontWeight: 'bold'}));\n",
              "    li.append(span(\n",
              "        `(${file.type || 'n/a'}) - ${file.size} bytes, ` +\n",
              "        `last modified: ${\n",
              "            file.lastModifiedDate ? file.lastModifiedDate.toLocaleDateString() :\n",
              "                                    'n/a'} - `));\n",
              "    const percent = span('0% done');\n",
              "    li.appendChild(percent);\n",
              "\n",
              "    outputElement.appendChild(li);\n",
              "\n",
              "    const fileDataPromise = new Promise((resolve) => {\n",
              "      const reader = new FileReader();\n",
              "      reader.onload = (e) => {\n",
              "        resolve(e.target.result);\n",
              "      };\n",
              "      reader.readAsArrayBuffer(file);\n",
              "    });\n",
              "    // Wait for the data to be ready.\n",
              "    let fileData = yield {\n",
              "      promise: fileDataPromise,\n",
              "      response: {\n",
              "        action: 'continue',\n",
              "      }\n",
              "    };\n",
              "\n",
              "    // Use a chunked sending to avoid message size limits. See b/62115660.\n",
              "    let position = 0;\n",
              "    do {\n",
              "      const length = Math.min(fileData.byteLength - position, MAX_PAYLOAD_SIZE);\n",
              "      const chunk = new Uint8Array(fileData, position, length);\n",
              "      position += length;\n",
              "\n",
              "      const base64 = btoa(String.fromCharCode.apply(null, chunk));\n",
              "      yield {\n",
              "        response: {\n",
              "          action: 'append',\n",
              "          file: file.name,\n",
              "          data: base64,\n",
              "        },\n",
              "      };\n",
              "\n",
              "      let percentDone = fileData.byteLength === 0 ?\n",
              "          100 :\n",
              "          Math.round((position / fileData.byteLength) * 100);\n",
              "      percent.textContent = `${percentDone}% done`;\n",
              "\n",
              "    } while (position < fileData.byteLength);\n",
              "  }\n",
              "\n",
              "  // All done.\n",
              "  yield {\n",
              "    response: {\n",
              "      action: 'complete',\n",
              "    }\n",
              "  };\n",
              "}\n",
              "\n",
              "scope.google = scope.google || {};\n",
              "scope.google.colab = scope.google.colab || {};\n",
              "scope.google.colab._files = {\n",
              "  _uploadFiles,\n",
              "  _uploadFilesContinue,\n",
              "};\n",
              "})(self);\n",
              "</script> "
            ]
          },
          "metadata": {}
        },
        {
          "output_type": "stream",
          "name": "stdout",
          "text": [
            "Saving SMSSpamCollection to SMSSpamCollection\n",
            "  label                                               text\n",
            "0   ham  Go until jurong point, crazy.. Available only ...\n",
            "1   ham                      Ok lar... Joking wif u oni...\n",
            "2  spam  Free entry in 2 a wkly comp to win FA Cup fina...\n",
            "3   ham  U dun say so early hor... U c already then say...\n",
            "4   ham  Nah I don't think he goes to usf, he lives aro...\n"
          ]
        }
      ]
    },
    {
      "cell_type": "code",
      "source": [
        "#Simple example\n",
        "message = data['text'][0]  # get first message\n",
        "print(message)\n",
        "\n",
        "tokens = message.split()  # split on spaces by default\n",
        "print(tokens)"
      ],
      "metadata": {
        "id": "s3f0Z6Rgr4yV",
        "colab": {
          "base_uri": "https://localhost:8080/"
        },
        "outputId": "07baf889-389e-400a-a09c-ad2bf0c8138a"
      },
      "execution_count": null,
      "outputs": [
        {
          "output_type": "stream",
          "name": "stdout",
          "text": [
            "Go until jurong point, crazy.. Available only in bugis n great world la e buffet... Cine there got amore wat...\n",
            "['Go', 'until', 'jurong', 'point,', 'crazy..', 'Available', 'only', 'in', 'bugis', 'n', 'great', 'world', 'la', 'e', 'buffet...', 'Cine', 'there', 'got', 'amore', 'wat...']\n"
          ]
        }
      ]
    },
    {
      "cell_type": "code",
      "source": [
        "import re  #regular expression module re.sub(pattern, replacement, text)\n",
        "def tokenizer(text):\n",
        "  text = text.lower()\n",
        "  text = re.sub(r'[^a-z0-9\\s]', ' ', text)  # r=replace anything thats not=^, such as a-z or 0-9 or /s=whitespace, applied to input text\n",
        "  #brackets were getting erased and merging words so ill replace '' with ' '\n",
        "  tokens = text.split()\n",
        "  return tokens\n",
        "\n",
        "test = data['text'][1]\n",
        "print(test)\n",
        "tokenizer(test)\n",
        "print(tokenizer(test))\n",
        "#now that ive defined function tokenizer need to apply it to a for loop\n",
        "print(len(data))\n",
        "data.shape"
      ],
      "metadata": {
        "colab": {
          "base_uri": "https://localhost:8080/"
        },
        "id": "4Z7IU67ehvkn",
        "outputId": "ced90238-b0da-4c0b-96cc-fe9f9daf5cd6"
      },
      "execution_count": null,
      "outputs": [
        {
          "output_type": "stream",
          "name": "stdout",
          "text": [
            "Ok lar... Joking wif u oni...\n",
            "['ok', 'lar', 'joking', 'wif', 'u', 'oni']\n",
            "5572\n"
          ]
        },
        {
          "output_type": "execute_result",
          "data": {
            "text/plain": [
              "(5572, 2)"
            ]
          },
          "metadata": {},
          "execution_count": 13
        }
      ]
    },
    {
      "cell_type": "code",
      "source": [
        "'''  I initially had for text in data['text'] into split = tokenizer(text) that gave me a huge list, this variation below was really slow\n",
        "\n",
        "for text in data['text']:\n",
        " for i in range(len(data)): #len(data) is all the rows, data.shape=(5572,2)\n",
        "  text = data['text'][i] #this should give me 1 row at a time\n",
        "  split = tokenizer(text)\n",
        "  print(split)\n",
        "  '''"
      ],
      "metadata": {
        "colab": {
          "base_uri": "https://localhost:8080/",
          "height": 70
        },
        "id": "-xe-fV5jnLbE",
        "outputId": "a914aa1d-f777-4217-ea8c-d7542e0ac37b",
        "collapsed": true
      },
      "execution_count": null,
      "outputs": [
        {
          "output_type": "execute_result",
          "data": {
            "text/plain": [
              "\"  I initially had for text in data['text'] into split = tokenizer(text) that gave me a huge list, this variation below was really slow\\n\\nfor text in data['text']:\\n for i in range(len(data)): #len(data) is all the rows, data.shape=(5572,2)\\n  text = data['text'][i] #this should give me 1 row at a time\\n  split = tokenizer(text)\\n  print(split)\\n  \""
            ],
            "application/vnd.google.colaboratory.intrinsic+json": {
              "type": "string"
            }
          },
          "metadata": {},
          "execution_count": 14
        }
      ]
    },
    {
      "cell_type": "code",
      "source": [
        "# Loop through the first 5 rows only (spot check)\n",
        "for i in range(5):\n",
        "    original_text = data['text'][i]           # get row i from data text\n",
        "    tokens = tokenizer(original_text)         # tokenize it\n",
        "    print(f\"Original: {original_text}\")       # show raw\n",
        "    print(f\"Tokens:   {tokens}\")               # show cleaned tokens\n",
        "    print(\"-\" * 40)                            # separator for readability\n",
        "#If i wanted to tokenize everything i was doing it in loop row by row, but dataframe vectorizes as a column way more efficient using .apply()****"
      ],
      "metadata": {
        "colab": {
          "base_uri": "https://localhost:8080/"
        },
        "collapsed": true,
        "id": "CsLyR2Khm1rr",
        "outputId": "a66ee345-9b3a-406e-f642-46066f9b7c77"
      },
      "execution_count": null,
      "outputs": [
        {
          "output_type": "stream",
          "name": "stdout",
          "text": [
            "Original: Go until jurong point, crazy.. Available only in bugis n great world la e buffet... Cine there got amore wat...\n",
            "Tokens:   ['go', 'until', 'jurong', 'point', 'crazy', 'available', 'only', 'in', 'bugis', 'n', 'great', 'world', 'la', 'e', 'buffet', 'cine', 'there', 'got', 'amore', 'wat']\n",
            "----------------------------------------\n",
            "Original: Ok lar... Joking wif u oni...\n",
            "Tokens:   ['ok', 'lar', 'joking', 'wif', 'u', 'oni']\n",
            "----------------------------------------\n",
            "Original: Free entry in 2 a wkly comp to win FA Cup final tkts 21st May 2005. Text FA to 87121 to receive entry question(std txt rate)T&C's apply 08452810075over18's\n",
            "Tokens:   ['free', 'entry', 'in', '2', 'a', 'wkly', 'comp', 'to', 'win', 'fa', 'cup', 'final', 'tkts', '21st', 'may', '2005', 'text', 'fa', 'to', '87121', 'to', 'receive', 'entry', 'question', 'std', 'txt', 'rate', 't', 'c', 's', 'apply', '08452810075over18', 's']\n",
            "----------------------------------------\n",
            "Original: U dun say so early hor... U c already then say...\n",
            "Tokens:   ['u', 'dun', 'say', 'so', 'early', 'hor', 'u', 'c', 'already', 'then', 'say']\n",
            "----------------------------------------\n",
            "Original: Nah I don't think he goes to usf, he lives around here though\n",
            "Tokens:   ['nah', 'i', 'don', 't', 'think', 'he', 'goes', 'to', 'usf', 'he', 'lives', 'around', 'here', 'though']\n",
            "----------------------------------------\n"
          ]
        }
      ]
    },
    {
      "cell_type": "code",
      "source": [
        "#pandas has .sample(n= ...) this gives you n random rows, need to set random state as well\n",
        "# Get 5 random rows\n",
        "sampled_rows = data.sample(n=5, random_state=42)  # random_state, otherwise random new rows everytime its run\n",
        "\n",
        "# Loop through them\n",
        "for idx, row in sampled_rows.iterrows(): # if do for i in get columns, it's a data frame so need idx=col and row=row\n",
        "    #iterrows() tells pandas to go row over row and return both index and row; this is like a mini dictionariy\n",
        "    original_text = row['text']\n",
        "    tokens = tokenizer(original_text)\n",
        "    print(f\"Original: {original_text}\")\n",
        "    print(f\"Tokens:   {tokens}\")\n",
        "    print(\"-\" * 40)"
      ],
      "metadata": {
        "colab": {
          "base_uri": "https://localhost:8080/"
        },
        "id": "mxtc6yOfqn1Y",
        "outputId": "8d86ba0a-6928-484c-9d3a-389a4af9e73f"
      },
      "execution_count": null,
      "outputs": [
        {
          "output_type": "stream",
          "name": "stdout",
          "text": [
            "Original: Squeeeeeze!! This is christmas hug.. If u lik my frndshp den hug me back.. If u get 3 u r cute:) 6 u r luvd:* 9 u r so lucky;) None? People hate u:\n",
            "Tokens:   ['squeeeeeze', 'this', 'is', 'christmas', 'hug', 'if', 'u', 'lik', 'my', 'frndshp', 'den', 'hug', 'me', 'back', 'if', 'u', 'get', '3', 'u', 'r', 'cute', '6', 'u', 'r', 'luvd', '9', 'u', 'r', 'so', 'lucky', 'none', 'people', 'hate', 'u']\n",
            "----------------------------------------\n",
            "Original: And also I've sorta blown him off a couple times recently so id rather not text him out of the blue looking for weed\n",
            "Tokens:   ['and', 'also', 'i', 've', 'sorta', 'blown', 'him', 'off', 'a', 'couple', 'times', 'recently', 'so', 'id', 'rather', 'not', 'text', 'him', 'out', 'of', 'the', 'blue', 'looking', 'for', 'weed']\n",
            "----------------------------------------\n",
            "Original: Mmm thats better now i got a roast down me! id b better if i had a few drinks down me 2! Good indian?\n",
            "Tokens:   ['mmm', 'thats', 'better', 'now', 'i', 'got', 'a', 'roast', 'down', 'me', 'i', 'd', 'b', 'better', 'if', 'i', 'had', 'a', 'few', 'drinks', 'down', 'me', '2', 'good', 'indian']\n",
            "----------------------------------------\n",
            "Original: Mm have some kanji dont eat anything heavy ok\n",
            "Tokens:   ['mm', 'have', 'some', 'kanji', 'dont', 'eat', 'anything', 'heavy', 'ok']\n",
            "----------------------------------------\n",
            "Original: So there's a ring that comes with the guys costumes. It's there so they can gift their future yowifes. Hint hint\n",
            "Tokens:   ['so', 'there', 's', 'a', 'ring', 'that', 'comes', 'with', 'the', 'guys', 'costumes', 'it', 's', 'there', 'so', 'they', 'can', 'gift', 'their', 'future', 'yowifes', 'hint', 'hint']\n",
            "----------------------------------------\n"
          ]
        }
      ]
    },
    {
      "cell_type": "code",
      "source": [
        "#This would be more natural for me\n",
        "# Take 5 random rows\n",
        "sampled_rows = data.sample(n=5, random_state=42)\n",
        "\n",
        "# Loop by position\n",
        "for i in range(len(sampled_rows)):#len here is number of rows\n",
        "    original_text = sampled_rows.iloc[i]['text']  # grab the 'text' at position i. #iloc is integerlocation=index\n",
        "    tokens = tokenizer(original_text)\n",
        "    print(f\"Original: {original_text}\")\n",
        "    print(f\"Tokens:   {tokens}\")\n",
        "    print(\"-\" * 40)"
      ],
      "metadata": {
        "id": "G80j9MoUsmJR",
        "colab": {
          "base_uri": "https://localhost:8080/"
        },
        "outputId": "e81d2604-cc59-4e28-e52c-9911f8795441"
      },
      "execution_count": null,
      "outputs": [
        {
          "output_type": "stream",
          "name": "stdout",
          "text": [
            "Original: Squeeeeeze!! This is christmas hug.. If u lik my frndshp den hug me back.. If u get 3 u r cute:) 6 u r luvd:* 9 u r so lucky;) None? People hate u:\n",
            "Tokens:   ['squeeeeeze', 'this', 'is', 'christmas', 'hug', 'if', 'u', 'lik', 'my', 'frndshp', 'den', 'hug', 'me', 'back', 'if', 'u', 'get', '3', 'u', 'r', 'cute', '6', 'u', 'r', 'luvd', '9', 'u', 'r', 'so', 'lucky', 'none', 'people', 'hate', 'u']\n",
            "----------------------------------------\n",
            "Original: And also I've sorta blown him off a couple times recently so id rather not text him out of the blue looking for weed\n",
            "Tokens:   ['and', 'also', 'i', 've', 'sorta', 'blown', 'him', 'off', 'a', 'couple', 'times', 'recently', 'so', 'id', 'rather', 'not', 'text', 'him', 'out', 'of', 'the', 'blue', 'looking', 'for', 'weed']\n",
            "----------------------------------------\n",
            "Original: Mmm thats better now i got a roast down me! id b better if i had a few drinks down me 2! Good indian?\n",
            "Tokens:   ['mmm', 'thats', 'better', 'now', 'i', 'got', 'a', 'roast', 'down', 'me', 'i', 'd', 'b', 'better', 'if', 'i', 'had', 'a', 'few', 'drinks', 'down', 'me', '2', 'good', 'indian']\n",
            "----------------------------------------\n",
            "Original: Mm have some kanji dont eat anything heavy ok\n",
            "Tokens:   ['mm', 'have', 'some', 'kanji', 'dont', 'eat', 'anything', 'heavy', 'ok']\n",
            "----------------------------------------\n",
            "Original: So there's a ring that comes with the guys costumes. It's there so they can gift their future yowifes. Hint hint\n",
            "Tokens:   ['so', 'there', 's', 'a', 'ring', 'that', 'comes', 'with', 'the', 'guys', 'costumes', 'it', 's', 'there', 'so', 'they', 'can', 'gift', 'their', 'future', 'yowifes', 'hint', 'hint']\n",
            "----------------------------------------\n"
          ]
        }
      ]
    },
    {
      "cell_type": "code",
      "source": [
        "#in text column apply tokenizer function to the entire column to make a new column called tokens | Here data[text] is a Series, presevers index\n",
        "data['tokens'] = data['text'].apply(tokenizer)\n",
        "print(data.head())"
      ],
      "metadata": {
        "colab": {
          "base_uri": "https://localhost:8080/"
        },
        "id": "hHl_Q8AIwKvc",
        "outputId": "f5698109-69a1-49c5-d9c1-db4f99e1b0ad"
      },
      "execution_count": null,
      "outputs": [
        {
          "output_type": "stream",
          "name": "stdout",
          "text": [
            "  label                                               text  \\\n",
            "0   ham  Go until jurong point, crazy.. Available only ...   \n",
            "1   ham                      Ok lar... Joking wif u oni...   \n",
            "2  spam  Free entry in 2 a wkly comp to win FA Cup fina...   \n",
            "3   ham  U dun say so early hor... U c already then say...   \n",
            "4   ham  Nah I don't think he goes to usf, he lives aro...   \n",
            "\n",
            "                                              tokens  \n",
            "0  [go, until, jurong, point, crazy, available, o...  \n",
            "1                     [ok, lar, joking, wif, u, oni]  \n",
            "2  [free, entry, in, 2, a, wkly, comp, to, win, f...  \n",
            "3  [u, dun, say, so, early, hor, u, c, already, t...  \n",
            "4  [nah, i, don, t, think, he, goes, to, usf, he,...  \n"
          ]
        }
      ]
    },
    {
      "cell_type": "code",
      "source": [
        "#.copy() ensures new objects are independent so im not distoring original data\n",
        "y = data['label'].copy() #target\n",
        "print(y.head())\n",
        "'''\n",
        "X = data['tokens'].copy() #features\n",
        "print(X.head())\n",
        "#alternatively could do X = data.drop('label', axis=1) axis=1 means drop column, without by defualt it assumes axis=0 and will try to drop a row\n",
        "'''"
      ],
      "metadata": {
        "colab": {
          "base_uri": "https://localhost:8080/",
          "height": 157
        },
        "id": "RJPNEzQGx2H4",
        "outputId": "0035dbe2-66ff-46a4-cf44-f490e956f33e"
      },
      "execution_count": null,
      "outputs": [
        {
          "output_type": "stream",
          "name": "stdout",
          "text": [
            "0     ham\n",
            "1     ham\n",
            "2    spam\n",
            "3     ham\n",
            "4     ham\n",
            "Name: label, dtype: object\n"
          ]
        },
        {
          "output_type": "execute_result",
          "data": {
            "text/plain": [
              "\"\\nX = data['tokens'].copy() #features\\nprint(X.head())\\n#alternatively could do X = data.drop('label', axis=1) axis=1 means drop column, without by defualt it assumes axis=0 and will try to drop a row\\n\""
            ],
            "application/vnd.google.colaboratory.intrinsic+json": {
              "type": "string"
            }
          },
          "metadata": {},
          "execution_count": 19
        }
      ]
    },
    {
      "cell_type": "code",
      "source": [
        "#Need to build a dict to map each unique token to a number, then vectorize each message that counts how many times a word appears"
      ],
      "metadata": {
        "id": "YGegy_MvyB7I"
      },
      "execution_count": null,
      "outputs": []
    },
    {
      "cell_type": "code",
      "source": [
        "print(data.head())"
      ],
      "metadata": {
        "colab": {
          "base_uri": "https://localhost:8080/"
        },
        "id": "l8vBg3rupgaN",
        "outputId": "fa4ec38b-15a5-49f3-9e44-3d77624b9529"
      },
      "execution_count": null,
      "outputs": [
        {
          "output_type": "stream",
          "name": "stdout",
          "text": [
            "  label                                               text  \\\n",
            "0   ham  Go until jurong point, crazy.. Available only ...   \n",
            "1   ham                      Ok lar... Joking wif u oni...   \n",
            "2  spam  Free entry in 2 a wkly comp to win FA Cup fina...   \n",
            "3   ham  U dun say so early hor... U c already then say...   \n",
            "4   ham  Nah I don't think he goes to usf, he lives aro...   \n",
            "\n",
            "                                              tokens  \n",
            "0  [go, until, jurong, point, crazy, available, o...  \n",
            "1                     [ok, lar, joking, wif, u, oni]  \n",
            "2  [free, entry, in, 2, a, wkly, comp, to, win, f...  \n",
            "3  [u, dun, say, so, early, hor, u, c, already, t...  \n",
            "4  [nah, i, don, t, think, he, goes, to, usf, he,...  \n"
          ]
        }
      ]
    },
    {
      "cell_type": "code",
      "source": [
        "all_tokens = [] #initialize empty list\n",
        "for tokens_list in data['tokens']: #here for tokens_list, is a row in the data[tokens] column/seres, id rename\n",
        "    for token in tokens_list: #then get all specific tokens from the row\n",
        "        all_tokens.append(token) #add tokens to original list\n",
        "print(all_tokens[:10])"
      ],
      "metadata": {
        "colab": {
          "base_uri": "https://localhost:8080/"
        },
        "id": "vIg-PpwRpgci",
        "outputId": "cf755695-16c6-4347-9b3d-db59077f5abf"
      },
      "execution_count": null,
      "outputs": [
        {
          "output_type": "stream",
          "name": "stdout",
          "text": [
            "['go', 'until', 'jurong', 'point', 'crazy', 'available', 'only', 'in', 'bugis', 'n']\n"
          ]
        }
      ]
    },
    {
      "cell_type": "code",
      "source": [
        "# quick check: what types live in the column?\n",
        "data['tokens'].apply(type).value_counts() #.apply acts on the entire column, type is inbuilt for within series, value_counts() gives number of unique val=rows"
      ],
      "metadata": {
        "colab": {
          "base_uri": "https://localhost:8080/",
          "height": 146
        },
        "id": "iuYxOfwKrade",
        "outputId": "af6372b1-9c72-46fe-97eb-d2d0de8c81b5"
      },
      "execution_count": null,
      "outputs": [
        {
          "output_type": "execute_result",
          "data": {
            "text/plain": [
              "tokens\n",
              "<class 'list'>    5572\n",
              "Name: count, dtype: int64"
            ],
            "text/html": [
              "<div>\n",
              "<style scoped>\n",
              "    .dataframe tbody tr th:only-of-type {\n",
              "        vertical-align: middle;\n",
              "    }\n",
              "\n",
              "    .dataframe tbody tr th {\n",
              "        vertical-align: top;\n",
              "    }\n",
              "\n",
              "    .dataframe thead th {\n",
              "        text-align: right;\n",
              "    }\n",
              "</style>\n",
              "<table border=\"1\" class=\"dataframe\">\n",
              "  <thead>\n",
              "    <tr style=\"text-align: right;\">\n",
              "      <th></th>\n",
              "      <th>count</th>\n",
              "    </tr>\n",
              "    <tr>\n",
              "      <th>tokens</th>\n",
              "      <th></th>\n",
              "    </tr>\n",
              "  </thead>\n",
              "  <tbody>\n",
              "    <tr>\n",
              "      <th>&lt;class 'list'&gt;</th>\n",
              "      <td>5572</td>\n",
              "    </tr>\n",
              "  </tbody>\n",
              "</table>\n",
              "</div><br><label><b>dtype:</b> int64</label>"
            ]
          },
          "metadata": {},
          "execution_count": 23
        }
      ]
    },
    {
      "cell_type": "code",
      "source": [
        "from collections import Counter #counter is dict subclass from module\n",
        "token_counts = Counter(all_tokens) #key=unique token and value=number of repeats\n",
        "token_counts.most_common(20) #most_common(n) returns n most frequent items as a list of (token,count) tuples from dictionary\n",
        "#auto sorted from most frequent to least"
      ],
      "metadata": {
        "colab": {
          "base_uri": "https://localhost:8080/"
        },
        "id": "Q61zMDn0tDRX",
        "outputId": "c741e623-0040-46a3-dcaf-002cda176e2d"
      },
      "execution_count": null,
      "outputs": [
        {
          "output_type": "execute_result",
          "data": {
            "text/plain": [
              "[('i', 3021),\n",
              " ('to', 2253),\n",
              " ('you', 2245),\n",
              " ('a', 1450),\n",
              " ('the', 1339),\n",
              " ('u', 1207),\n",
              " ('and', 980),\n",
              " ('in', 903),\n",
              " ('is', 897),\n",
              " ('me', 807),\n",
              " ('my', 766),\n",
              " ('it', 752),\n",
              " ('for', 711),\n",
              " ('your', 681),\n",
              " ('of', 623),\n",
              " ('call', 593),\n",
              " ('that', 586),\n",
              " ('s', 580),\n",
              " ('have', 578),\n",
              " ('on', 538)]"
            ]
          },
          "metadata": {},
          "execution_count": 24
        }
      ]
    },
    {
      "cell_type": "code",
      "source": [
        "vocab = []\n",
        "count_vocab = []\n",
        "for token_count in token_counts.most_common():\n",
        "  token = token_count[0]\n",
        "  count = token_count[1]\n",
        "  vocab.append(token)\n",
        "  count_vocab.append(count)\n",
        "print(count_vocab[:10])\n",
        "print(vocab[:10])\n",
        "print(len(vocab)) #unique number of tokens"
      ],
      "metadata": {
        "colab": {
          "base_uri": "https://localhost:8080/"
        },
        "id": "DhWhKHxDv2VZ",
        "outputId": "1c3f6249-e692-43f7-a056-c9ea23198577"
      },
      "execution_count": null,
      "outputs": [
        {
          "output_type": "stream",
          "name": "stdout",
          "text": [
            "[3021, 2253, 2245, 1450, 1339, 1207, 980, 903, 897, 807]\n",
            "['i', 'to', 'you', 'a', 'the', 'u', 'and', 'in', 'is', 'me']\n",
            "8745\n"
          ]
        }
      ]
    },
    {
      "cell_type": "code",
      "source": [
        "#Make a dictionary using list of tokens to create an index of basis vectors\n",
        "token2idx = {}\n",
        "\n",
        "for idx, token in enumerate(vocab): #I need to specify idx and token as key and value in dictionary, enumerate is built in fxn it adds counter as key for my list\n",
        "  token2idx[token] = idx # 0 index maps to vocab[0] and adds it\n",
        "print(token2idx)"
      ],
      "metadata": {
        "colab": {
          "base_uri": "https://localhost:8080/"
        },
        "id": "9aEmWHkl0sQU",
        "outputId": "643c9cf1-1514-4a5c-dea7-b7c64046027d"
      },
      "execution_count": null,
      "outputs": [
        {
          "output_type": "stream",
          "name": "stdout",
          "text": [
            "{'i': 0, 'to': 1, 'you': 2, 'a': 3, 'the': 4, 'u': 5, 'and': 6, 'in': 7, 'is': 8, 'me': 9, 'my': 10, 'it': 11, 'for': 12, 'your': 13, 'of': 14, 'call': 15, 'that': 16, 's': 17, 'have': 18, 'on': 19, '2': 20, 'now': 21, 'are': 22, 't': 23, 'can': 24, 'so': 25, 'but': 26, 'not': 27, 'm': 28, 'or': 29, 'do': 30, 'we': 31, 'at': 32, 'ur': 33, 'get': 34, 'will': 35, 'if': 36, 'be': 37, 'with': 38, 'just': 39, 'no': 40, 'this': 41, '4': 42, 'gt': 43, 'lt': 44, 'how': 45, 'up': 46, 'when': 47, 'ok': 48, 'what': 49, 'free': 50, 'from': 51, 'go': 52, 'all': 53, 'out': 54, 'll': 55, 'know': 56, 'like': 57, 'good': 58, 'then': 59, 'got': 60, 'there': 61, 'day': 62, 'come': 63, 'he': 64, 'was': 65, 'its': 66, 'am': 67, 'time': 68, 'only': 69, 'love': 70, 'send': 71, 'want': 72, 'text': 73, 'as': 74, 'txt': 75, 'one': 76, '1': 77, 'by': 78, 'going': 79, 'don': 80, 'need': 81, 'home': 82, 'she': 83, 'about': 84, 'r': 85, 'lor': 86, 'today': 87, 'sorry': 88, 'stop': 89, 'see': 90, 'still': 91, 'n': 92, 'back': 93, 'da': 94, 'our': 95, 'dont': 96, 'reply': 97, 'k': 98, 'd': 99, 'mobile': 100, 'take': 101, 'hi': 102, 'tell': 103, 'they': 104, 'new': 105, 'please': 106, 'later': 107, 'her': 108, 'pls': 109, 'any': 110, 'think': 111, 'did': 112, 'been': 113, 'week': 114, 'phone': 115, 'here': 116, 'dear': 117, 'c': 118, 'who': 119, 'some': 120, 'well': 121, 'where': 122, 'has': 123, 're': 124, 'night': 125, 'much': 126, 'great': 127, 'oh': 128, 'an': 129, 'hope': 130, 'claim': 131, 'hey': 132, 'msg': 133, 'him': 134, 'more': 135, 'too': 136, 'happy': 137, 'wat': 138, '3': 139, 'had': 140, 'yes': 141, 'give': 142, 'make': 143, 'way': 144, 'work': 145, 'www': 146, 've': 147, 'e': 148, 'should': 149, 'number': 150, 'message': 151, 'won': 152, 'say': 153, 'prize': 154, 'tomorrow': 155, 'right': 156, 'already': 157, 'after': 158, 'ask': 159, 'said': 160, 'cash': 161, 'b': 162, 'amp': 163, 'doing': 164, 'yeah': 165, 'really': 166, 'im': 167, 'why': 168, 'life': 169, 'meet': 170, 'them': 171, 'find': 172, 'miss': 173, 'very': 174, 'let': 175, 'morning': 176, 'babe': 177, 'last': 178, 'thanks': 179, 'win': 180, 'anything': 181, 'would': 182, 'cos': 183, 'uk': 184, 'lol': 185, 'also': 186, 'care': 187, 'every': 188, '150p': 189, 'com': 190, 'sure': 191, 'pick': 192, 'urgent': 193, 'nokia': 194, 'sent': 195, 'keep': 196, 'something': 197, 'over': 198, 'contact': 199, 'us': 200, 'again': 201, 'buy': 202, 'min': 203, 'gud': 204, 'wait': 205, 'cant': 206, 'before': 207, 'first': 208, '5': 209, 'even': 210, 'his': 211, 'someone': 212, '50': 213, 'next': 214, 'feel': 215, 'were': 216, 'nice': 217, 'went': 218, 'thing': 219, 'around': 220, 'soon': 221, 'which': 222, 'off': 223, 'tonight': 224, 'could': 225, 'place': 226, 'money': 227, 'service': 228, 'tone': 229, 'late': 230, 'many': 231, 'per': 232, 'customer': 233, 'gonna': 234, 'help': 235, 'always': 236, 'chat': 237, 'ya': 238, 'sleep': 239, 'x': 240, 'sms': 241, 'leave': 242, 'co': 243, 'down': 244, 'dun': 245, 'friends': 246, 'v': 247, 'other': 248, 'wan': 249, '16': 250, 'things': 251, 'told': 252, 'wish': 253, 'hello': 254, 'special': 255, 'waiting': 256, 'may': 257, 'fine': 258, 'try': 259, 'friend': 260, '18': 261, 'haha': 262, 'coming': 263, 'name': 264, 'getting': 265, 'done': 266, 'year': 267, 'same': 268, 'guaranteed': 269, 'yet': 270, 'people': 271, 'thk': 272, 'use': 273, '6': 274, 'heart': 275, 'didn': 276, 'best': 277, 'mins': 278, 'thought': 279, 'holiday': 280, '7': 281, 'god': 282, 'lunch': 283, 'live': 284, 'man': 285, 'y': 286, 'talk': 287, 'stuff': 288, 'bit': 289, 'class': 290, 'smile': 291, 'person': 292, 'being': 293, 'never': 294, 'draw': 295, 'few': 296, '500': 297, 'cs': 298, 'days': 299, 'yup': 300, 'trying': 301, 'meeting': 302, 'thats': 303, 'cool': 304, 'job': 305, 'better': 306, 'house': 307, 'ill': 308, 'line': 309, 'finish': 310, 'long': 311, 'ready': 312, 'having': 313, 'mind': 314, '100': 315, 'cost': 316, 'car': 317, 'end': 318, '1000': 319, '10': 320, 'dat': 321, 'wk': 322, 'account': 323, 'enjoy': 324, 'latest': 325, 'month': 326, 'half': 327, 'play': 328, 'check': 329, 'real': 330, 'yo': 331, 'lot': 332, 'sir': 333, 'because': 334, 'than': 335, 'chance': 336, 'world': 337, 'lar': 338, 'receive': 339, 'word': 340, 'camera': 341, 'eat': 342, 'awarded': 343, 'wanna': 344, 'box': 345, 'nothing': 346, 'guess': 347, 'luv': 348, 'start': 349, 'problem': 350, '1st': 351, 'another': 352, 'bt': 353, 'liao': 354, 'guys': 355, 'big': 356, 'shit': 357, 'dinner': 358, 'sweet': 359, 'ah': 360, 'birthday': 361, 'shows': 362, 'girl': 363, 'into': 364, 'xxx': 365, 'po': 366, 'jus': 367, 'g': 368, 'might': 369, 'ever': 370, 'quite': 371, 'wont': 372, 'watching': 373, 'room': 374, '150ppm': 375, 'landline': 376, 'offer': 377, 'video': 378, 'early': 379, 'speak': 380, 'weekend': 381, 'once': 382, 'pa': 383, 'aight': 384, 'tv': 385, 'called': 386, 'watch': 387, 'two': 388, 'probably': 389, 'rate': 390, 'apply': 391, '9': 392, 'remember': 393, 'pay': 394, 'left': 395, 'does': 396, 'ringtone': 397, 'calls': 398, 'maybe': 399, 'hear': 400, 'bed': 401, 'forgot': 402, 'boy': 403, 'thanx': 404, 'plan': 405, 'shall': 406, 'minutes': 407, 'sat': 408, 'actually': 409, 'den': 410, 'bad': 411, 'princess': 412, 'fun': 413, 'code': 414, 'look': 415, 'part': 416, 'between': 417, 'easy': 418, 'reach': 419, 'shopping': 420, 'baby': 421, 'made': 422, 'dunno': 423, 'orange': 424, 'office': 425, 'kiss': 426, '2nd': 427, 'dis': 428, 'anyway': 429, 'little': 430, 'leh': 431, 'face': 432, 'everything': 433, 'didnt': 434, 'hour': 435, 'network': 436, 'selected': 437, 'enough': 438, '000': 439, 'thank': 440, 'bus': 441, 'looking': 442, 'award': 443, 'those': 444, 'working': 445, 'true': 446, 'put': 447, '8': 448, 'fuck': 449, 'wife': 450, 'dad': 451, 'town': 452, 'most': 453, 'afternoon': 454, 'without': 455, 'missing': 456, 'tmr': 457, 'evening': 458, 'collect': 459, 'asked': 460, 'texts': 461, 'while': 462, 'until': 463, 'wif': 464, 'though': 465, 'wanted': 466, 'since': 467, 'pain': 468, 'came': 469, 'okay': 470, 'says': 471, 'must': 472, 'school': 473, 'join': 474, 'mail': 475, 'sexy': 476, 'xmas': 477, 'important': 478, 'details': 479, 'entry': 480, 'goes': 481, 'update': 482, 'means': 483, 'abt': 484, 'til': 485, 'able': 486, 'hav': 487, 'wake': 488, 'guy': 489, 'tones': 490, 'wot': 491, 'bring': 492, 'collection': 493, 'times': 494, 'messages': 495, 'missed': 496, 'mob': 497, 'wen': 498, 'haven': 499, '5000': 500, 'show': 501, 'price': 502, 'juz': 503, '2000': 504, 'years': 505, 'decimal': 506, 'plz': 507, 'de': 508, 'away': 509, 'gift': 510, 'plus': 511, 'valid': 512, 'alright': 513, 'till': 514, 'saw': 515, 'yesterday': 516, 'hair': 517, 'havent': 518, 'else': 519, 'worry': 520, 'shop': 521, '10p': 522, 'music': 523, 'weekly': 524, 'bored': 525, 'attempt': 526, 'colour': 527, 'net': 528, 'words': 529, 'yours': 530, 'double': 531, 'run': 532, 'making': 533, 'food': 534, 'haf': 535, 'coz': 536, 'id': 537, 'oso': 538, 'hurt': 539, 'book': 540, 'dude': 541, 'stay': 542, 'these': 543, 'o': 544, 'online': 545, 'makes': 546, 'lei': 547, 'question': 548, 'national': 549, 'ard': 550, 'tried': 551, 'delivery': 552, 'yourself': 553, 'driving': 554, 'test': 555, 'address': 556, 'answer': 557, 'top': 558, 'nite': 559, 'hot': 560, 'friendship': 561, 'change': 562, 'feeling': 563, 'either': 564, '800': 565, 'sch': 566, 'family': 567, 'goin': 568, 'dreams': 569, 'hours': 570, 'date': 571, 'http': 572, 'bonus': 573, 'trip': 574, 'comes': 575, 'movie': 576, 'busy': 577, 'todays': 578, 'nt': 579, 'order': 580, 'believe': 581, 'both': 582, 'vouchers': 583, 'wid': 584, 'full': 585, 'calling': 586, 'tot': 587, 'beautiful': 588, 'sae': 589, 'lose': 590, 'game': 591, 'together': 592, 'wants': 593, '8007': 594, 'sad': 595, 'brother': 596, 'set': 597, 'smiling': 598, 'mean': 599, 'old': 600, 'points': 601, 'leaving': 602, 'story': 603, 'sleeping': 604, 'noe': 605, 'happen': 606, 'walk': 607, 'ring': 608, 'club': 609, 'charge': 610, 'games': 611, 'chikku': 612, 'huh': 613, 'eve': 614, 'saying': 615, 'drive': 616, 'await': 617, 'pounds': 618, 'news': 619, 'aft': 620, 'doesn': 621, 'tomo': 622, 'congrats': 623, 'took': 624, 'finished': 625, 'started': 626, 'private': 627, 'gr8': 628, 'awesome': 629, 'minute': 630, 'wil': 631, '750': 632, '86688': 633, 'okie': 634, 'post': 635, 'row': 636, 'poly': 637, 'pm': 638, 'head': 639, 'thinking': 640, 'simple': 641, 'pics': 642, 'mum': 643, 'email': 644, 'rite': 645, 'pic': 646, 'available': 647, 'final': 648, 'tho': 649, 'forget': 650, 'second': 651, 'xx': 652, 'close': 653, 'cause': 654, 'services': 655, 'taking': 656, 'everyone': 657, 'smoke': 658, 'touch': 659, 'angry': 660, 'unsubscribe': 661, 'lets': 662, 'drink': 663, '250': 664, 'land': 665, 'gd': 666, '150': 667, 'mine': 668, 'neva': 669, 'pub': 670, 'anyone': 671, 'drop': 672, 'auction': 673, '11': 674, 'lesson': 675, 'lucky': 676, 'search': 677, '12hrs': 678, 'statement': 679, 'expires': 680, 'msgs': 681, 'open': 682, 'whats': 683, 'lots': 684, 'parents': 685, 'each': 686, 'carlos': 687, 'worth': 688, 'sis': 689, 'found': 690, 'break': 691, 'sounds': 692, 'company': 693, 'choose': 694, 'card': 695, 'w': 696, 'sister': 697, 'dating': 698, 'opt': 699, 'whatever': 700, 'voucher': 701, 'knw': 702, 'loving': 703, 'alone': 704, 'treat': 705, 'winner': 706, 'info': 707, 'pobox': 708, 'wonderful': 709, 'ha': 710, 'smth': 711, 'mom': 712, 'saturday': 713, 'decided': 714, '08000930705': 715, 'girls': 716, 'prob': 717, 'gone': 718, 'happened': 719, 'identifier': 720, 'type': 721, 'ni8': 722, 'ltd': 723, 'hard': 724, 'frnd': 725, 'needs': 726, 'boytoy': 727, 'college': 728, 'takes': 729, 'anytime': 730, 'far': 731, 'mobileupd8': 732, 'bout': 733, 'kind': 734, 'visit': 735, 'fast': 736, 'sun': 737, 'hows': 738, 'crazy': 739, 'camcorder': 740, 'used': 741, 'hit': 742, 'operator': 743, 'friday': 744, '350': 745, 'quiz': 746, 'player': 747, 'hand': 748, 'content': 749, 'wit': 750, 'finally': 751, 'mrng': 752, 'darlin': 753, 'rs': 754, 'goodmorning': 755, 'oredi': 756, 'secret': 757, 'tel': 758, 'congratulations': 759, 'hold': 760, 'read': 761, 'light': 762, 'suite342': 763, '2lands': 764, '08000839402': 765, 'fucking': 766, 'nope': 767, 'outside': 768, 'fri': 769, 'pretty': 770, 'sea': 771, 'weeks': 772, 'lovely': 773, 'mates': 774, 'wrong': 775, 'party': 776, 'nyt': 777, 'chennai': 778, '30': 779, 'wkly': 780, 'freemsg': 781, 'sunday': 782, 'credit': 783, 'hungry': 784, 'seeing': 785, 'telling': 786, 'whole': 787, 'frnds': 788, 'isn': 789, 'hmm': 790, 'mu': 791, 'yr': 792, 'their': 793, 'f': 794, 'fancy': 795, 'bank': 796, 'log': 797, 'course': 798, 'tc': 799, 'thinks': 800, 'case': 801, 'meant': 802, 'fr': 803, 'unlimited': 804, 'blue': 805, 'fone': 806, 'jay': 807, 'project': 808, 'reason': 809, 'ten': 810, 'welcome': 811, 'cum': 812, 'frm': 813, 'savamob': 814, 'offers': 815, 'listen': 816, 'snow': 817, 'b4': 818, 'mate': 819, 'least': 820, 'earlier': 821, 'wasn': 822, 'point': 823, 'press': 824, 'valued': 825, 'almost': 826, 'etc': 827, 'cut': 828, 'hee': 829, 'download': 830, '0800': 831, 'mah': 832, 'felt': 833, 'invited': 834, 'caller': 835, '03': 836, 'numbers': 837, 'age': 838, 'tired': 839, 'hmmm': 840, 'mr': 841, 'balance': 842, 'march': 843, 'side': 844, '87066': 845, 'dnt': 846, 'stupid': 847, 'bslvyl': 848, 'lost': 849, 'christmas': 850, 'reading': 851, 'txts': 852, 'ago': 853, 'currently': 854, 'motorola': 855, 'talking': 856, 'couple': 857, 'phones': 858, 'ass': 859, 'india': 860, 'park': 861, 'within': 862, '2003': 863, 'un': 864, 'yar': 865, 'happiness': 866, 'area': 867, 'sex': 868, 'mayb': 869, 'understand': 870, 'knew': 871, 'gn': 872, 'support': 873, 'na': 874, 'p': 875, 'luck': 876, 'enter': 877, 'john': 878, 'gas': 879, 'father': 880, 'comp': 881, '12': 882, 'mobiles': 883, '20': 884, 'eh': 885, 'charged': 886, 'confirm': 887, 'wow': 888, 'ac': 889, 'red': 890, 'correct': 891, 'pass': 892, 'song': 893, 'complimentary': 894, 'gotta': 895, 'loads': 896, 'computer': 897, 'askd': 898, 'uncle': 899, 'sending': 900, 'direct': 901, 'joy': 902, 'semester': 903, 'bcoz': 904, 'reveal': 905, 'laptop': 906, 'questions': 907, 'swing': 908, 'ge': 909, 'ends': 910, 'die': 911, '200': 912, 'via': 913, 'met': 914, 'st': 915, 'call2optout': 916, 'seen': 917, 'rental': 918, 'th': 919, 'supposed': 920, 'doin': 921, 'ipod': 922, 'redeemed': 923, '04': 924, 'through': 925, 'gym': 926, 'darren': 927, 'sound': 928, 'ans': 929, 'picking': 930, 'ugh': 931, 'extra': 932, 'heard': 933, 'information': 934, 'surprise': 935, 'grins': 936, 'gal': 937, 'difficult': 938, 'std': 939, 'usf': 940, 'reward': 941, 'wap': 942, 'eg': 943, 'comin': 944, 'abiola': 945, 'crave': 946, 'gets': 947, 'move': 948, 'checking': 949, 'rply': 950, 'shower': 951, 'entered': 952, 'match': 953, 'dogging': 954, 'txting': 955, 'lovable': 956, 'wine': 957, 'dream': 958, 'safe': 959, 'muz': 960, 'bath': 961, 'orchard': 962, 'kate': 963, 'exam': 964, 'own': 965, 'wana': 966, 'somebody': 967, 'rest': 968, 'pete': 969, 'plans': 970, 'small': 971, 'weed': 972, 'ex': 973, 'hg': 974, 'w1j6hl': 975, 'discount': 976, 'slow': 977, 'rock': 978, 'yep': 979, 'asking': 980, 'remove': 981, 'monday': 982, 'blood': 983, 'clean': 984, 'noon': 985, 'paper': 986, 'sell': 987, 'store': 988, 'wonder': 989, 'whenever': 990, 'sort': 991, 'asap': 992, 'truth': 993, 'feels': 994, 'nobody': 995, 'loved': 996, 'slowly': 997, 'police': 998, 'nah': 999, 'callertune': 1000, '900': 1001, 'months': 1002, 'link': 1003, 'england': 1004, 'myself': 1005, 'worried': 1006, 'knows': 1007, 'oops': 1008, 'hospital': 1009, 'reached': 1010, 'forever': 1011, 'save': 1012, 'tickets': 1013, 'il': 1014, 'representative': 1015, 'gave': 1016, 'rates': 1017, 'del': 1018, 'sony': 1019, 'pray': 1020, 'spend': 1021, 'bathe': 1022, 'bill': 1023, 'study': 1024, 'street': 1025, 'admirer': 1026, 'deep': 1027, 'leaves': 1028, 'hmv': 1029, 'usual': 1030, 'tonite': 1031, 'somewhere': 1032, 'normal': 1033, 'merry': 1034, 'immediately': 1035, 'custcare': 1036, 'figure': 1037, 'rakhesh': 1038, 'moment': 1039, 'woke': 1040, 'mm': 1041, 'voice': 1042, 'ldn': 1043, 'booked': 1044, 'different': 1045, 'terms': 1046, 'water': 1047, 'near': 1048, 'less': 1049, '00': 1050, 'sub': 1051, 'hoping': 1052, 'across': 1053, 'warm': 1054, 'cheap': 1055, 'kids': 1056, 'em': 1057, 'ts': 1058, 'drugs': 1059, 'laugh': 1060, 'king': 1061, 'fantastic': 1062, 'glad': 1063, 'wishing': 1064, 'getzed': 1065, 'gettin': 1066, 'poor': 1067, 'otherwise': 1068, 'ntt': 1069, 'convey': 1070, 'film': 1071, 'energy': 1072, '2nite': 1073, 'ringtones': 1074, 'write': 1075, 'fact': 1076, 'hw': 1077, 'empty': 1078, 'cup': 1079, 'copy': 1080, 'promise': 1081, 'seriously': 1082, 'sick': 1083, 'catch': 1084, 'decide': 1085, 'ice': 1086, 'situation': 1087, 'short': 1088, 'rain': 1089, 'coffee': 1090, 'men': 1091, 'boss': 1092, 'specially': 1093, 'ending': 1094, 'buying': 1095, 'sunshine': 1096, 'lazy': 1097, 'lect': 1098, 'completely': 1099, 'staying': 1100, 'doesnt': 1101, 'especially': 1102, 'studying': 1103, 'trust': 1104, 'using': 1105, 'deal': 1106, 'itself': 1107, 'dead': 1108, 'mrt': 1109, 'ive': 1110, 'lessons': 1111, 'goodnight': 1112, 'cd': 1113, 'ldew': 1114, 'lover': 1115, 'disturb': 1116, 'credits': 1117, 'worries': 1118, 'unless': 1119, '4u': 1120, 'accept': 1121, '2day': 1122, '11mths': 1123, 'access': 1124, 'valentines': 1125, 'urself': 1126, 'bluetooth': 1127, 'brings': 1128, 'al': 1129, 'none': 1130, 'starts': 1131, 'kinda': 1132, 'loan': 1133, 'meh': 1134, 'rent': 1135, 'silent': 1136, 'children': 1137, 'age16': 1138, 'self': 1139, 'train': 1140, 'valentine': 1141, 'forwarded': 1142, 'starting': 1143, 'ho': 1144, 'xy': 1145, 'seems': 1146, 'eyes': 1147, 'possible': 1148, 'summer': 1149, 'ones': 1150, 'comuk': 1151, 'charity': 1152, 'tampa': 1153, 'user': 1154, 'iam': 1155, 'mo': 1156, 'against': 1157, 'hiya': 1158, 'doctor': 1159, 'mon': 1160, 'mode': 1161, 'wondering': 1162, 'others': 1163, 'bb': 1164, 'tht': 1165, 'reaching': 1166, '20p': 1167, 'moral': 1168, 'excellent': 1169, 'thinkin': 1170, 'sitting': 1171, 'flag': 1172, 'colleagues': 1173, 'sofa': 1174, 'request': 1175, 'entitled': 1176, 'anymore': 1177, '87077': 1178, 'mark': 1179, 'pizza': 1180, 'cheers': 1181, 'quick': 1182, 'replying': 1183, 'nigeria': 1184, 'cinema': 1185, 'ip4': 1186, '5we': 1187, 'stand': 1188, 'spent': 1189, 'trouble': 1190, 'hurts': 1191, 'loves': 1192, 'planning': 1193, 'ave': 1194, 'umma': 1195, 'wishes': 1196, 'weekends': 1197, 'weight': 1198, 'apartment': 1199, 'inc': 1200, 'paying': 1201, '2004': 1202, 'bak': 1203, 'dvd': 1204, 'sp': 1205, 'swt': 1206, 'sometimes': 1207, 'goto': 1208, 'freephone': 1209, 'joined': 1210, 'however': 1211, 'slept': 1212, 'sign': 1213, 'road': 1214, 'kick': 1215, 'lemme': 1216, 'rose': 1217, 'power': 1218, 'cake': 1219, 'fixed': 1220, 'rcvd': 1221, 'wiv': 1222, 'interested': 1223, 'round': 1224, 'fault': 1225, 'reference': 1226, 'mistake': 1227, 'facebook': 1228, 'fullonsms': 1229, 'yahoo': 1230, 'aha': 1231, '3030': 1232, 'funny': 1233, 'giving': 1234, 'din': 1235, 'thru': 1236, 'style': 1237, 'opinion': 1238, 'realy': 1239, '02': 1240, 'member': 1241, 'single': 1242, 'fingers': 1243, '50p': 1244, 'workin': 1245, 'daddy': 1246, 'door': 1247, 'pound': 1248, 'ar': 1249, 'future': 1250, 'alex': 1251, 'longer': 1252, '25p': 1253, 'matches': 1254, 'pc': 1255, 'tuesday': 1256, 'bedroom': 1257, 'idea': 1258, 'add': 1259, 'library': 1260, 'slave': 1261, 'omg': 1262, 'no1': 1263, 'moon': 1264, 'polys': 1265, 'yrs': 1266, 'training': 1267, 'sale': 1268, 'gay': 1269, '08712460324': 1270, 'registered': 1271, 'medical': 1272, 'miracle': 1273, 'j': 1274, 'during': 1275, 'movies': 1276, 'digital': 1277, 'black': 1278, 'awaiting': 1279, 'cancel': 1280, 'cute': 1281, 'complete': 1282, 'honey': 1283, 'picked': 1284, 'vl': 1285, 'frens': 1286, '0870': 1287, 'cover': 1288, '06': 1289, 'south': 1290, 'inside': 1291, 'wednesday': 1292, 'pix': 1293, 'mood': 1294, 'bugis': 1295, 'la': 1296, 'cine': 1297, 'click': 1298, 'naughty': 1299, 'team': 1300, 'sucks': 1301, 'tea': 1302, 'eating': 1303, 'learn': 1304, 'ahead': 1305, 'kept': 1306, 'liked': 1307, 'bx420': 1308, 'joke': 1309, 'wun': 1310, 'following': 1311, 'ta': 1312, 'pleasure': 1313, '10am': 1314, 'password': 1315, 'changed': 1316, 'cuz': 1317, 'page': 1318, 'eatin': 1319, 'bother': 1320, 'country': 1321, '82277': 1322, 'yijue': 1323, 'persons': 1324, 'become': 1325, '62468': 1326, 'internet': 1327, 'menu': 1328, 'waste': 1329, 'hop': 1330, 'hell': 1331, 'experience': 1332, 'towards': 1333, 'bucks': 1334, 'past': 1335, 'biz': 1336, 'appreciate': 1337, 'battery': 1338, 'flirt': 1339, '25': 1340, 'kallis': 1341, 'cal': 1342, 'showing': 1343, 'horny': 1344, 'naked': 1345, 'quality': 1346, 'definitely': 1347, 'sense': 1348, 'sim': 1349, 'loyalty': 1350, 'high': 1351, 'imagine': 1352, 'advance': 1353, 'kb': 1354, 'yoga': 1355, 'return': 1356, '08718720201': 1357, 'insurance': 1358, 'maximize': 1359, 'cold': 1360, 'forward': 1361, 'happening': 1362, 'logo': 1363, 'lift': 1364, 'ticket': 1365, 'tough': 1366, 'notice': 1367, 'tenerife': 1368, '8th': 1369, 'depends': 1370, 'some1': 1371, 'mp3': 1372, '85023': 1373, 'unsub': 1374, 'malaria': 1375, 'fat': 1376, 'married': 1377, 'rather': 1378, 'hotel': 1379, 'omw': 1380, 'hurry': 1381, 'gee': 1382, 'marriage': 1383, 'izzit': 1384, 'spree': 1385, 'present': 1386, 'imma': 1387, 'shuhui': 1388, 'weather': 1389, 'paid': 1390, 'login': 1391, 'under': 1392, 'awake': 1393, 'torch': 1394, 'bold': 1395, 'looks': 1396, 'sit': 1397, 'dey': 1398, '7pm': 1399, 'running': 1400, 'holla': 1401, 'yest': 1402, 'damn': 1403, 'space': 1404, '36504': 1405, 'bag': 1406, 'bid': 1407, 'model': 1408, 'mother': 1409, 'hai': 1410, 'mid': 1411, 'midnight': 1412, 'january': 1413, 'photo': 1414, 'sk38xh': 1415, 'recently': 1416, 'heavy': 1417, 'nxt': 1418, '3g': 1419, 'o2': 1420, 'onto': 1421, 'station': 1422, 'tuition': 1423, 'strong': 1424, 'cell': 1425, 'dog': 1426, 'alrite': 1427, 'shd': 1428, '1327': 1429, 'croydon': 1430, 'cr9': 1431, '5wb': 1432, 'walking': 1433, 'meaning': 1434, 'players': 1435, 'share': 1436, 'lmao': 1437, 'except': 1438, 'arrive': 1439, 'instead': 1440, 'buzz': 1441, 'sight': 1442, 'holding': 1443, 'list': 1444, 'thnk': 1445, 'excuse': 1446, 'costa': 1447, 'sol': 1448, 'including': 1449, 'vikky': 1450, 'tear': 1451, 'worse': 1452, 'sky': 1453, 'murdered': 1454, 'maid': 1455, 'murderer': 1456, 'happens': 1457, 'behind': 1458, 'feb': 1459, 'planned': 1460, '400': 1461, 'joking': 1462, 'melle': 1463, 'hl': 1464, 'texting': 1465, 'tyler': 1466, 'usually': 1467, 'fyi': 1468, '150pm': 1469, 'pleased': 1470, 'review': 1471, 'kano': 1472, 'simply': 1473, 'flights': 1474, 'informed': 1475, 'directly': 1476, '08712300220': 1477, 'standard': 1478, 'app': 1479, 'shouldn': 1480, 'q': 1481, 'replied': 1482, 'local': 1483, 'qatar': 1484, 'arrange': 1485, 'inviting': 1486, 'turns': 1487, 'spoke': 1488, 'bye': 1489, 'personal': 1490, 'straight': 1491, 'nights': 1492, 'system': 1493, 'partner': 1494, 'died': 1495, 'website': 1496, 'tncs': 1497, 'childish': 1498, 'handset': 1499, 'dint': 1500, 'ended': 1501, 'sunny': 1502, 'anybody': 1503, 'babes': 1504, 'sport': 1505, 'track': 1506, 'report': 1507, 'num': 1508, 'ish': 1509, 'cc': 1510, 'posted': 1511, 'air': 1512, 'willing': 1513, 'body': 1514, 'relax': 1515, 'pilates': 1516, 'putting': 1517, 'competition': 1518, 'aathi': 1519, 'wnt': 1520, 'vry': 1521, 'lacs': 1522, 'vary': 1523, 'askin': 1524, 'group': 1525, 'ttyl': 1526, 'isnt': 1527, 'gives': 1528, 'moan': 1529, 'fb': 1530, 'activate': 1531, 'character': 1532, 'jst': 1533, 'tat': 1534, '40gb': 1535, 'pin': 1536, 'campus': 1537, 'lady': 1538, 'l8r': 1539, 'confidence': 1540, 'aiyo': 1541, 'barely': 1542, 'scream': 1543, 'announcement': 1544, 'indian': 1545, '28': 1546, 'ladies': 1547, 'daily': 1548, 'vodafone': 1549, 'holder': 1550, 'earth': 1551, 'evng': 1552, 'envelope': 1553, 'fetch': 1554, 'law': 1555, 'gap': 1556, 'wer': 1557, 'aftr': 1558, 'students': 1559, 'exactly': 1560, 'yay': 1561, 'txtauction': 1562, 'closed': 1563, 'wats': 1564, 'couldn': 1565, 'pobox84': 1566, 'w45wq': 1567, 'norm150p': 1568, 'boo': 1569, 'hunny': 1570, 'teasing': 1571, 'zed': 1572, 'green': 1573, 'surely': 1574, 'five': 1575, 'wed': 1576, 'matter': 1577, 'version': 1578, 'fall': 1579, 'sup': 1580, 'murder': 1581, 'due': 1582, 'teach': 1583, 'ate': 1584, 'wherever': 1585, 'expensive': 1586, 'brand': 1587, 'contract': 1588, 'kerala': 1589, 'asleep': 1590, 'loverboy': 1591, 'serious': 1592, 'april': 1593, 'flower': 1594, 'process': 1595, 'works': 1596, 'regards': 1597, 'fight': 1598, 'sipix': 1599, 'aiyah': 1600, 'urawinner': 1601, 'howz': 1602, 'raining': 1603, 'thts': 1604, 'tour': 1605, 'super': 1606, 'marry': 1607, 'problems': 1608, 'fantasies': 1609, '08707509020': 1610, 'girlfrnd': 1611, 'cafe': 1612, 'bought': 1613, '4th': 1614, 'nature': 1615, 'keeping': 1616, 'screaming': 1617, '86021': 1618, 'london': 1619, 'lookin': 1620, 'boys': 1621, 'arcade': 1622, 'created': 1623, 'exciting': 1624, '09050090044': 1625, 'toclaim': 1626, 'pobox334': 1627, 'stockport': 1628, 'max10mins': 1629, 'theatre': 1630, 'ahmad': 1631, 'official': 1632, 'armand': 1633, 'nimya': 1634, 'sed': 1635, 'role': 1636, 'checked': 1637, 'added': 1638, 'pussy': 1639, 'budget': 1640, 'random': 1641, 'er': 1642, 'plenty': 1643, 'amazing': 1644, 'hr': 1645, 'hrs': 1646, 'cancer': 1647, 'tariffs': 1648, 'tick': 1649, 'meds': 1650, 'darling': 1651, 'callers': 1652, 'searching': 1653, 'wet': 1654, 'stock': 1655, 'egg': 1656, 'subscription': 1657, 'roommate': 1658, 'hopefully': 1659, 'weak': 1660, 'ride': 1661, 'plane': 1662, 'respect': 1663, 'urgnt': 1664, '530': 1665, 'boston': 1666, 'truly': 1667, 'scared': 1668, 'tt': 1669, 'cabin': 1670, 'voda': 1671, 'quoting': 1672, 'laid': 1673, 'locations': 1674, 'ec2a': 1675, 'rooms': 1676, 'begin': 1677, 'shirt': 1678, '434': 1679, 'discuss': 1680, '9am': 1681, 'transaction': 1682, 'cannot': 1683, 'connection': 1684, 'sen': 1685, 'atm': 1686, 'romantic': 1687, '2optout': 1688, 'sam': 1689, 'argument': 1690, 'wins': 1691, 'fix': 1692, 'h': 1693, 'singles': 1694, 'rays': 1695, 'bf': 1696, 'cry': 1697, '21': 1698, 'themob': 1699, 'selection': 1700, 'aren': 1701, 'pongal': 1702, 'december': 1703, 'cud': 1704, 'ppl': 1705, 'surfing': 1706, 'basically': 1707, 'allah': 1708, 'sonyericsson': 1709, 'geeee': 1710, 'sighs': 1711, 'guide': 1712, 'intro': 1713, 'current': 1714, 'pictures': 1715, 'yan': 1716, 'jiu': 1717, 'l': 1718, 'pobox36504w45wq': 1719, 'contacted': 1720, 'hostel': 1721, 'hv': 1722, 'amt': 1723, 'respond': 1724, 'dollars': 1725, 'acc': 1726, 'woman': 1727, 'flat': 1728, 'charges': 1729, 'sec': 1730, 'conditions': 1731, 'fighting': 1732, 'village': 1733, 'spl': 1734, 'stylish': 1735, 'prabha': 1736, '83355': 1737, 'returns': 1738, 'quote': 1739, 'english': 1740, 'btw': 1741, '2mrw': 1742, 'smiles': 1743, 'jazz': 1744, 'yogasana': 1745, '1x150p': 1746, 'stopped': 1747, 'somethin': 1748, 'euro2004': 1749, 'results': 1750, 'drinks': 1751, '80062': 1752, 'thursday': 1753, 'cartoon': 1754, 'listening': 1755, 'gentle': 1756, 'hella': 1757, 'drug': 1758, 'belly': 1759, 'lonely': 1760, 'timing': 1761, 'mad': 1762, 'twice': 1763, 'opportunity': 1764, 'gals': 1765, 'city': 1766, 'tis': 1767, 'sing': 1768, 'living': 1769, 'polyphonic': 1770, 'xxxx': 1771, 'ages': 1772, 'sura': 1773, 'playing': 1774, 'sn': 1775, 'cds': 1776, 'records': 1777, 'birds': 1778, 'travel': 1779, 'lead': 1780, 'unsold': 1781, 'derek': 1782, 'greet': 1783, 'white': 1784, 'cheaper': 1785, 'ym': 1786, 'pissed': 1787, 'ma': 1788, 'wear': 1789, 'places': 1790, 'photos': 1791, 'site': 1792, 'ad': 1793, 'boring': 1794, 'salary': 1795, 'videophones': 1796, 'videochat': 1797, 'java': 1798, 'dload': 1799, 'noline': 1800, 'rentl': 1801, 'dropped': 1802, 'yun': 1803, 'jesus': 1804, 'gm': 1805, '3rd': 1806, 'bitch': 1807, 'revealed': 1808, 'xchat': 1809, 'hands': 1810, 'receipt': 1811, 'interesting': 1812, 'uni': 1813, 'italian': 1814, 'adult': 1815, 'oz': 1816, 'horrible': 1817, 'nw': 1818, 'jordan': 1819, 'choice': 1820, 'mite': 1821, 'chinese': 1822, 'hun': 1823, 'cbe': 1824, '80488': 1825, 'broke': 1826, 'original': 1827, 'pple': 1828, 'arrested': 1829, 'linerental': 1830, 'vote': 1831, 'tells': 1832, 'totally': 1833, 'rem': 1834, 'exams': 1835, 'everybody': 1836, 'optout': 1837, 'google': 1838, 'vomit': 1839, 'aint': 1840, 'centre': 1841, 'airport': 1842, 'costs': 1843, 'eerie': 1844, 'waking': 1845, 'ran': 1846, 'rd': 1847, 'fren': 1848, '60p': 1849, 'hook': 1850, 'bin': 1851, '05': 1852, 'social': 1853, 'selling': 1854, 'buns': 1855, 'beer': 1856, 'hate': 1857, 'season': 1858, 'nvm': 1859, 'moms': 1860, 'obviously': 1861, 'boost': 1862, 'eng': 1863, 'inclusive': 1864, 'looked': 1865, 'expecting': 1866, 'minuts': 1867, 'latr': 1868, 'unable': 1869, 'remind': 1870, 'whether': 1871, 'spook': 1872, 'fantasy': 1873, 'brilliant': 1874, 'ru': 1875, 'cars': 1876, 'deliver': 1877, 'amount': 1878, 'advice': 1879, 'issues': 1880, 'ignore': 1881, 'tm': 1882, 'thurs': 1883, 'wouldn': 1884, 'relation': 1885, 'lik': 1886, 'asks': 1887, '3510i': 1888, '300': 1889, 'mths': 1890, 'common': 1891, 'oni': 1892, 'fa': 1893, 'tkts': 1894, '87121': 1895, 'lives': 1896, 'tb': 1897, 'oru': 1898, 'six': 1899, '87575': 1900, 'membership': 1901, 'str': 1902, 'sooner': 1903, 'turn': 1904, 'child': 1905, 'letter': 1906, 'inches': 1907, 'embarassed': 1908, 'seemed': 1909, 'url': 1910, 'series': 1911, 'iq': 1912, 'wah': 1913, 'machan': 1914, 'coins': 1915, 'becoz': 1916, '9pm': 1917, 'fml': 1918, 'hols': 1919, 'appointment': 1920, 'legal': 1921, 'nyc': 1922, 'considering': 1923, 'jokes': 1924, 'research': 1925, 'needed': 1926, '786': 1927, 'unredeemed': 1928, 'yetunde': 1929, 'hasn': 1930, 'ansr': 1931, 'tyrone': 1932, 'largest': 1933, 'befor': 1934, 'activities': 1935, 'biggest': 1936, 'netcollex': 1937, 'deleted': 1938, 'interview': 1939, 'escape': 1940, 'bloody': 1941, 'anyways': 1942, 'mummy': 1943, '0808': 1944, '145': 1945, '4742': 1946, '11pm': 1947, 'radio': 1948, 'unique': 1949, 'settled': 1950, 'shoot': 1951, 'files': 1952, 'career': 1953, 'followed': 1954, 'teaches': 1955, 'cross': 1956, 'recd': 1957, 'closer': 1958, 'theory': 1959, 'argue': 1960, 'com1win150ppmx3age16': 1961, 'bcums': 1962, 'affection': 1963, 'kettoda': 1964, 'manda': 1965, 'expect': 1966, 'mmm': 1967, 'bay': 1968, 'passed': 1969, 'throw': 1970, 'cam': 1971, 'accidentally': 1972, 'def': 1973, 'meal': 1974, 'dates': 1975, 'hanging': 1976, 'belovd': 1977, 'enemy': 1978, 'smart': 1979, 'afraid': 1980, '08002986906': 1981, 'kisses': 1982, 'waitin': 1983, '85': 1984, '83600': 1985, '1000s': 1986, 'practice': 1987, 'wtf': 1988, 'further': 1989, 'sometime': 1990, '87131': 1991, 'cream': 1992, 'tree': 1993, 'esplanade': 1994, 'fifteen': 1995, '3mins': 1996, 'wc1n3xx': 1997, 'journey': 1998, 'gorgeous': 1999, 'jen': 2000, 'purpose': 2001, 'tenants': 2002, 'refused': 2003, 'si': 2004, 'ure': 2005, 'intelligent': 2006, 'result': 2007, 'reasons': 2008, 'receiving': 2009, 'tcs': 2010, 'cw25wx': 2011, 'dry': 2012, 'center': 2013, 'bringing': 2014, 'jada': 2015, 'kusruthi': 2016, 'matured': 2017, 'mtmsgrcvd18': 2018, 'cha': 2019, 'bday': 2020, 'rude': 2021, 'mas': 2022, 'pg': 2023, 'passionate': 2024, 'losing': 2025, 'three': 2026, 'milk': 2027, 'essential': 2028, 'lab': 2029, 'quit': 2030, '08715705022': 2031, '24': 2032, 'grand': 2033, '542': 2034, 'pie': 2035, 'paris': 2036, 'answers': 2037, 'often': 2038, 'uncles': 2039, 'leona': 2040, 'bud': 2041, 'taken': 2042, 'ham': 2043, 'temple': 2044, 'church': 2045, 'bet': 2046, 'prepare': 2047, 'seem': 2048, 'explain': 2049, 'purchase': 2050, 'weird': 2051, 'drivin': 2052, 'height': 2053, 'max': 2054, 'upset': 2055, 'assume': 2056, '81151': 2057, '4t': 2058, 'faster': 2059, 'spoken': 2060, 'mt': 2061, '88039': 2062, 'skilgme': 2063, 'meetin': 2064, 'apparently': 2065, 'smokes': 2066, 'perfect': 2067, '08718727870': 2068, 'enjoyed': 2069, 'dictionary': 2070, 'm263uz': 2071, 'appt': 2072, '3d': 2073, 'ain': 2074, 'ache': 2075, '3qxj9': 2076, '08702840625': 2077, '9ae': 2078, 'profit': 2079, 'cust': 2080, 'ibiza': 2081, 'ppm': 2082, 'meanwhile': 2083, 'suite': 2084, 'careful': 2085, 'spk': 2086, 'vip': 2087, 'saved': 2088, 'played': 2089, 'wanting': 2090, 'pig': 2091, 'addicted': 2092, 'attend': 2093, 'diet': 2094, 'term': 2095, 'fever': 2096, 'w1': 2097, 'gravity': 2098, 'carefully': 2099, 'bowl': 2100, 'decision': 2101, 'sore': 2102, 'regret': 2103, 'throat': 2104, 'lecture': 2105, 'raise': 2106, 'fool': 2107, 'june': 2108, 'technical': 2109, 'bathing': 2110, 'vijay': 2111, 'dem': 2112, 'clock': 2113, 'subscriber': 2114, 'aiyar': 2115, 'wearing': 2116, 'wrc': 2117, 'rally': 2118, 'lucozade': 2119, 'shame': 2120, 'credited': 2121, 'understanding': 2122, 'delivered': 2123, 'arms': 2124, 'easier': 2125, 'txtin': 2126, '4info': 2127, '08712405020': 2128, 'songs': 2129, 'exact': 2130, '2moro': 2131, 'favour': 2132, 'jamster': 2133, '3gbp': 2134, 'idiot': 2135, 'harry': 2136, 'february': 2137, 'rush': 2138, '6hrs': 2139, 'blackberry': 2140, 'moji': 2141, 'fill': 2142, 'gently': 2143, '4get': 2144, 'urn': 2145, 'msgrcvdhg': 2146, 'aiya': 2147, 'bright': 2148, 'textpod': 2149, 'pod': 2150, 'wonders': 2151, '7th': 2152, '6th': 2153, '5th': 2154, 'personality': 2155, 'purity': 2156, 'sha': 2157, 'total': 2158, 'along': 2159, 'file': 2160, 'shortly': 2161, 'ron': 2162, '7250i': 2163, 'w1jhl': 2164, 'yuo': 2165, 'tihs': 2166, 'bishan': 2167, 'preferably': 2168, 'pack': 2169, 'idk': 2170, 'whom': 2171, 'laughing': 2172, 'title': 2173, 'brought': 2174, 'surprised': 2175, 'comedy': 2176, 'moby': 2177, 'action': 2178, 'remain': 2179, 'received': 2180, 'ordered': 2181, 'queen': 2182, 'connect': 2183, 'bahamas': 2184, 'schedule': 2185, '0': 2186, 'settings': 2187, 'alert': 2188, 'atlanta': 2189, 'fills': 2190, 'gaps': 2191, 'takin': 2192, 'answering': 2193, 'jess': 2194, 'dirty': 2195, 'package': 2196, 'upto': 2197, '08001950382': 2198, 'skype': 2199, 'nearly': 2200, 'masters': 2201, 'cook': 2202, 'cleaning': 2203, 'cat': 2204, 'hip': 2205, '87239': 2206, 'freefone': 2207, 'lie': 2208, 'infernal': 2209, 'giv': 2210, 'yer': 2211, '84199': 2212, 'box39822': 2213, 'w111wx': 2214, 'subs': 2215, 'feet': 2216, 'med': 2217, 'kidz': 2218, 'ntwk': 2219, 'pages': 2220, 'frndship': 2221, 'freak': 2222, 'ref': 2223, '8552': 2224, 'wkend': 2225, 'letters': 2226, 'football': 2227, 'happend': 2228, 'sugar': 2229, 'thangam': 2230, 'roger': 2231, 'solve': 2232, 'cooking': 2233, 'indians': 2234, 'key': 2235, 'released': 2236, 'spending': 2237, 'response': 2238, 'sept': 2239, 'public': 2240, 'govt': 2241, 'instituitions': 2242, 'dare': 2243, 'teeth': 2244, 'iz': 2245, 'handle': 2246, 'note': 2247, 'porn': 2248, 'celebrate': 2249, 'abi': 2250, 'hill': 2251, 'grl': 2252, 'hug': 2253, '09061221066': 2254, 'fromm': 2255, 'wylie': 2256, 'basic': 2257, 'outta': 2258, 'bloomberg': 2259, 'inform': 2260, 'mumtaz': 2261, 'blank': 2262, 'texted': 2263, '26': 2264, 'born': 2265, 'doc': 2266, 'taunton': 2267, '440': 2268, 'loss': 2269, 'santa': 2270, 'step': 2271, '21st': 2272, '2005': 2273, 'minnaminunginte': 2274, 'nurungu': 2275, 'vettam': 2276, 'spell': 2277, 'wales': 2278, 'scotland': 2279, 'frying': 2280, 'clear': 2281, 'caught': 2282, 'fear': 2283, 'xuhui': 2284, 'invite': 2285, 'yummy': 2286, 'fair': 2287, 'gram': 2288, 'runs': 2289, 'realized': 2290, '09061209465': 2291, 'suprman': 2292, 'matrix3': 2293, 'starwars3': 2294, 'burger': 2295, 'roommates': 2296, 'dresser': 2297, 'advise': 2298, 'recent': 2299, '1500': 2300, 'valuable': 2301, 'gentleman': 2302, 'dignity': 2303, 'shy': 2304, 'requests': 2305, 'sheets': 2306, 'sum1': 2307, 'lido': 2308, 'collected': 2309, 'mix': 2310, 'verify': 2311, 'four': 2312, 'vava': 2313, 'loud': 2314, 'k52': 2315, 'wa': 2316, 'sentence': 2317, 'anythin': 2318, '45239': 2319, 'apologise': 2320, 'hardcore': 2321, 'dot': 2322, 'staff': 2323, 'female': 2324, 'birla': 2325, 'soft': 2326, 'floor': 2327, 'spanish': 2328, 'mall': 2329, 'maneesha': 2330, 'satisfied': 2331, 'toll': 2332, 'finishes': 2333, 'august': 2334, 'suggest': 2335, 'successfully': 2336, 'register': 2337, '89545': 2338, '087187262701': 2339, '50gbp': 2340, 'mtmsg18': 2341, 'teacher': 2342, 'pence': 2343, 'loses': 2344, 'tomarrow': 2345, 'avent': 2346, 'touched': 2347, 'slippers': 2348, 'bat': 2349, 'innings': 2350, 'dearly': 2351, '125gift': 2352, 'ranjith': 2353, '5min': 2354, 'shipping': 2355, 'networks': 2356, 'parked': 2357, 'mini': 2358, 'flash': 2359, 'jealous': 2360, 'sorting': 2361, 'genuine': 2362, '100percent': 2363, 'handed': 2364, 'gautham': 2365, 'buzy': 2366, 'upgrade': 2367, '0845': 2368, 'tease': 2369, 'scary': 2370, 'newest': 2371, 'gossip': 2372, 'fit': 2373, 'garage': 2374, 'keys': 2375, 'dear1': 2376, 'best1': 2377, 'clos1': 2378, 'lvblefrnd': 2379, 'jstfrnd': 2380, 'cutefrnd': 2381, 'lifpartnr': 2382, 'swtheart': 2383, 'bstfrnd': 2384, 'm26': 2385, '3uz': 2386, 'gona': 2387, 'flight': 2388, 'record': 2389, 'women': 2390, 'germany': 2391, 'supervisor': 2392, 'lifetime': 2393, 'favourite': 2394, 'bless': 2395, 'stranger': 2396, 'cleared': 2397, 'gudnite': 2398, 'slap': 2399, 'alcohol': 2400, 'remembered': 2401, 'insha': 2402, 'alive': 2403, 'gbp': 2404, 'ptbo': 2405, 'tests': 2406, '6months': 2407, '4mths': 2408, 'mobilesdirect': 2409, '08000938767': 2410, 'or2stoptxt': 2411, 'shut': 2412, 'period': 2413, 'business': 2414, 'picture': 2415, 'quickly': 2416, 'nd': 2417, 'chechi': 2418, 'sender': 2419, 'skip': 2420, 'blah': 2421, 'goal': 2422, 'names': 2423, 'ful': 2424, 'irritating': 2425, 'bmw': 2426, 'urgently': 2427, 'shortage': 2428, 'source': 2429, 'arng': 2430, 'iouri': 2431, 'sachin': 2432, 'oic': 2433, 'transfer': 2434, '75': 2435, 'homeowners': 2436, 'previously': 2437, '1956669': 2438, '0207': 2439, 'july': 2440, 'railway': 2441, 'doggy': 2442, 'fave': 2443, 'roads': 2444, 'dave': 2445, 'transfered': 2446, 'banks': 2447, '9ja': 2448, 'wise': 2449, '9t': 2450, 'boye': 2451, 'fightng': 2452, 'dificult': 2453, 'fish': 2454, '123': 2455, '1450': 2456, 'fees': 2457, 'soryda': 2458, 'sory': 2459, 'ibhltd': 2460, 'ldnw15h': 2461, 'mono': 2462, 'booking': 2463, 'behave': 2464, 'elsewhere': 2465, '09': 2466, '0871': 2467, 'box95qu': 2468, '08717898035': 2469, 'ummmmmaah': 2470, 'tirupur': 2471, 'bloke': 2472, 'cock': 2473, 'generally': 2474, 'likely': 2475, 'american': 2476, 'callin': 2477, 'dick': 2478, 'snake': 2479, 'bite': 2480, 'headache': 2481, '80878': 2482, 'lines': 2483, 'exhausted': 2484, 'swimming': 2485, '2morow': 2486, 'nichols': 2487, '83222': 2488, 'market': 2489, 'pop': 2490, 'postcode': 2491, 'seven': 2492, 'tlp': 2493, 'thanksgiving': 2494, '31': 2495, 'peace': 2496, '89555': 2497, 'textoperator': 2498, 'building': 2499, 'map': 2500, 'accordingly': 2501, 'farm': 2502, 'ws': 2503, 'stress': 2504, 'csbcm4235wc1n3xx': 2505, 'low': 2506, 'shouted': 2507, 'shorter': 2508, 'subscribed': 2509, 'realize': 2510, 'gimme': 2511, 'tscs087147403231winawk': 2512, '50perwksub': 2513, 'anywhere': 2514, 'diff': 2515, 'community': 2516, 'subpoly': 2517, '81618': 2518, 'bein': 2519, 'jan': 2520, 'pieces': 2521, 'hint': 2522, 'responding': 2523, '2u': 2524, '220': 2525, 'cm2': 2526, 'alfie': 2527, 'm8s': 2528, 'nokias': 2529, '08701417012': 2530, 'hahaha': 2531, 'brain': 2532, 'given': 2533, 'successful': 2534, '2morrow': 2535, 'sk3': 2536, '8wp': 2537, 'xavier': 2538, 'seconds': 2539, 'stomach': 2540, 'returned': 2541, 'supply': 2542, 'walls': 2543, 'cuddle': 2544, 'nap': 2545, 'shesil': 2546, '10k': 2547, 'liverpool': 2548, 'reminder': 2549, 'failed': 2550, 'outstanding': 2551, 'taylor': 2552, 'male': 2553, '5p': 2554, 'msging': 2555, '88600': 2556, 'moments': 2557, '114': 2558, '14': 2559, 'tcr': 2560, 'magical': 2561, 'welp': 2562, 'valid12hrs': 2563, '15': 2564, 'chicken': 2565, 'potential': 2566, 'talent': 2567, '09063458130': 2568, 'polyph': 2569, 'fuckin': 2570, 'ubi': 2571, 'butt': 2572, 'terrible': 2573, 'exe': 2574, 'prey': 2575, 'fancies': 2576, 'foreign': 2577, 'stamps': 2578, 'speechless': 2579, 'roast': 2580, 'concentrate': 2581, 'chatting': 2582, 'walked': 2583, 'euro': 2584, 'drunk': 2585, '84025': 2586, 'networking': 2587, 'juicy': 2588, 'dearer': 2589, 'evn': 2590, 'itz': 2591, 'alwys': 2592, '09061790121': 2593, 'ne': 2594, 'ground': 2595, 'speed': 2596, 'catching': 2597, 'falls': 2598, 'whos': 2599, 'le': 2600, 'bigger': 2601, 'islands': 2602, 'celeb': 2603, 'pocketbabe': 2604, 'voicemail': 2605, '2go': 2606, 'walmart': 2607, 'score': 2608, '87021': 2609, 'apps': 2610, 'rofl': 2611, 'anti': 2612, 'various': 2613, 'ph': 2614, '84128': 2615, 'textcomp': 2616, 'morn': 2617, 'docs': 2618, 'havin': 2619, 'rang': 2620, 'sorted': 2621, 'executive': 2622, 'jane': 2623, 'express': 2624, 'fran': 2625, 'knackered': 2626, 'software': 2627, 'whenevr': 2628, 'among': 2629, 'cares': 2630, 'chill': 2631, 'chillin': 2632, 'saucy': 2633, 'chain': 2634, 'suntec': 2635, 'messenger': 2636, 'screen': 2637, 'tom': 2638, 'upload': 2639, 'shot': 2640, 'storming': 2641, 'phne': 2642, 'wt': 2643, 'margaret': 2644, 'grahmbell': 2645, 'invnted': 2646, 'telphone': 2647, 'popped': 2648, 'shld': 2649, 'beware': 2650, 'caring': 2651, 'option': 2652, 'goodnite': 2653, 'arsenal': 2654, 'painful': 2655, 'missin': 2656, 'guilty': 2657, 'cardiff': 2658, 'addie': 2659, 'certainly': 2660, 'claire': 2661, 'twelve': 2662, 'aah': 2663, '09066362231': 2664, '07xxxxxxxxx': 2665, 'hubby': 2666, 'minmobsmorelkpobox177hp51fl': 2667, 'blake': 2668, 'lotr': 2669, 'stars': 2670, 'karaoke': 2671, 'eight': 2672, 'ese': 2673, 'prospects': 2674, 'buff': 2675, 'gang': 2676, 'tablets': 2677, 'finishing': 2678, 'doors': 2679, 'brothas': 2680, 'chasing': 2681, 'force': 2682, 'blame': 2683, 'blessings': 2684, 'freezing': 2685, 'ringtoneking': 2686, 'winning': 2687, '6pm': 2688, 'titles': 2689, 'feelin': 2690, '82242': 2691, 'switch': 2692, 'monthly': 2693, 'ideas': 2694, 'maintain': 2695, 'sh': 2696, 'cramps': 2697, 'nan': 2698, '81303': 2699, 'likes': 2700, 'dislikes': 2701, 'promises': 2702, 'album': 2703, '121': 2704, 'standing': 2705, 'james': 2706, 'chosen': 2707, '29': 2708, 'di': 2709, 'cruise': 2710, 'follow': 2711, 'stuck': 2712, 'regarding': 2713, 'adore': 2714, 'arun': 2715, 'philosophy': 2716, 'eye': 2717, 'husband': 2718, 'norm': 2719, 'toa': 2720, 'payoh': 2721, 'fathima': 2722, 'mmmm': 2723, 'beyond': 2724, '18yrs': 2725, 'abta': 2726, '80182': 2727, '08452810073': 2728, 'table': 2729, 'ikea': 2730, 'cn': 2731, 'kadeem': 2732, 'se': 2733, 'wud': 2734, 'carry': 2735, 'avatar': 2736, 'stops': 2737, 'constantly': 2738, 'lousy': 2739, 'ic': 2740, 'honeybee': 2741, 'sweetest': 2742, 'laughed': 2743, 'havnt': 2744, 'crack': 2745, 'boat': 2746, 'proof': 2747, 'provided': 2748, 'yeh': 2749, 'downloads': 2750, 'members': 2751, 'major': 2752, 'birth': 2753, 'rule': 2754, 'natural': 2755, 'onwards': 2756, 'tscs': 2757, 'skillgame': 2758, '1winaweek': 2759, '150ppermesssubscription': 2760, 'eggs': 2761, 'calicut': 2762, 'box97n7qp': 2763, 'pink': 2764, 'normally': 2765, 'rich': 2766, 'm8': 2767, 'yor': 2768, 'jason': 2769, 'art': 2770, 'argh': 2771, 'tessy': 2772, 'favor': 2773, 'shijas': 2774, 'aunty': 2775, 'china': 2776, 'morphine': 2777, 'prefer': 2778, 'kindly': 2779, 'miles': 2780, 'pending': 2781, 'raji': 2782, 'legs': 2783, 'distance': 2784, 'temp': 2785, 'display': 2786, 'soup': 2787, 'management': 2788, 'include': 2789, 'regular': 2790, 'threats': 2791, 'lounge': 2792, 'u4': 2793, '88066': 2794, 'cheer': 2795, 'cornwall': 2796, 'bags': 2797, 'iscoming': 2798, '80082': 2799, 'halloween': 2800, 'issue': 2801, 'measure': 2802, 'thm': 2803, 'wn': 2804, 'instantly': 2805, 'drinking': 2806, 'impossible': 2807, 'responce': 2808, 'vodka': 2809, 'okey': 2810, 'questioned': 2811, 'gardener': 2812, 'vegetables': 2813, 'neighbour': 2814, 'science': 2815, 'madam': 2816, 'settle': 2817, 'bloo': 2818, 'citizen': 2819, 'sry': 2820, '09066612661': 2821, 'greetings': 2822, 'dai': 2823, 'maga': 2824, 'medicine': 2825, 'incident': 2826, 'violence': 2827, 'erm': 2828, 'instructions': 2829, '3lp': 2830, 'death': 2831, 'wrk': 2832, 'hon': 2833, 'reality': 2834, 'usc': 2835, 'booty': 2836, 'lil': 2837, 'remains': 2838, 'bro': 2839, 'bros': 2840, 'pouts': 2841, 'stomps': 2842, 'sports': 2843, 'shirts': 2844, 'petrol': 2845, 'uks': 2846, '2stoptxt': 2847, 'luxury': 2848, 'ben': 2849, 'middle': 2850, 'dark': 2851, 'enuff': 2852, 'contents': 2853, 'strike': 2854, 'moved': 2855, 'seat': 2856, 'dress': 2857, 'collecting': 2858, 'flaked': 2859, 'gary': 2860, 'history': 2861, 'bell': 2862, 'understood': 2863, 'bottom': 2864, 'crab': 2865, 'footprints': 2866, '33': 2867, 'changes': 2868, 'books': 2869, 'prove': 2870, 'blow': 2871, 'knowing': 2872, 'challenge': 2873, 'randomly': 2874, 'tape': 2875, 'films': 2876, 'lick': 2877, 'auto': 2878, 'praying': 2879, 'deliveredtomorrow': 2880, 'smoking': 2881, 'in2': 2882, 'billed': 2883, 'ths': 2884, 'callback': 2885, 'wedding': 2886, 'accident': 2887, 'wisdom': 2888, 'cann': 2889, 'symbol': 2890, 'prolly': 2891, 'confirmed': 2892, 'dubsack': 2893, 'macho': 2894, 'audition': 2895, 'fell': 2896, 'senthil': 2897, 'forevr': 2898, 'eaten': 2899, 'nat': 2900, 'possession': 2901, 'concert': 2902, 'affairs': 2903, 'university': 2904, 'california': 2905, 'value': 2906, 'mnth': 2907, 'tog': 2908, 'haiz': 2909, 'previous': 2910, 'captain': 2911, 'dsn': 2912, 'parking': 2913, 'warner': 2914, 'wallpaper': 2915, 'bottle': 2916, 'buffet': 2917, '08452810075over18': 2918, 'hor': 2919, 'rcv': 2920, 'receivea': 2921, '09061701461': 2922, 'kl341': 2923, '08002986030': 2924, 'chances': 2925, 'csh11': 2926, '6days': 2927, 'tsandcs': 2928, 'jackpot': 2929, '81010': 2930, 'dbuk': 2931, 'lccltd': 2932, '4403ldnw1a7rw18': 2933, 'blessing': 2934, 'xxxmobilemovieclub': 2935, 'goals': 2936, '4txt': 2937, 'slice': 2938, 'convincing': 2939, 'sarcastic': 2940, '8am': 2941, 'mmmmmm': 2942, 'burns': 2943, 'hospitals': 2944, 'eighth': 2945, 'sptv': 2946, 'detroit': 2947, 'hockey': 2948, 'odi': 2949, 'killing': 2950, '09066364589': 2951, 'dedicated': 2952, 'dedicate': 2953, 'eurodisinc': 2954, 'trav': 2955, 'aco': 2956, 'entry41': 2957, 'morefrmmob': 2958, 'shracomorsglsuplt': 2959, 'ls1': 2960, '3aj': 2961, 'divorce': 2962, 'earn': 2963, 'jacket': 2964, 'nitros': 2965, 'ela': 2966, 'pours': 2967, '169': 2968, '6031': 2969, '85069': 2970, 'usher': 2971, 'britney': 2972, '5249': 2973, 'mk17': 2974, '92h': 2975, '450ppw': 2976, 'telugu': 2977, 'loans': 2978, 'animation': 2979, 'location': 2980, 'noun': 2981, 'gent': 2982, '09064012160': 2983, 'puttin': 2984, 'goodo': 2985, 'potato': 2986, 'tortilla': 2987, '07742676969': 2988, '08719180248': 2989, 'sum': 2990, 'algarve': 2991, '69888': 2992, '31p': 2993, 'msn': 2994, 'pouch': 2995, 'somtimes': 2996, 'occupy': 2997, 'hearts': 2998, 'randy': 2999, '08700621170150p': 3000, 'flowing': 3001, 'plaza': 3002, 'everywhere': 3003, 'windows': 3004, 'mouth': 3005, '0871277810810': 3006, 'bootydelious': 3007, 'module': 3008, 'avoid': 3009, 'beloved': 3010, 'form': 3011, 'clark': 3012, 'utter': 3013, 'completed': 3014, 'stays': 3015, 'wishin': 3016, 'hamster': 3017, 'refilled': 3018, 'inr': 3019, 'keralacircle': 3020, 'prepaid': 3021, 'kr': 3022, 'ericsson': 3023, 'bruv': 3024, 'rewarding': 3025, 'heading': 3026, 'os': 3027, 'installing': 3028, 'repair': 3029, 'horo': 3030, 'star': 3031, 'conducts': 3032, 'printed': 3033, 'upstairs': 3034, '447801259231': 3035, '09058094597': 3036, 'shining': 3037, 'signing': 3038, 'although': 3039, 'commercial': 3040, 'drpd': 3041, 'deeraj': 3042, 'deepak': 3043, '2wks': 3044, 'lag': 3045, 'necessarily': 3046, 'headin': 3047, 'jolt': 3048, 'suzy': 3049, '69698': 3050, 'mk45': 3051, '2wt': 3052, 'chart': 3053, 'gf': 3054, 'tool': 3055, 'jenny': 3056, '021': 3057, '3680': 3058, 'grave': 3059, 'shocking': 3060, 'crash': 3061, 'taxi': 3062, 'actor': 3063, 'blind': 3064, 'hide': 3065, 'thread': 3066, 'funky': 3067, '82468': 3068, 'tahan': 3069, 'anot': 3070, 'lo': 3071, 'buses': 3072, 'bristol': 3073, 'apo': 3074, '0844': 3075, '861': 3076, 'prepayment': 3077, 'violated': 3078, 'privacy': 3079, 'paperwork': 3080, 'caroline': 3081, 'misbehaved': 3082, 'tissco': 3083, 'tayseer': 3084, 'unemployed': 3085, 'audrey': 3086, 'status': 3087, 'breathe': 3088, 'cuddling': 3089, 'agree': 3090, 'recognise': 3091, 'hes': 3092, 'ovulation': 3093, 'n9dx': 3094, 'licks': 3095, '30ish': 3096, 'salam': 3097, 'sharing': 3098, 'grace': 3099, 'inshah': 3100, 'field': 3101, 'administrator': 3102, 'shipped': 3103, 'loxahatchee': 3104, 'burning': 3105, 'slightly': 3106, 'fav': 3107, 'darlings': 3108, 'wld': 3109, 'box334sk38ch': 3110, 'whatsup': 3111, '80086': 3112, 'txttowin': 3113, 'name1': 3114, 'name2': 3115, 'mobno': 3116, 'adam': 3117, '07123456789': 3118, 'txtno': 3119, 'ads': 3120, 'siva': 3121, 'speaking': 3122, 'expression': 3123, '3650': 3124, '09066382422': 3125, '300603': 3126, 'bcm4284': 3127, 'applebees': 3128, 'bhaji': 3129, 'cricketer': 3130, 'improve': 3131, 'oreo': 3132, 'truffles': 3133, 'amy': 3134, 'decisions': 3135, 'coping': 3136, 'individual': 3137, '153': 3138, '26th': 3139, 'position': 3140, 'language': 3141, '09061743806': 3142, 'box326': 3143, 'screamed': 3144, 'removed': 3145, 'differ': 3146, 'broken': 3147, 'infront': 3148, 'tension': 3149, 'taste': 3150, '07781482378': 3151, 'trade': 3152, 'rec': 3153, '7ish': 3154, '09050002311': 3155, 'b4280703': 3156, '08718727868': 3157, 'hyde': 3158, 'anthony': 3159, 'scrounge': 3160, 'forgiven': 3161, 'slide': 3162, 'renewal': 3163, 'transport': 3164, 'definite': 3165, 'nos': 3166, 'ebay': 3167, 'pickle': 3168, 'tacos': 3169, '872': 3170, '24hrs': 3171, 'channel': 3172, '08718738001': 3173, 'web': 3174, '2stop': 3175, 'develop': 3176, 'ability': 3177, 'recovery': 3178, 'cali': 3179, 'cutting': 3180, 'reminding': 3181, 'owns': 3182, 'faggy': 3183, 'demand': 3184, 'fo': 3185, 'loose': 3186, 'pan': 3187, 'perhaps': 3188, 'mei': 3189, 'geeeee': 3190, 'oooh': 3191, 'ey': 3192, 'call09050000327': 3193, 'claims': 3194, 'dancing': 3195, 'hardly': 3196, '08712402050': 3197, '10ppm': 3198, 'ag': 3199, 'promo': 3200, '0825': 3201, 'tsunamis': 3202, 'soiree': 3203, '22': 3204, 'ques': 3205, 'suits': 3206, 'shock': 3207, 'reaction': 3208, 'grow': 3209, 'useful': 3210, 'officially': 3211, 'textbuddy': 3212, 'gaytextbuddy': 3213, '89693': 3214, '4882': 3215, '09064019014': 3216, 'hundred': 3217, 'expressoffer': 3218, 'sweetheart': 3219, 'biola': 3220, 'effects': 3221, 'wee': 3222, 'trains': 3223, 'jolly': 3224, '40533': 3225, 'rstm': 3226, 'sw7': 3227, '3ss': 3228, 'panic': 3229, 'dealer': 3230, 'impatient': 3231, 'river': 3232, 'premium': 3233, 'lays': 3234, 'en': 3235, 'posts': 3236, 'yelling': 3237, 'hex': 3238, 'sue': 3239, 'cochin': 3240, '4d': 3241, 'poop': 3242, 'gpu': 3243, 'aeronautics': 3244, 'professors': 3245, 'calld': 3246, 'aeroplane': 3247, 'hurried': 3248, 'datz': 3249, 'dorm': 3250, '1250': 3251, '09071512433': 3252, '050703': 3253, 'callcost': 3254, 'mobilesvary': 3255, 'cookies': 3256, 'admit': 3257, 'correction': 3258, 'ba': 3259, 'spring': 3260, 'nokia6650': 3261, 'ctxt': 3262, 'mtmsg': 3263, 'attached': 3264, '930': 3265, 'helpline': 3266, '08706091795': 3267, 'gist': 3268, '40': 3269, 'thousands': 3270, 'premier': 3271, 'lip': 3272, 'confused': 3273, 'spare': 3274, 'faith': 3275, 'acting': 3276, 'schools': 3277, 'inch': 3278, 'begging': 3279, '0578': 3280, 'opening': 3281, 'pole': 3282, 'thot': 3283, 'petey': 3284, 'nic': 3285, '8077': 3286, 'cashto': 3287, '08000407165': 3288, 'getstop': 3289, '88222': 3290, 'php': 3291, 'imp': 3292, 'bec': 3293, 'nervous': 3294, 'borrow': 3295, 'galileo': 3296, 'dobby': 3297, 'enjoyin': 3298, 'loveme': 3299, 'cappuccino': 3300, 'mojibiola': 3301, '09065174042': 3302, '07821230901': 3303, 'hol': 3304, 'skyped': 3305, 'kz': 3306, 'ultimatum': 3307, 'countin': 3308, 'aburo': 3309, '08002888812': 3310, 'inconsiderate': 3311, 'nag': 3312, 'recession': 3313, 'hence': 3314, 'soo': 3315, '09066350750': 3316, 'warning': 3317, 'shoes': 3318, 'lovejen': 3319, 'worlds': 3320, 'discreet': 3321, 'named': 3322, 'genius': 3323, 'connections': 3324, 'lotta': 3325, 'lately': 3326, 'virgin': 3327, 'mystery': 3328, 'smsco': 3329, 'approx': 3330, 'consider': 3331, 'peaceful': 3332, '41685': 3333, '07': 3334, '5k': 3335, '09064011000': 3336, 'cr01327bt': 3337, 'fixedline': 3338, 'castor': 3339, '09058094565': 3340, '09065171142': 3341, 'stopsms': 3342, '08': 3343, 'downloaded': 3344, 'ear': 3345, 'oil': 3346, 'mac': 3347, 'usb': 3348, 'gibbs': 3349, 'unbelievable': 3350, 'superb': 3351, 'several': 3352, 'worst': 3353, 'charles': 3354, 'stores': 3355, '08709222922': 3356, '8p': 3357, 'peak': 3358, 'sweets': 3359, 'chip': 3360, 'yck': 3361, 'ashley': 3362, 'lux': 3363, 'jeans': 3364, 'bleh': 3365, 'tons': 3366, 'scores': 3367, 'application': 3368, 'ms': 3369, 'filthy': 3370, 'simpler': 3371, '09050001808': 3372, 'm95': 3373, 'necklace': 3374, 'racing': 3375, 'rice': 3376, 'closes': 3377, 'crap': 3378, 'borin': 3379, 'chocolate': 3380, 'reckon': 3381, '65': 3382, 'tech': 3383, 'sd': 3384, 'blessed': 3385, 'quiet': 3386, 'aunts': 3387, 'helen': 3388, 'fan': 3389, 'lovers': 3390, 'drove': 3391, 'anniversary': 3392, 'pen': 3393, 'secretly': 3394, 'datebox1282essexcm61xn': 3395, 'pattern': 3396, 'plm': 3397, 'sheffield': 3398, 'zoe': 3399, 'setting': 3400, 'filling': 3401, 'sufficient': 3402, 'thx': 3403, 'edison': 3404, 'rightly': 3405, 'viva': 3406, 'gnt': 3407, 'ls15hb': 3408, 'educational': 3409, 'flirting': 3410, 'kickoff': 3411, 'sells': 3412, 'thesis': 3413, 'sends': 3414, 'deciding': 3415, 'eastenders': 3416, 'compare': 3417, 'herself': 3418, 'violet': 3419, 'tulip': 3420, 'lily': 3421, 'wkent': 3422, '150p16': 3423, 'prepared': 3424, '09058091854': 3425, 'box385': 3426, 'm6': 3427, '6wu': 3428, '09050003091': 3429, 'c52': 3430, 'oi': 3431, 'thoughts': 3432, 'breath': 3433, 'craziest': 3434, 'planet': 3435, 'singing': 3436, 'curry': 3437, '09061221061': 3438, '28days': 3439, 'box177': 3440, 'm221bp': 3441, '2yr': 3442, 'warranty': 3443, '99': 3444, 'tomorro': 3445, 'fret': 3446, 'depressed': 3447, 'wind': 3448, 'math': 3449, 'dhoni': 3450, 'rocks': 3451, 'durban': 3452, 'speedchat': 3453, '08000776320': 3454, 'survey': 3455, 'difficulties': 3456, 'sar': 3457, 'tank': 3458, '4fil': 3459, 'silently': 3460, 'drms': 3461, '61200': 3462, 'packs': 3463, 'itcould': 3464, 'toot': 3465, 'annoying': 3466, 'makin': 3467, 'popcorn': 3468, 'neft': 3469, 'beneficiary': 3470, 'subs16': 3471, '1win150ppmx3': 3472, 'appreciated': 3473, 'apart': 3474, 'creepy': 3475, '08719181513': 3476, 'nok': 3477, 'invest': 3478, '1hr': 3479, 'delay': 3480, 'purse': 3481, 'europe': 3482, 'flip': 3483, 'jd': 3484, 'accounts': 3485, 'weirdest': 3486, 'l8tr': 3487, 'minmoremobsemspobox45po139wa': 3488, 'tee': 3489, 'dough': 3490, 'control': 3491, 'jerry': 3492, 'irritates': 3493, 'fails': 3494, 'drinkin': 3495, '5pm': 3496, 'birthdate': 3497, 'nydc': 3498, 'ola': 3499, 'garbage': 3500, 'items': 3501, 'gold': 3502, 'logos': 3503, 'lions': 3504, 'lionm': 3505, 'lionp': 3506, 'jokin': 3507, 'colours': 3508, 'remembr': 3509, 'potter': 3510, 'phoenix': 3511, 'readers': 3512, 'canada': 3513, 'goodnoon': 3514, 'patty': 3515, 'interest': 3516, 'free2day': 3517, 'george': 3518, '89080': 3519, '0870241182716': 3520, 'theres': 3521, 'tmrw': 3522, 'soul': 3523, 'ned': 3524, 'hurting': 3525, 'main': 3526, 'sweetie': 3527, '4a': 3528, 'whn': 3529, 'dance': 3530, 'bar': 3531, 'bears': 3532, '08718730666': 3533, 'juan': 3534, 'lf56': 3535, 'tlk': 3536, 'ideal': 3537, 'front': 3538, 'arm': 3539, 'tirunelvali': 3540, 'effect': 3541, 'bk': 3542, 'kidding': 3543, 'stretch': 3544, 'sinco': 3545, 'payee': 3546, 'icicibank': 3547, 'frauds': 3548, 'disclose': 3549, 'kaiez': 3550, 'practicing': 3551, 'babies': 3552, 'beneath': 3553, 'pale': 3554, 'silver': 3555, 'silence': 3556, 'revision': 3557, 'exeter': 3558, 'whose': 3559, 'condition': 3560, 'coat': 3561, 'tues': 3562, 'restaurant': 3563, 'desperate': 3564, 'monkeys': 3565, 'practical': 3566, 'mails': 3567, 'costing': 3568, 'lyfu': 3569, 'lyf': 3570, 'ali': 3571, 'ke': 3572, 'program': 3573, 'meow': 3574, 'ny': 3575, 'lucy': 3576, 'modules': 3577, 'musthu': 3578, 'jsco': 3579, 'testing': 3580, 'nit': 3581, 'format': 3582, 'sarcasm': 3583, 'forum': 3584, 'aunt': 3585, 'unfortunately': 3586, 'konw': 3587, 'waht': 3588, 'rael': 3589, 'gving': 3590, 'exmpel': 3591, 'jsut': 3592, 'evrey': 3593, 'splleing': 3594, 'wrnog': 3595, 'sitll': 3596, 'raed': 3597, 'wihtuot': 3598, 'ayn': 3599, 'mitsake': 3600, 'ow': 3601, 'joining': 3602, 'finance': 3603, 'filled': 3604, 'jia': 3605, 'sux': 3606, 'kegger': 3607, 'rhythm': 3608, 'adventure': 3609, 'wifi': 3610, 'rumour': 3611, '7250': 3612, 'boyfriend': 3613, 'driver': 3614, 'kicks': 3615, 'dime': 3616, 'falling': 3617, 'smeone': 3618, 'fire': 3619, 'flame': 3620, 'propose': 3621, 'gods': 3622, 'dippeditinadew': 3623, 'lovingly': 3624, 'itwhichturnedinto': 3625, 'gifted': 3626, 'tomeandsaid': 3627, 'batch': 3628, 'flaky': 3629, 'sooooo': 3630, 'tooo': 3631, '09058094599': 3632, 'confuses': 3633, 'wating': 3634, 'british': 3635, 'hotels': 3636, 'sw73ss': 3637, 'adoring': 3638, 'dracula': 3639, 'ghost': 3640, 'addamsfa': 3641, 'munsters': 3642, 'exorcist': 3643, 'twilight': 3644, 'constant': 3645, 'cared': 3646, 'allow': 3647, 'msg150p': 3648, '2rcv': 3649, 'hlp': 3650, '08712317606': 3651, 'fly': 3652, 'event': 3653, '80608': 3654, 'movietrivia': 3655, '08712405022': 3656, 'partnership': 3657, 'mostly': 3658, 'compromised': 3659, 'mornin': 3660, 'toughest': 3661, 'jas': 3662, 'poker': 3663, 'messy': 3664, 'traffic': 3665, 'moves': 3666, 'slip': 3667, 'wkg': 3668, 'nus': 3669, 'keeps': 3670, 'gotten': 3671, 'unknown': 3672, '09094646899': 3673, 'vu': 3674, 'bcm1896wc1n3xx': 3675, '2007': 3676, 'pre': 3677, 'stick': 3678, 'indeed': 3679, 'rents': 3680, '48': 3681, 'maangalyam': 3682, 'alaipayuthe': 3683, 'easter': 3684, 'telephone': 3685, 'callfreefone': 3686, '08081560665': 3687, '07786200117': 3688, 'calm': 3689, 'up4': 3690, 'becomes': 3691, 'habit': 3692, 'contacts': 3693, 'forgets': 3694, 'mandan': 3695, '07734396839': 3696, 'ibh': 3697, 'nokia6600': 3698, 'invaders': 3699, 'orig': 3700, 'console': 3701, 'recharge': 3702, 'transfr': 3703, 'foley': 3704, 'prizes': 3705, '82050': 3706, 'desparate': 3707, 'fake': 3708, '3100': 3709, 'combine': 3710, 'sian': 3711, 'g696ga': 3712, 'joanna': 3713, 'replacement': 3714, 'telly': 3715, '12mths': 3716, 'mth': 3717, 'tooth': 3718, 'wipro': 3719, 'delete': 3720, 'laundry': 3721, 'underwear': 3722, 'waheed': 3723, 'pushes': 3724, 'avoiding': 3725, '0776xxxxxxx': 3726, '326': 3727, 'uh': 3728, 'heads': 3729, 'vday': 3730, 'build': 3731, 'snowman': 3732, 'fights': 3733, 'ofice': 3734, 'prescription': 3735, 'electricity': 3736, 'fujitsu': 3737, 'scold': 3738, '09066358152': 3739, 'prompts': 3740, 'disturbing': 3741, 'flies': 3742, 'woken': 3743, 'aka': 3744, 'delhi': 3745, 'held': 3746, 'fringe': 3747, 'distract': 3748, '61610': 3749, '08712400602450p': 3750, 'tones2you': 3751, 'mel': 3752, 'responsibility': 3753, '08006344447': 3754, 'kid': 3755, 'affair': 3756, 'aom': 3757, 'parco': 3758, 'nb': 3759, 'hallaq': 3760, 'lyk': 3761, 'bck': 3762, 'color': 3763, 'gender': 3764, 'sleepwell': 3765, 'mca': 3766, 'vomiting': 3767, 'rub': 3768, 'clever': 3769, 'stamped': 3770, '113': 3771, 'bray': 3772, 'wicklow': 3773, 'eire': 3774, 'ryan': 3775, 'idew': 3776, 'xam': 3777, 'manage': 3778, 'shitload': 3779, 'diamonds': 3780, 'mcat': 3781, '27': 3782, 'sacrifice': 3783, 'beg': 3784, 'stayin': 3785, 'satisfy': 3786, 'cld': 3787, 'killed': 3788, 'smashed': 3789, 'ps': 3790, 'tok': 3791, 'specific': 3792, 'figures': 3793, 'cousin': 3794, 'excuses': 3795, 'neck': 3796, 'continue': 3797, 'holy': 3798, 'billion': 3799, 'classes': 3800, 'youre': 3801, 'turning': 3802, 'belive': 3803, 'slots': 3804, 'discussed': 3805, 'prem': 3806, '2morro': 3807, 'spoiled': 3808, 'sales': 3809, 'complaint': 3810, 'lk': 3811, 'lov': 3812, 'comfort': 3813, '300p': 3814, '01223585334': 3815, '2c': 3816, 'shagged': 3817, '2end': 3818, '88877': 3819, '700': 3820, 'bedrm': 3821, 'waited': 3822, 'huge': 3823, 'mids': 3824, 'oranges': 3825, 'upd8': 3826, 'annie': 3827, '21870000': 3828, 'mailbox': 3829, 'messaging': 3830, '09056242159': 3831, 'retrieve': 3832, 'hrishi': 3833, 'nothin': 3834, 'poem': 3835, 'duchess': 3836, '008704050406': 3837, 'nahi': 3838, 'zindgi': 3839, 'wo': 3840, 'jo': 3841, 'dan': 3842, 'aww': 3843, 'staring': 3844, 'cm': 3845, 'unnecessarily': 3846, '08701417012150p': 3847, 'weigh': 3848, 'gamestar': 3849, 'active': 3850, '250k': 3851, 'scoring': 3852, '88088': 3853, 'expired': 3854, 'opinions': 3855, 'propsd': 3856, 'gv': 3857, 'lv': 3858, 'lttrs': 3859, 'threw': 3860, 'aproach': 3861, 'dt': 3862, 'truck': 3863, 'speeding': 3864, 'thy': 3865, 'lived': 3866, 'happily': 3867, '2gthr': 3868, 'evrydy': 3869, 'paragon': 3870, 'arent': 3871, 'bluff': 3872, 'sary': 3873, 'piece': 3874, 'wiskey': 3875, 'brandy': 3876, 'rum': 3877, 'gin': 3878, 'scotch': 3879, 'shampain': 3880, 'kudi': 3881, 'yarasu': 3882, 'dhina': 3883, 'vaazhthukkal': 3884, 'kg': 3885, 'dumb': 3886, 'dressed': 3887, 'kills': 3888, 'kay': 3889, 'nasty': 3890, 'slo': 3891, 'wasted': 3892, 'christ': 3893, 'tears': 3894, 'push': 3895, 'answered': 3896, 'rgds': 3897, '8pm': 3898, 'wrote': 3899, 'swiss': 3900, 'crore': 3901, 'jobs': 3902, 'lane': 3903, 'politicians': 3904, 'rights': 3905, 'donno': 3906, 'properly': 3907, '630': 3908, 'furniture': 3909, 'lock': 3910, 'shoving': 3911, 'papers': 3912, 'strange': 3913, 'acl03530150pm': 3914, 'indyarocks': 3915, 'resume': 3916, 'bids': 3917, 'whr': 3918, 'yunny': 3919, '83383': 3920, 'mmmmm': 3921, 'relatives': 3922, 'benefits': 3923, 'environment': 3924, 'terrific': 3925, 'txt82228': 3926, 'dr': 3927, 'superior': 3928, 'picsfree1': 3929, 'vid': 3930, 'ruin': 3931, 'department': 3932, 'conform': 3933, 'bc': 3934, 'toshiba': 3935, 'knock': 3936, 'innocent': 3937, 'mental': 3938, 'hoped': 3939, 'bills': 3940, '2marrow': 3941, 'treated': 3942, 'fab': 3943, 'wks': 3944, 'tiwary': 3945, 'battle': 3946, 'bang': 3947, 'pap': 3948, 'arts': 3949, 'pandy': 3950, 'edu': 3951, 'secretary': 3952, 'dollar': 3953, 'pull': 3954, 'amongst': 3955, '69696': 3956, 'nalla': 3957, 'northampton': 3958, 'abj': 3959, 'serving': 3960, 'smith': 3961, 'anna': 3962, 'nagar': 3963, 'evr': 3964, 'neither': 3965, 'hugs': 3966, 'snogs': 3967, 'west': 3968, 'fastest': 3969, 'growing': 3970, 'chase': 3971, 'steam': 3972, 'reg': 3973, 'canary': 3974, 'sleepy': 3975, 'mag': 3976, 'diwali': 3977, 'onion': 3978, 'thgt': 3979, 'lower': 3980, 'exhaust': 3981, 'pee': 3982, 'success': 3983, 'division': 3984, 'creep': 3985, 'lies': 3986, 'property': 3987, 'interflora': 3988, '09058099801': 3989, 'b4190604': 3990, '7876150ppm': 3991, 'bbd': 3992, 'pimples': 3993, 'yellow': 3994, 'frog': 3995, '88888': 3996, 'doubt': 3997, 'japanese': 3998, 'proverb': 3999, 'coin': 4000, 'freedom': 4001, 'twenty': 4002, 'painting': 4003, 'nowadays': 4004, 'talks': 4005, 'probs': 4006, 'swatch': 4007, 'ganesh': 4008, 'trips': 4009, 'helloooo': 4010, 'welcomes': 4011, '54': 4012, '2geva': 4013, 'wuld': 4014, 'solved': 4015, 'ing': 4016, 'sake': 4017, 'bruce': 4018, 'teaching': 4019, 'chest': 4020, 'covers': 4021, 'brief': 4022, 'hang': 4023, 'reboot': 4024, 'pt2': 4025, 'phoned': 4026, 'improved': 4027, 'hm': 4028, 'salon': 4029, 'evenings': 4030, 'raj': 4031, 'payment': 4032, 'shore': 4033, 'waves': 4034, 'clearing': 4035, 'range': 4036, 'topic': 4037, 'admin': 4038, 'visionsms': 4039, 'andros': 4040, 'meets': 4041, 'foot': 4042, 'penis': 4043, 'sigh': 4044, 'vth': 4045, 'eveb': 4046, 'window': 4047, 'removal': 4048, '08708034412': 4049, 'cancelled': 4050, 'lookatme': 4051, 'agalla': 4052, 'neway': 4053, 'xxxxx': 4054, 'count': 4055, 'otside': 4056, 'size': 4057, '08712101358': 4058, 'tight': 4059, 'av': 4060, 'everyday': 4061, 'curious': 4062, 'postcard': 4063, 'bread': 4064, 'mahal': 4065, 'luvs': 4066, 'ding': 4067, 'allowed': 4068, 'necessary': 4069, 'watever': 4070, 'shared': 4071, 'messaged': 4072, 'deus': 4073, 'tap': 4074, 'spile': 4075, 'broad': 4076, 'canal': 4077, 'engin': 4078, 'edge': 4079, 'east': 4080, 'howard': 4081, 'cooked': 4082, 'cheat': 4083, 'block': 4084, 'ruining': 4085, 'ee': 4086, 'easily': 4087, 'selfish': 4088, 'custom': 4089, 'sac': 4090, 'jiayin': 4091, 'pobox45w2tg150p': 4092, 'forgotten': 4093, 'reverse': 4094, 'cheating': 4095, 'mathematics': 4096, '2waxsto': 4097, 'minimum': 4098, 'elaine': 4099, 'drunken': 4100, 'mess': 4101, 'crisis': 4102, 'ias': 4103, 'mb': 4104, '600': 4105, 'desires': 4106, '1030': 4107, '447797706009': 4108, 'careers': 4109, 'priscilla': 4110, 'kent': 4111, 'vale': 4112, 'wan2': 4113, 'westlife': 4114, 'unbreakable': 4115, 'untamed': 4116, 'unkempt': 4117, '83049': 4118, 'prince': 4119, 'granite': 4120, 'explosive': 4121, 'nasdaq': 4122, 'cdgt': 4123, 'base': 4124, 'placement': 4125, 'sumthin': 4126, 'lion': 4127, 'devouring': 4128, 'airtel': 4129, 'processed': 4130, '69669': 4131, 'jaya': 4132, 'forums': 4133, 'shahjahan': 4134, 'incredible': 4135, 'o2fwd': 4136, '18p': 4137, 'ship': 4138, 'maturity': 4139, 'kavalan': 4140, 'causing': 4141, 'tonights': 4142, 'xin': 4143, 'lib': 4144, 'difference': 4145, 'despite': 4146, 'swoop': 4147, 'langport': 4148, 'mistakes': 4149, 'vegas': 4150, 'lou': 4151, 'vewy': 4152, 'pool': 4153, 'x49': 4154, '09065989182': 4155, 'disconnect': 4156, 'terrorist': 4157, 'confirmd': 4158, 'verified': 4159, 'cnn': 4160, 'ibn': 4161, 'hppnss': 4162, 'sorrow': 4163, 'goodfriend': 4164, 'stayed': 4165, 'stone': 4166, 'mila': 4167, 'age23': 4168, 'blonde': 4169, 'mtalk': 4170, '69866': 4171, '30pp': 4172, '5free': 4173, 'increments': 4174, 'help08718728876': 4175, 'stones': 4176, 'atlast': 4177, 'desert': 4178, 'funk': 4179, 'tones2u': 4180, 'funeral': 4181, 'vivek': 4182, 'tnc': 4183, 'brah': 4184, 'protect': 4185, 'sib': 4186, 'sensitive': 4187, 'passwords': 4188, 'blu': 4189, 'ipad': 4190, 'bird': 4191, 'cheese': 4192, 'tms': 4193, 'widelive': 4194, 'index': 4195, 'wml': 4196, 'hsbc': 4197, 'wave': 4198, 'asp': 4199, '09061702893': 4200, 'melt': 4201, 'eek': 4202, '09061743386': 4203, 'heater': 4204, '674': 4205, 'eta': 4206, 'housewives': 4207, '0871750': 4208, '77': 4209, 'landlines': 4210, 'dial': 4211, '09066364311': 4212, 'literally': 4213, 'kothi': 4214, 'prof': 4215, 'sem': 4216, 'student': 4217, 'actual': 4218, 'sathya': 4219, 'dealing': 4220, 'reasonable': 4221, 'kappa': 4222, 'piss': 4223, 'receipts': 4224, 'guessing': 4225, 'royal': 4226, 'sticky': 4227, 'indicate': 4228, 'repeat': 4229, 'calculation': 4230, 'blur': 4231, 'clothes': 4232, 'lush': 4233, '2find': 4234, 'greatest': 4235, 'courage': 4236, 'bear': 4237, 'defeat': 4238, 'fucked': 4239, 'beauty': 4240, 'natalja': 4241, 'nat27081980': 4242, 'moving': 4243, 'sunlight': 4244, 'jogging': 4245, 'shelf': 4246, 'mokka': 4247, '09061744553': 4248, 'polyh': 4249, 'bone': 4250, 'steve': 4251, 'epsilon': 4252, 'mesages': 4253, 'lst': 4254, 'evry': 4255, 'massive': 4256, 'absolutly': 4257, 'forms': 4258, 'polo': 4259, '373': 4260, 'w1j': 4261, '6hl': 4262, 'academic': 4263, 'convinced': 4264, 'coast': 4265, 'suppose': 4266, 'explicit': 4267, 'secs': 4268, '02073162414': 4269, 'clearly': 4270, 'gain': 4271, '89070': 4272, 'realise': 4273, 'mnths': 4274, '86888': 4275, 'subscribe6gbp': 4276, '3hrs': 4277, 'txtstop': 4278, 'managed': 4279, 'capital': 4280, 'acted': 4281, 'mis': 4282, 'loyal': 4283, 'customers': 4284, '09066380611': 4285, 'print': 4286, 'dokey': 4287, 'error': 4288, 'sleepin': 4289, 'minor': 4290, 'cashbin': 4291, 'denis': 4292, 'woulda': 4293, 'miserable': 4294, 'shoppin': 4295, '08718726270': 4296, 'celebration': 4297, 'nuther': 4298, '910': 4299, 'infections': 4300, 'kiosk': 4301, 'henry': 4302, 'parent': 4303, 'select': 4304, 'woot': 4305, 'dining': 4306, 'donate': 4307, 'cme': 4308, 'goldviking': 4309, '762': 4310, 'sarasota': 4311, '13': 4312, 'cherish': 4313, '165': 4314, 'slp': 4315, 'muah': 4316, '4eva': 4317, 'garden': 4318, 'bulbs': 4319, 'seeds': 4320, 'scotsman': 4321, 'go2': 4322, 'notxt': 4323, 'gastroenteritis': 4324, 'replace': 4325, 'reduce': 4326, 'limiting': 4327, 'illness': 4328, '09061213237': 4329, '177': 4330, 'm227xy': 4331, 'favorite': 4332, 'pride': 4333, 'respectful': 4334, 'amused': 4335, 'gr8prizes': 4336, 'mega': 4337, 'shu': 4338, 'island': 4339, '2p': 4340, 'spider': 4341, 'jurong': 4342, 'amore': 4343, 'chgs': 4344, 'aids': 4345, 'patent': 4346, 'cried': 4347, 'breather': 4348, 'granted': 4349, 'fulfil': 4350, 'qjkgighjjgcbl': 4351, 'gota': 4352, 'macedonia': 4353, 'poboxox36504w45wq': 4354, 'ffffffffff': 4355, 'forced': 4356, 'packing': 4357, 'ahhh': 4358, 'vaguely': 4359, 'apologetic': 4360, 'fallen': 4361, 'actin': 4362, 'spoilt': 4363, 'badly': 4364, 'fainting': 4365, 'housework': 4366, 'cuppa': 4367, 'timings': 4368, 'watts': 4369, 'arabian': 4370, 'steed': 4371, '07732584351': 4372, 'rodger': 4373, 'endowed': 4374, 'hep': 4375, 'immunisation': 4376, 'stubborn': 4377, 'sucker': 4378, 'suckers': 4379, 'thinked': 4380, 'smarter': 4381, 'crashing': 4382, 'accomodations': 4383, 'cave': 4384, 'offered': 4385, 'embarassing': 4386, 'jersey': 4387, 'devils': 4388, 'wings': 4389, 'incorrect': 4390, 'mallika': 4391, 'sherawat': 4392, 'gauti': 4393, 'sehwag': 4394, 'seekers': 4395, 'barbie': 4396, 'ken': 4397, 'performed': 4398, 'peoples': 4399, 'operate': 4400, 'multis': 4401, 'factory': 4402, 'casualty': 4403, 'stuff42moro': 4404, 'includes': 4405, 'hairdressers': 4406, 'beforehand': 4407, 'ams': 4408, '4the': 4409, 'signin': 4410, 'memorable': 4411, 'ip': 4412, 'minecraft': 4413, 'server': 4414, 'grumpy': 4415, 'lying': 4416, 'plural': 4417, 'openin': 4418, 'formal': 4419, '0871277810910p': 4420, 'ratio': 4421, '09064019788': 4422, 'box42wr29c': 4423, 'apples': 4424, 'pairs': 4425, 'malarky': 4426, '7548': 4427, '4041': 4428, 'sao': 4429, 'predict': 4430, 'involve': 4431, 'imposed': 4432, 'lucyxx': 4433, 'tmorrow': 4434, 'accomodate': 4435, 'gravel': 4436, 'hotmail': 4437, 'svc': 4438, '69988': 4439, 'nver': 4440, 'ummma': 4441, 'sindu': 4442, 'nevering': 4443, 'typical': 4444, 'dirt': 4445, 'chores': 4446, 'exist': 4447, 'hail': 4448, 'mist': 4449, 'aaooooright': 4450, 'annoncement': 4451, '07046744435': 4452, 'envy': 4453, 'excited': 4454, '32': 4455, 'bangbabes': 4456, 'bangb': 4457, 'cultures': 4458, '09061701939': 4459, 's89': 4460, 'missunderstding': 4461, 'bridge': 4462, 'lager': 4463, 'axis': 4464, 'surname': 4465, 'clue': 4466, 'begins': 4467, 'lifted': 4468, 'hopes': 4469, 'approaches': 4470, 'handsome': 4471, 'finding': 4472, '30th': 4473, 'areyouunique': 4474, 'league': 4475, 'ors': 4476, 'stool': 4477, '1pm': 4478, 'babyjontet': 4479, 'enc': 4480, 'ga': 4481, 'alter': 4482, 'dats': 4483, 'dogg': 4484, 'refund': 4485, 'prediction': 4486, 'ubandu': 4487, 'disk': 4488, 'scenery': 4489, 'flyng': 4490, 'aries': 4491, 'elama': 4492, 'mudyadhu': 4493, 'strict': 4494, 'gandhipuram': 4495, 'rubber': 4496, 'thirtyeight': 4497, 'hearing': 4498, 'pleassssssseeeeee': 4499, 'sportsx': 4500, 'baig': 4501, 'watches': 4502, 'ups': 4503, '3days': 4504, 'usps': 4505, 'bribe': 4506, 'nipost': 4507, 'luton': 4508, '0125698789': 4509, 'sometme': 4510, 'club4mobiles': 4511, '87070': 4512, 'club4': 4513, 'box1146': 4514, 'evo': 4515, 'narcotics': 4516, 'objection': 4517, 'rob': 4518, 'mack': 4519, 'theater': 4520, 'celebrations': 4521, 'gdeve': 4522, 'ahold': 4523, 'cruisin': 4524, 'varunnathu': 4525, 'edukkukayee': 4526, 'raksha': 4527, 'ollu': 4528, 'resend': 4529, '28thfeb': 4530, 'gurl': 4531, 'appropriate': 4532, 'diesel': 4533, 'fridge': 4534, 'womdarfull': 4535, 'rodds1': 4536, 'aberdeen': 4537, 'united': 4538, 'kingdom': 4539, 'img': 4540, 'icmb3cktz8r7': 4541, 'remb': 4542, 'jos': 4543, 'bookshelf': 4544, '85222': 4545, 'winnersclub': 4546, '84': 4547, 'gbp1': 4548, 'mylife': 4549, 'l8': 4550, 'gon': 4551, 'guild': 4552, 'evaporated': 4553, 'stealing': 4554, 'employer': 4555, 'daaaaa': 4556, 'wined': 4557, 'dined': 4558, 'hiding': 4559, 'huiming': 4560, 'prestige': 4561, 'shag': 4562, 'sextextuk': 4563, 'xxuk': 4564, '69876': 4565, 'jeremiah': 4566, 'iphone': 4567, 'apeshit': 4568, 'safely': 4569, 'onam': 4570, 'sirji': 4571, 'tata': 4572, 'aig': 4573, '08708800282': 4574, 'andrews': 4575, 'db': 4576, 'dawns': 4577, 'refreshed': 4578, 'z': 4579, 'f4q': 4580, 'rp176781': 4581, 'regalportfolio': 4582, '08717205546': 4583, 'uniform': 4584, 'spoil': 4585, 't91': 4586, '09057039994': 4587, 'lindsay': 4588, 'bars': 4589, 'heron': 4590, 'payasam': 4591, 'rinu': 4592, 'taught': 4593, 'becaus': 4594, 'verifying': 4595, 'prabu': 4596, 'repairs': 4597, 'followin': 4598, 'wallet': 4599, '945': 4600, 'owl': 4601, 'kickboxing': 4602, 'lap': 4603, 'performance': 4604, 'calculated': 4605, 'wahleykkum': 4606, 'visitor': 4607, '2814032': 4608, '3x': 4609, '150pw': 4610, 'stoners': 4611, 'disastrous': 4612, 'busetop': 4613, 'iron': 4614, 'okies': 4615, 'wendy': 4616, '09064012103': 4617, '09111032124': 4618, 'pobox12n146tf150p': 4619, '09058094455': 4620, 'sentiment': 4621, 'rowdy': 4622, 'attitude': 4623, 'attractive': 4624, 'urination': 4625, 'hillsborough': 4626, 'shoul': 4627, 'hasnt': 4628, 'werethe': 4629, 'monkeespeople': 4630, 'monkeyaround': 4631, 'howdy': 4632, 'howu': 4633, 'foundurself': 4634, 'jobyet': 4635, 'sausage': 4636, 'blimey': 4637, 'exercise': 4638, 'concentration': 4639, 'hanks': 4640, 'lotsly': 4641, 'detail': 4642, 'optimistic': 4643, 'consistently': 4644, 'practicum': 4645, 'links': 4646, 'ears': 4647, 'wavering': 4648, 'heal': 4649, 'upgrdcentre': 4650, '9153': 4651, 'oral': 4652, 'slippery': 4653, 'bike': 4654, 'okmail': 4655, 'enters': 4656, '69888nyt': 4657, 'machi': 4658, 'mcr': 4659, 'jaykwon': 4660, 'thuglyfe': 4661, 'falconerf': 4662, 'faded': 4663, 'glory': 4664, 'ralphs': 4665, 'reunion': 4666, 'accenture': 4667, 'jackson': 4668, 'reache': 4669, 'nuerologist': 4670, 'lolnice': 4671, 'westshore': 4672, 'significance': 4673, 'ammo': 4674, 'ak': 4675, 'boltblue': 4676, 'poly3': 4677, 'jamz': 4678, 'toxic': 4679, 'topped': 4680, 'bubbletext': 4681, 'tgxxrz': 4682, 'problematic': 4683, 'unconscious': 4684, 'adults': 4685, 'abnormally': 4686, '9755': 4687, 'recieve': 4688, 'teletext': 4689, 'faggot': 4690, '07815296484': 4691, '41782': 4692, 'bani': 4693, 'leads': 4694, 'buttons': 4695, 'applausestore': 4696, 'monthlysubscription': 4697, 'max6': 4698, 'csc': 4699, 'famous': 4700, 'unconditionally': 4701, 'temper': 4702, 'oclock': 4703, 'bash': 4704, 'cooped': 4705, 'invitation': 4706, 'weddin': 4707, 'alibi': 4708, 'sink': 4709, 'paces': 4710, 'cage': 4711, 'surrounded': 4712, 'cuck': 4713, 'deficient': 4714, 'acknowledgement': 4715, 'astoundingly': 4716, 'tactless': 4717, 'oath': 4718, 'magic': 4719, 'silly': 4720, 'uv': 4721, 'causes': 4722, 'mutations': 4723, 'sunscreen': 4724, 'thesedays': 4725, 'bao': 4726, 'sugardad': 4727, 'brownie': 4728, 'ninish': 4729, 'icky': 4730, 'freek': 4731, 'ridden': 4732, 'missy': 4733, 'goggles': 4734, 'arguing': 4735, '09050005321': 4736, 'arngd': 4737, 'walkin': 4738, 'unfortuntly': 4739, 'bites': 4740, 'frnt': 4741, 'sayin': 4742, 'textand': 4743, '08002988890': 4744, 'jjc': 4745, 'tendencies': 4746, 'meive': 4747, 'gotany': 4748, 'srsly': 4749, 'yi': 4750, '07753741225': 4751, '08715203677': 4752, '42478': 4753, 'prix': 4754, 'stands': 4755, 'nitz': 4756, 'blastin': 4757, 'occur': 4758, 'rajnikant': 4759, 'ocean': 4760, 'xclusive': 4761, 'clubsaisai': 4762, 'speciale': 4763, 'zouk': 4764, 'roses': 4765, '07946746291': 4766, '07880867867': 4767, 'bridgwater': 4768, 'banter': 4769, 'dependents': 4770, 'thanx4': 4771, 'cer': 4772, 'hundreds': 4773, 'handsomes': 4774, 'beauties': 4775, 'aunties': 4776, 'friendships': 4777, 'dismay': 4778, 'concerned': 4779, 'tootsie': 4780, 'seventeen': 4781, 'ml': 4782, 'fetching': 4783, 'restock': 4784, 'brighten': 4785, 'allo': 4786, 'braved': 4787, 'triumphed': 4788, 'uncomfortable': 4789, '08715203694': 4790, 'sonetimes': 4791, 'rough': 4792, 'wesleys': 4793, 'cloud': 4794, 'wikipedia': 4795, '88800': 4796, '89034': 4797, '08718711108': 4798, 'repent': 4799, 'positions': 4800, 'kama': 4801, 'sutra': 4802, 'nange': 4803, 'bakra': 4804, 'kalstiya': 4805, 'lakhs': 4806, 'sun0819': 4807, '08452810071': 4808, 'ditto': 4809, 'wetherspoons': 4810, 'piggy': 4811, 'freaky': 4812, 'scrappy': 4813, 'sdryb8i': 4814, 'lapdancer': 4815, 'g2': 4816, '1da': 4817, '150ppmsg': 4818, 'crying': 4819, 'imprtant': 4820, 'tomorw': 4821, 'cherthala': 4822, 'bfore': 4823, 'tmorow': 4824, 'engaged': 4825, '448712404000': 4826, '08712404000': 4827, '1405': 4828, '1680': 4829, '1843': 4830, 'entrepreneurs': 4831, 'corporation': 4832, 'prevent': 4833, 'dehydration': 4834, 'fluids': 4835, 'trek': 4836, 'harri': 4837, 'gage': 4838, 'deck': 4839, 'cnupdates': 4840, 'newsletter': 4841, 'alerts': 4842, 'shitstorm': 4843, 'attributed': 4844, '08714712388': 4845, '449071512431': 4846, 'sth': 4847, 'specs': 4848, 'px3748': 4849, '08714712394': 4850, 'macha': 4851, 'mindset': 4852, 'wondar': 4853, 'flim': 4854, 'jelly': 4855, 'scrumptious': 4856, 'dao': 4857, 'half8th': 4858, 'jide': 4859, 'visiting': 4860, 'alertfrom': 4861, 'jeri': 4862, 'stewartsize': 4863, '2kbsubject': 4864, 'prescripiton': 4865, 'drvgsto': 4866, 'steak': 4867, 'neglect': 4868, 'prayers': 4869, 'hadn': 4870, 'clocks': 4871, 'realised': 4872, 'wahay': 4873, 'gaze': 4874, '82324': 4875, 'tattoos': 4876, 'caveboy': 4877, 'vibrate': 4878, '79': 4879, '08704439680ts': 4880, 'grandmas': 4881, 'hungover': 4882, 'unclaimed': 4883, '09066368327': 4884, 'closingdate04': 4885, 'claimcode': 4886, 'm39m51': 4887, '50pmmorefrommobile2bremoved': 4888, 'mobypobox734ls27yf': 4889, 'gua': 4890, 'faber': 4891, 'dramatic': 4892, 'hunting': 4893, 'drunkard': 4894, 'idc': 4895, 'weaseling': 4896, 'trash': 4897, 'punish': 4898, 'beerage': 4899, 'randomlly': 4900, 'fixes': 4901, 'spelling': 4902, '100p': 4903, '087018728737': 4904, 'toppoly': 4905, 'tune': 4906, 'fondly': 4907, 'dogbreath': 4908, 'sounding': 4909, 'weighed': 4910, 'woohoo': 4911, 'uncountable': 4912, '9996': 4913, '14thmarch': 4914, 'availa': 4915, 'whereare': 4916, 'friendsare': 4917, 'thekingshead': 4918, 'canlove': 4919, 'rg21': 4920, '4jx': 4921, 'dled': 4922, 'smokin': 4923, 'boooo': 4924, 'costumes': 4925, 'yowifes': 4926, 'outbid': 4927, 'simonwatson5120': 4928, 'shinco': 4929, 'plyr': 4930, 'smsrewards': 4931, 'notifications': 4932, 'youi': 4933, 'yourjob': 4934, 'llspeak': 4935, 'soonlots': 4936, 'starshine': 4937, 'sips': 4938, 'smsservices': 4939, 'yourinclusive': 4940, 'bits': 4941, 'turned': 4942, 'burial': 4943, 'rv': 4944, 'rvx': 4945, 'comprehensive': 4946, 'prashanthettan': 4947, 'samantha': 4948, 'guitar': 4949, 'impress': 4950, 'doug': 4951, 'realizes': 4952, 'trauma': 4953, 'swear': 4954, 'inner': 4955, 'tigress': 4956, 'urfeeling': 4957, 'bettersn': 4958, 'probthat': 4959, 'overdose': 4960, '83110': 4961, 'ana': 4962, 'sathy': 4963, 'rto': 4964, 'spoons': 4965, 'corvettes': 4966, '09061104283': 4967, '50pm': 4968, 'bunkers': 4969, '07808': 4970, 'xxxxxx': 4971, '08719899217': 4972, 'posh': 4973, 'chaps': 4974, 'trial': 4975, 'prods': 4976, 'champneys': 4977, 'dob': 4978, '0721072': 4979, 'philosophical': 4980, 'hole': 4981, 'atleast': 4982, 'shakespeare': 4983, 'doit': 4984, 'mymoby': 4985, 'woul': 4986, 'curfew': 4987, 'gibe': 4988, 'getsleep': 4989, 'studdying': 4990, 'massages': 4991, 'yoyyooo': 4992, 'permissions': 4993, 'mike': 4994, 'hussey': 4995, 'faglord': 4996, 'nutter': 4997, 'cutter': 4998, 'ctter': 4999, 'cttergg': 5000, 'cttargg': 5001, 'ctargg': 5002, 'ctagg': 5003, 'ie': 5004, 'thus': 5005, 'grateful': 5006, 'happier': 5007, 'agents': 5008, 'experiment': 5009, 'invoices': 5010, 'smell': 5011, 'tobacco': 5012, 'assumed': 5013, 'lastest': 5014, 'stereophonics': 5015, 'marley': 5016, 'dizzee': 5017, 'racal': 5018, 'libertines': 5019, 'strokes': 5020, 'nookii': 5021, 'bookmark': 5022, 'grinule': 5023, 'fudge': 5024, 'oreos': 5025, 'zaher': 5026, 'nauseous': 5027, 'dieting': 5028, 'avalarr': 5029, 'hollalater': 5030, 'rounds': 5031, 'blogging': 5032, 'magicalsongs': 5033, 'blogspot': 5034, 'slices': 5035, 'kvb': 5036, '1million': 5037, 'ppt150x3': 5038, 'box403': 5039, 'w1t1jy': 5040, 'alternative': 5041, 'ore': 5042, 'owo': 5043, 'fro': 5044, 'samus': 5045, 'shoulders': 5046, 'matthew': 5047, '09063440451': 5048, 'ppm150': 5049, 'box334': 5050, 'vomitin': 5051, '09061749602': 5052, '528': 5053, 'hp20': 5054, '1yf': 5055, 'stuffed': 5056, 'writhing': 5057, 'paypal': 5058, 'voila': 5059, 'pockets': 5060, 'theyre': 5061, 'folks': 5062, 'sorta': 5063, 'blown': 5064, 'sophas': 5065, 'secondary': 5066, 'applying': 5067, 'ogunrinde': 5068, 'lodging': 5069, 'chk': 5070, 'dict': 5071, 'shb': 5072, 'stories': 5073, 'retired': 5074, 'natwest': 5075, 'chad': 5076, 'gymnastics': 5077, 'christians': 5078, 'token': 5079, 'liking': 5080, 'aptitude': 5081, 'horse': 5082, 'wrongly': 5083, 'boggy': 5084, 'biatch': 5085, 'hesitate': 5086, 'weakness': 5087, 'notebook': 5088, 'eightish': 5089, 'carpark': 5090, '67441233': 5091, 'irene': 5092, 'ere': 5093, 'bus8': 5094, '61': 5095, '66': 5096, '382': 5097, 'cres': 5098, '6ph': 5099, '5wkg': 5100, 'relaxing': 5101, '7am': 5102, '5ish': 5103, 'stripes': 5104, 'skirt': 5105, 'escalator': 5106, 'beth': 5107, 'charlie': 5108, 'syllabus': 5109, 'panasonic': 5110, 'bluetoothhdset': 5111, 'doublemins': 5112, 'doubletxt': 5113, '30pm': 5114, 'poyyarikatur': 5115, 'kolathupalayam': 5116, 'unjalur': 5117, 'erode': 5118, 'hero': 5119, 'apt': 5120, 'meat': 5121, 'supreme': 5122, 'cudnt': 5123, 'ctla': 5124, 'ente': 5125, 'ishtamayoo': 5126, 'bakrid': 5127, 'glorious': 5128, 'finds': 5129, 'coaxing': 5130, 'images': 5131, 'fond': 5132, 'souveniers': 5133, 'cougar': 5134, '09065394514': 5135, 'scratches': 5136, 'nanny': 5137, 'shitin': 5138, 'defo': 5139, 'hardest': 5140, 'millions': 5141, 'lekdog': 5142, 'blankets': 5143, 'atten': 5144, '09058097218': 5145, 'data': 5146, 'analysis': 5147, 'belligerent': 5148, 'les': 5149, 'rudi': 5150, 'snoring': 5151, 'ink': 5152, '515': 5153, 'throwing': 5154, 'finalise': 5155, 'flirtparty': 5156, 'replys150': 5157, 'dentist': 5158, 'lul': 5159, 'nurses': 5160, 'shes': 5161, 'obese': 5162, 'oyea': 5163, 'ami': 5164, 'parchi': 5165, 'kicchu': 5166, 'kaaj': 5167, 'korte': 5168, 'iccha': 5169, 'korche': 5170, 'tul': 5171, 'copies': 5172, 'sculpture': 5173, 'surya': 5174, 'pokkiri': 5175, 'attraction': 5176, 'sorrows': 5177, 'proove': 5178, 'praises': 5179, 'makiing': 5180, 'sambar': 5181, 'ndship': 5182, 'needle': 5183, '4few': 5184, 'conected': 5185, 'spatula': 5186, 'complexities': 5187, 'freely': 5188, 'taxes': 5189, 'outrageous': 5190, 'ryder': 5191, 'elvis': 5192, 'presleys': 5193, 'strips': 5194, 'postal': 5195, 'gifts': 5196, 'cliff': 5197, 'wrking': 5198, 'sittin': 5199, 'drops': 5200, 'hen': 5201, 'smoked': 5202, 'teju': 5203, 'hourish': 5204, 'amla': 5205, 'convenience': 5206, 'evaluation': 5207, '449050000301': 5208, '09050000301': 5209, '80155': 5210, 'swap': 5211, 'chatter': 5212, 'chat80155': 5213, 'rcd': 5214, 'cheyyamo': 5215, '80160': 5216, 'txt43': 5217, 'throws': 5218, 'brothers': 5219, 'hmv1': 5220, 'errors': 5221, 'tau': 5222, 'piah': 5223, '1stchoice': 5224, '08707808226': 5225, 'shade': 5226, 'copied': 5227, 'notified': 5228, 'marketing': 5229, '84122': 5230, '08450542832': 5231, 'virgins': 5232, 'sexual': 5233, 'theirs': 5234, '69911': 5235, 'sitter': 5236, 'kaitlyn': 5237, 'danger': 5238, 'peeps': 5239, 'comment': 5240, 'veggie': 5241, 'neighbors': 5242, 'computerless': 5243, 'balloon': 5244, 'melody': 5245, 'macs': 5246, 'hme': 5247, 'velachery': 5248, 'flippin': 5249, 'breaking': 5250, 'cstore': 5251, 'hangin': 5252, 'lodge': 5253, 'worrying': 5254, 'quizzes': 5255, '087016248': 5256, '08719181503': 5257, 'thin': 5258, 'arguments': 5259, 'fed': 5260, 'himso': 5261, 'semi': 5262, 'exp': 5263, '30apr': 5264, 'maaaan': 5265, 'guessin': 5266, 'ilol': 5267, 'personally': 5268, 'wuldnt': 5269, 'lunchtime': 5270, 'organise': 5271, 'passable': 5272, 'phd': 5273, '5years': 5274, 'prakesh': 5275, 'betta': 5276, 'aging': 5277, 'products': 5278, 'accommodation': 5279, 'global': 5280, 'phb1': 5281, '08700435505150p': 5282, 'submitting': 5283, 'snatch': 5284, 'drivby': 5285, '0quit': 5286, 'edrunk': 5287, 'iff': 5288, 'pthis': 5289, 'senrd': 5290, 'dnot': 5291, 'dancce': 5292, 'drum': 5293, 'basq': 5294, 'ihave': 5295, '2nhite': 5296, 'ros': 5297, 'xxxxxxx': 5298, 'relieved': 5299, 'westonzoyland': 5300, 'greatness': 5301, 'goin2bed': 5302, 'only1more': 5303, 'mc': 5304, 'every1': 5305, 'ava': 5306, 'goodtime': 5307, 'oli': 5308, 'melnite': 5309, 'ifink': 5310, 'everythin': 5311, 'l8rs': 5312, '08712402779': 5313, 'shun': 5314, 'bian': 5315, 'glass': 5316, 'exhibition': 5317, 'el': 5318, 'nino': 5319, 'himself': 5320, 'downstem': 5321, '08718730555': 5322, 'wahala': 5323, 'inperialmusic': 5324, 'listening2the': 5325, 'leafcutter': 5326, 'insects': 5327, 'molested': 5328, 'plumbing': 5329, 'remixed': 5330, 'evil': 5331, 'acid': 5332, 'didntgive': 5333, 'bellearlier': 5334, 'bedbut': 5335, 'thepub': 5336, 'uwana': 5337, 'jenxxx': 5338, '09096102316': 5339, 'cheery': 5340, 'weirdo': 5341, 'stalk': 5342, 'profiles': 5343, '95': 5344, 'pax': 5345, 'deposit': 5346, 'jap': 5347, 'disappeared': 5348, 'certificate': 5349, 'publish': 5350, 'wheellock': 5351, 'destination': 5352, 'fifty': 5353, 'settling': 5354, 'happenin': 5355, 'cocksuckers': 5356, 'ipads': 5357, 'worthless': 5358, 'novelty': 5359, 'janx': 5360, 'dads': 5361, 'designation': 5362, 'developer': 5363, 'videosound': 5364, 'videosounds': 5365, 'musicnews': 5366, '09701213186': 5367, 'spirit': 5368, 'shattered': 5369, 'girlie': 5370, 'darker': 5371, 'styling': 5372, 'gray': 5373, 'listn': 5374, 'watevr': 5375, 'minus': 5376, 'paragraphs': 5377, 'coveragd': 5378, 'vasai': 5379, 'retard': 5380, 'bathroom': 5381, 'sang': 5382, 'uptown': 5383, '80': 5384, 'icic': 5385, 'syria': 5386, 'gauge': 5387, 'completing': 5388, 'ax': 5389, 'surgical': 5390, 'emergency': 5391, 'unfolds': 5392, 'korean': 5393, 'fredericksburg': 5394, 'que': 5395, 'pases': 5396, 'buen': 5397, 'tiempo': 5398, 'compass': 5399, 'gnun': 5400, 'way2sms': 5401, 'baaaaabe': 5402, 'misss': 5403, 'youuuuu': 5404, 'convince': 5405, 'witot': 5406, 'buyer': 5407, 'becz': 5408, 'undrstndng': 5409, 'avoids': 5410, 'suffer': 5411, 'steamboat': 5412, 'forgive': 5413, 'tp': 5414, 'bbq': 5415, '6ish': 5416, 'everyso': 5417, 'panicks': 5418, 'nick': 5419, 'types': 5420, 'auntie': 5421, 'huai': 5422, 'path': 5423, 'appear': 5424, 'paths': 5425, 'reserve': 5426, 'thirunelvali': 5427, 'tackle': 5428, 'tonght': 5429, 'ploughing': 5430, 'pile': 5431, 'ironing': 5432, 'chinky': 5433, 'wi': 5434, 'nz': 5435, 'aust': 5436, 'recharged': 5437, 'papa': 5438, 'detailed': 5439, 'losers': 5440, 'beta': 5441, 'noncomittal': 5442, 'snickering': 5443, 'chords': 5444, 'win150ppmx3age16': 5445, 'boyf': 5446, 'interviw': 5447, 'spreadsheet': 5448, 'determine': 5449, 'entire': 5450, 'dartboard': 5451, 'doubles': 5452, 'trebles': 5453, 'recognises': 5454, 'wisheds': 5455, 'intrepid': 5456, 'duo': 5457, 'breeze': 5458, 'fresh': 5459, 'twittering': 5460, 'ducking': 5461, 'chinchillas': 5462, 'function': 5463, 'headstart': 5464, 'rummer': 5465, 'flying': 5466, 'optin': 5467, 'bbc': 5468, 'charts': 5469, 'thanks2': 5470, 'rajini': 5471, 'summers': 5472, 'matched': 5473, 'help08714742804': 5474, 'spys': 5475, '09099725823': 5476, 'offering': 5477, 'yalru': 5478, 'astne': 5479, 'innu': 5480, 'mundhe': 5481, 'halla': 5482, 'bilo': 5483, 'edhae': 5484, 'ovr': 5485, 'vargu': 5486, 'prone': 5487, '07801543489': 5488, 'latests': 5489, 'llc': 5490, 'usa': 5491, 'msgrcvd18': 5492, 'permission': 5493, 'meetins': 5494, 'cumin': 5495, '09099726395': 5496, 'dose': 5497, 'tablet': 5498, 'incomm': 5499, 'maps': 5500, 'tiring': 5501, 'concentrating': 5502, 'browsin': 5503, 'compulsory': 5504, 'investigate': 5505, 'vitamin': 5506, 'crucial': 5507, '2channel': 5508, 'leadership': 5509, 'skills': 5510, 'psychic': 5511, 'host': 5512, 'based': 5513, 'idps': 5514, 'linux': 5515, 'systems': 5516, 'converter': 5517, 'sayy': 5518, 'leanne': 5519, 'disc': 5520, 'champ': 5521, 'glasgow': 5522, 'lovin': 5523, 'install': 5524, 'browse': 5525, 'artists': 5526, 'corect': 5527, 'speling': 5528, '4719': 5529, '523': 5530, 'cts': 5531, 'employee': 5532, 'nike': 5533, 'sooo': 5534, 'shouting': 5535, 'dang': 5536, 'earliest': 5537, 'nordstrom': 5538, 'conference': 5539, 'degree': 5540, 'bleak': 5541, 'shant': 5542, 'nearer': 5543, 'raiden': 5544, 'totes': 5545, 'pierre': 5546, 'cardin': 5547, 'establish': 5548, 'truro': 5549, 'ext': 5550, 'cloth': 5551, 'sunroof': 5552, 'blanked': 5553, 'image': 5554, 'kalainar': 5555, 'thenampet': 5556, 'nosy': 5557, 'reacting': 5558, 'freaked': 5559, 'satanic': 5560, 'imposter': 5561, 'destiny': 5562, 'companion': 5563, 'chef': 5564, 'listener': 5565, 'organizer': 5566, 'sympathetic': 5567, 'athletic': 5568, 'courageous': 5569, 'determined': 5570, 'dependable': 5571, 'psychologist': 5572, 'pest': 5573, 'exterminator': 5574, 'psychiatrist': 5575, 'healer': 5576, 'stylist': 5577, 'aaniye': 5578, 'pudunga': 5579, 'venaam': 5580, 'chez': 5581, 'jules': 5582, 'hhahhaahahah': 5583, 'nig': 5584, 'leonardo': 5585, '2years': 5586, 'strain': 5587, 'withdraw': 5588, 'anyhow': 5589, 'millers': 5590, 'spark': 5591, 'rawring': 5592, 'xoxo': 5593, 'somewhr': 5594, 'crushes': 5595, 'honeymoon': 5596, 'outfit': 5597, '08719899230': 5598, 'cheque': 5599, 'olympics': 5600, 'leo': 5601, 'haul': 5602, 'wildlife': 5603, 'want2come': 5604, 'that2worzels': 5605, 'wizzle': 5606, 'shanghai': 5607, 'cya': 5608, '645': 5609, 'rt': 5610, 'pro': 5611, '08701237397': 5612, 'redeemable': 5613, 'thnx': 5614, 'sef': 5615, 'anjie': 5616, 'fring': 5617, 'nte': 5618, '02072069400': 5619, 'bx': 5620, '526': 5621, 'talents': 5622, 'animal': 5623, 'shiny': 5624, 'warming': 5625, 'french': 5626, 'fooled': 5627, '0a': 5628, 'companies': 5629, 'responsible': 5630, 'suppliers': 5631, 'guarantee': 5632, 'lnly': 5633, 'keen': 5634, 'dammit': 5635, 'wright': 5636, 'somewhat': 5637, 'laden': 5638, 'wrecked': 5639, 'spontaneously': 5640, 'goodevening': 5641, 'rgent': 5642, 'daytime': 5643, 'busty': 5644, '09099726429': 5645, 'janinexx': 5646, 'spageddies': 5647, 'phasing': 5648, 'fourth': 5649, 'dimension': 5650, 'meaningful': 5651, '09050001295': 5652, 'a21': 5653, 'mobsi': 5654, '391784': 5655, 'dub': 5656, 'je': 5657, 'unspoken': 5658, 'squatting': 5659, '0089': 5660, 'digits': 5661, '09063442151': 5662, 'sonathaya': 5663, 'soladha': 5664, 'raping': 5665, 'dudes': 5666, 'weightloss': 5667, 'mushy': 5668, 'embarrassed': 5669, 'stash': 5670, 'priya': 5671, 'kilos': 5672, 'accidant': 5673, 'tookplace': 5674, 'ghodbandar': 5675, 'slovely': 5676, 'sc': 5677, 'specialise': 5678, 'wad': 5679, 'desparately': 5680, 'stereo': 5681, 'mi': 5682, 'classmates': 5683, 'fires': 5684, 'trackmarque': 5685, 'vipclub4u': 5686, 'missionary': 5687, 'entertaining': 5688, 'hugh': 5689, 'laurie': 5690, 'praps': 5691, 'jon': 5692, 'spain': 5693, 'dinero': 5694, '000pes': 5695, 'complaining': 5696, 'mandy': 5697, 'sullivan': 5698, 'hotmix': 5699, 'fm': 5700, '09041940223': 5701, 'transferred': 5702, 'finn': 5703, 'downon': 5704, 'theacusations': 5705, 'itxt': 5706, 'iwana': 5707, 'wotu': 5708, 'thew': 5709, 'haventcn': 5710, 'nething': 5711, 'dine': 5712, 'conacted': 5713, '09111030116': 5714, 'pobox12n146tf15': 5715, 'inspection': 5716, 'nursery': 5717, 'panren': 5718, 'paru': 5719, 'chuckin': 5720, 'trainners': 5721, 'carryin': 5722, 'bac': 5723, 'dhanush': 5724, 'needing': 5725, 'habba': 5726, 'dileep': 5727, 'muchand': 5728, 'venugopal': 5729, 'mentioned': 5730, 'remembrs': 5731, 'everytime': 5732, '3230': 5733, 'textbook': 5734, 'algorithms': 5735, 'edition': 5736, '09064018838': 5737, 'cro1327': 5738, 'intend': 5739, 'iwas': 5740, 'marine': 5741, 'itried2tell': 5742, 'urmom': 5743, 'careabout': 5744, 'learned': 5745, 'iraq': 5746, 'afghanistan': 5747, 'stable': 5748, 'honest': 5749, 'traveling': 5750, '1225': 5751, '50award': 5752, 'pai': 5753, 'seh': 5754, 'parts': 5755, 'walsall': 5756, 'tue': 5757, 'terry': 5758, 'ccna': 5759, 'shrek': 5760, 'fellow': 5761, 'dying': 5762, 'lifting': 5763, 'teresa': 5764, 'dec': 5765, 'ld': 5766, 'bam': 5767, 'aid': 5768, 'usmle': 5769, 'squishy': 5770, 'mwahs': 5771, 'hottest': 5772, 'prominent': 5773, 'cheek': 5774, 'september': 5775, 'hack': 5776, 'backdoor': 5777, 'fraction': 5778, 'neo69': 5779, '09050280520': 5780, 'subscribe': 5781, 'dps': 5782, 'bcm': 5783, '8027': 5784, 'comingdown': 5785, 'murali': 5786, 'sts': 5787, 'engalnd': 5788, 'mia': 5789, 'elliot': 5790, 'kissing': 5791, '2price': 5792, '100txt': 5793, 'd3wv': 5794, 'matric': 5795, '850': 5796, '650': 5797, '08718726970': 5798, 'payments': 5799, 'fedex': 5800, 'reception': 5801, 'consensus': 5802, 'entertain': 5803, 'tag': 5804, 'bras': 5805, 'strewn': 5806, 'pillows': 5807, 'weaknesses': 5808, 'knee': 5809, 'exposes': 5810, 'pulls': 5811, 'wicked': 5812, 'supports': 5813, 'srt': 5814, 'ps3': 5815, 'jontin': 5816, 'banned': 5817, 'biro': 5818, '09058094594': 5819, 'shell': 5820, 'unconsciously': 5821, 'unhappy': 5822, 'jog': 5823, '09061743811': 5824, 'lark': 5825, '09090900040': 5826, 'extreme': 5827, 'sic': 5828, '7mp': 5829, '0870753331018': 5830, 'fones': 5831, 'wild': 5832, 'stop2stop': 5833, 'lim': 5834, 'parachute': 5835, 'placed': 5836, 'lambda': 5837, 'angels': 5838, 'snowball': 5839, 'ello': 5840, 'duffer': 5841, 'grr': 5842, 'pharmacy': 5843, '08715500022': 5844, 'rpl': 5845, 'cnl': 5846, 'nor': 5847, 'fffff': 5848, 'lifebook': 5849, 'zhong': 5850, 'qing': 5851, 'act': 5852, 'hypertension': 5853, 'annoyin': 5854, '08702490080': 5855, 'vpod': 5856, 'nigro': 5857, 'scratching': 5858, 'anyplaces': 5859, 'priority': 5860, 'ecstasy': 5861, '09090204448': 5862, 'minded': 5863, 'minapn': 5864, 'ls278bb': 5865, 'hittng': 5866, 'reflex': 5867, 'adewale': 5868, 'egbon': 5869, 'mary': 5870, 'deduct': 5871, 'wrks': 5872, 'monkey': 5873, 'asshole': 5874, 'grab': 5875, 'sliding': 5876, '09065394973': 5877, 'payback': 5878, 'tescos': 5879, 'feathery': 5880, 'bowa': 5881, 'infra': 5882, 'gep': 5883, '2006': 5884, 'fifa': 5885, 'shhhhh': 5886, 'related': 5887, 'arul': 5888, 'amk': 5889, '09061743810': 5890, 'length': 5891, 'antha': 5892, 'corrct': 5893, 'dane': 5894, 'basket': 5895, 'rupaul': 5896, 'practising': 5897, 'curtsey': 5898, 'payed2day': 5899, 'havbeen': 5900, 'rise': 5901, '4my': 5902, 'havebeen': 5903, 'preschoolco': 5904, 'ordinator': 5905, '2i': 5906, 'feelingood': 5907, 'memory': 5908, 'converted': 5909, 'african': 5910, 'soil': 5911, 'roles': 5912, 'outreach': 5913, '8lb': 5914, '7oz': 5915, 'brilliantly': 5916, 'forwarding': 5917, 'intention': 5918, 'visitors': 5919, 'rules': 5920, 'bend': 5921, 'thia': 5922, 'inlude': 5923, 'previews': 5924, 'ambrith': 5925, 'madurai': 5926, 'dha': 5927, 'marrge': 5928, 'kitty': 5929, 'shaved': 5930, 'tactful': 5931, 'pert': 5932, 'crammed': 5933, 'satsgettin': 5934, '47per': 5935, 'apologize': 5936, 'pei': 5937, 'subtoitles': 5938, 'jot': 5939, 'cereals': 5940, 'gari': 5941, 'bold2': 5942, '09094100151': 5943, 'cast': 5944, 'gbp5': 5945, 'box61': 5946, 'm60': 5947, '1er': 5948, 'thkin': 5949, 'resubbing': 5950, 'shadow': 5951, 'breadstick': 5952, 'saeed': 5953, '09066362220': 5954, 'purple': 5955, 'yelow': 5956, 'brown': 5957, 'arranging': 5958, 'eldest': 5959, 'drugdealer': 5960, 'wither': 5961, '23f': 5962, '23g': 5963, 'wondarfull': 5964, 'web2mobile': 5965, 'txt250': 5966, 'box139': 5967, 'la32wu': 5968, 'txtx': 5969, 'onbus': 5970, 'donyt': 5971, 'latelyxxx': 5972, '85233': 5973, 'justthought': 5974, 'sayhey': 5975, 'endof': 5976, 'offdam': 5977, 'nevamind': 5978, '2hook': 5979, 'uwant': 5980, 'stressed': 5981, 'soooo': 5982, 'provider': 5983, 'tming': 5984, 'cutest': 5985, 'dice': 5986, '08700469649': 5987, 'box420': 5988, 'howda': 5989, 'mathe': 5990, 'samachara': 5991, 'audrie': 5992, 'autocorrect': 5993, 'simulate': 5994, 'readiness': 5995, 'lara': 5996, 'supplies': 5997, 'guesses': 5998, 'attach': 5999, '087123002209am': 6000, 'washob': 6001, 'nobbing': 6002, 'nickey': 6003, 'platt': 6004, 'spotty': 6005, 'province': 6006, 'sterling': 6007, 'hall': 6008, 'hesitation': 6009, 'intha': 6010, 'ponnungale': 6011, 'ipaditan': 6012, 'rejected': 6013, 'noisy': 6014, 'needa': 6015, 'manual': 6016, 'reset': 6017, 'troubleshooting': 6018, 'b4u': 6019, 'marsms': 6020, 'b4utele': 6021, '08717168528': 6022, 'strongly': 6023, 'creativity': 6024, 'stifled': 6025, 'requirements': 6026, '2getha': 6027, 'buffy': 6028, 'qlynnbv': 6029, 'help08700621170150p': 6030, 'nosh': 6031, 'waaaat': 6032, 'lololo': 6033, 'occupied': 6034, 'documents': 6035, 'submitted': 6036, 'stapati': 6037, 'cutie': 6038, 'hills': 6039, 'honesty': 6040, 'specialisation': 6041, 'labor': 6042, 'shakara': 6043, 'beggar': 6044, 'dent': 6045, 'crickiting': 6046, 'imin': 6047, 'dontmatter': 6048, 'urgoin': 6049, 'outl8r': 6050, 'reallyneed': 6051, '2docd': 6052, 'dontplease': 6053, 'dontignore': 6054, 'mycalls': 6055, 'thecd': 6056, 'isv': 6057, 'tome': 6058, 'yavnt': 6059, 'popping': 6060, 'ibuprofens': 6061, 'sip': 6062, 'grown': 6063, 'chinatown': 6064, 'porridge': 6065, 'claypot': 6066, 'yam': 6067, 'fishhead': 6068, 'beehoon': 6069, 'jaklin': 6070, 'nearby': 6071, 'cliffs': 6072, '49': 6073, 'bundle': 6074, 'deals': 6075, 'avble': 6076, 'mf': 6077, 'ooh': 6078, '4got': 6079, 'moseley': 6080, 'weds': 6081, 'thankyou': 6082, 'aluable': 6083, 'ffectionate': 6084, 'oveable': 6085, 'ternal': 6086, 'oble': 6087, 'ruthful': 6088, 'ntimate': 6089, 'atural': 6090, 'namous': 6091, 'textin': 6092, 'amigos': 6093, 'burn': 6094, 'progress': 6095, 'weren': 6096, 'arty': 6097, 'collages': 6098, 'tryin': 6099, '2hrs': 6100, 'waliking': 6101, 'cartons': 6102, 'shelves': 6103, '08714712379': 6104, 'mirror': 6105, 'k718': 6106, '09065069120': 6107, 'jod': 6108, 'keris': 6109, 'smidgin': 6110, 'intentions': 6111, 'accordin': 6112, 'knocking': 6113, 'como': 6114, 'listened2the': 6115, 'plaid': 6116, 'air1': 6117, 'hilarious': 6118, 'braindance': 6119, 'ofstuff': 6120, 'aphex': 6121, 'abel': 6122, 'hav2hear': 6123, 'nelson': 6124, 'unmits': 6125, 'newspapers': 6126, 'yummmm': 6127, 'puzzeles': 6128, '4goten': 6129, 'scammers': 6130, 'passion': 6131, '09099726481': 6132, 'dena': 6133, 'r836': 6134, '09065069154': 6135, 'shifad': 6136, 'raised': 6137, 'doctors': 6138, 'reminds': 6139, 'tolerat': 6140, 'bcs': 6141, 'splashmobile': 6142, 'subscrition': 6143, 'dust': 6144, '3pound': 6145, 'watchin': 6146, 'meaningless': 6147, 'brdget': 6148, 'jones': 6149, 'inever': 6150, 'hype': 6151, 'studio': 6152, 'velly': 6153, 'marking': 6154, '2stoptx': 6155, '08718738034': 6156, 'va': 6157, 'hanger': 6158, 'arrow': 6159, 'blanket': 6160, '08718726971': 6161, 'tddnewsletter': 6162, 'emc1': 6163, 'thedailydraw': 6164, 'dozens': 6165, 'prizeswith': 6166, 'significant': 6167, 'waqt': 6168, 'pehle': 6169, 'naseeb': 6170, 'zyada': 6171, 'kisi': 6172, 'ko': 6173, 'kuch': 6174, 'milta': 6175, 'hum': 6176, 'sochte': 6177, 'jeetey': 6178, 'stalking': 6179, 'reminded': 6180, 'varaya': 6181, 'elaya': 6182, '09066368753': 6183, '97n7qp': 6184, 'anand': 6185, 'beach': 6186, 'expected': 6187, 'jez': 6188, 'todo': 6189, 'workand': 6190, 'whilltake': 6191, 'zogtorius': 6192, 'financial': 6193, 'alian': 6194, 'or2optout': 6195, 'hv9d': 6196, 'posible': 6197, 'century': 6198, 'frwd': 6199, 'affectionate': 6200, 'sorts': 6201, 'restrictions': 6202, 'buddys': 6203, '08712402902': 6204, 'owned': 6205, 'possessive': 6206, 'clarification': 6207, 'coimbatore': 6208, 'monoc': 6209, 'monos': 6210, 'polyc': 6211, 'stream': 6212, '0871212025016': 6213, 'categories': 6214, 'ethnicity': 6215, 'census': 6216, 'transcribing': 6217, 'cakes': 6218, 'draws': 6219, 'goodmate': 6220, 'asusual': 6221, 'cheered': 6222, 'franyxxxxx': 6223, 'batt': 6224, 'becausethey': 6225, '09058098002': 6226, 'pobox1': 6227, 'w14rg': 6228, 'gained': 6229, 'pressure': 6230, 'limits': 6231, 'doke': 6232, 'laying': 6233, 'neshanth': 6234, 'byatch': 6235, 'whassup': 6236, 'cl': 6237, 'filthyguys': 6238, '4msgs': 6239, 'chiong': 6240, 'dialogue': 6241, 'reltnship': 6242, 'wipe': 6243, 'pose': 6244, 'comb': 6245, 'dryer': 6246, 'fps': 6247, 'computational': 6248, 'disturbance': 6249, 'dlf': 6250, 'premarica': 6251, 'gotto': 6252, '220cm2': 6253, 'err': 6254, 'hitter': 6255, 'offline': 6256, 'anjola': 6257, 'asjesus': 6258, 'directors': 6259, 'lac': 6260, 'deposited': 6261, 'taxless': 6262, 'suply': 6263, 'projects': 6264, 'imf': 6265, 'blocked': 6266, 'corrupt': 6267, 'itna': 6268, 'karo': 6269, 'ki': 6270, 'pura': 6271, 'padhe': 6272, 'torrents': 6273, 'particularly': 6274, 'slowing': 6275, 'commit': 6276, '83370': 6277, 'trivia': 6278, 'rightio': 6279, 'brum': 6280, 'scorable': 6281, 'paranoid': 6282, 'brin': 6283, 'sheet': 6284, 'complain': 6285, 'bettr': 6286, 'bsnl': 6287, 'offc': 6288, 'payed': 6289, 'suganya': 6290, 'dessert': 6291, 'abeg': 6292, 'sponsors': 6293, 'onum': 6294, 'poet': 6295, 'imagination': 6296, 'rr': 6297, 'famamus': 6298, 'locks': 6299, 'jenne': 6300, 'easiest': 6301, 'barcelona': 6302, 'sppok': 6303, 'complementary': 6304, 'wa14': 6305, '2px': 6306, 'pansy': 6307, 'jungle': 6308, 'kanji': 6309, 'srs': 6310, 'drizzling': 6311, 'appointments': 6312, 'excused': 6313, 'drama': 6314, 'struggling': 6315, 'ego': 6316, 'necessity': 6317, 'reppurcussions': 6318, 'cosign': 6319, 'hvae': 6320, '09061701444': 6321, 'hcl': 6322, 'requires': 6323, 'freshers': 6324, 'suman': 6325, 'telephonic': 6326, 'reliant': 6327, 'fwiw': 6328, 'afford': 6329, 'sq825': 6330, 'arrival': 6331, 'citylink': 6332, 'props': 6333, 'pleasant': 6334, 'statements': 6335, '6230': 6336, 'pobox114': 6337, '14tcr': 6338, 'bognor': 6339, 'splendid': 6340, 'ktv': 6341, 'misplaced': 6342, 'computers': 6343, 'begun': 6344, 'registration': 6345, 'permanent': 6346, 'residency': 6347, 'risks': 6348, 'predicting': 6349, 'accumulation': 6350, 'programs': 6351, 'belongs': 6352, 'fated': 6353, 'shoranur': 6354, 'fuelled': 6355, 'concern': 6356, 'prior': 6357, 'grief': 6358, 'text82228': 6359, 'honestly': 6360, 'promptly': 6361, 'burnt': 6362, 'snap': 6363, 'quizclub': 6364, '80122300p': 6365, 'rwm': 6366, '08704050406': 6367, 'gmw': 6368, 'connected': 6369, 'someplace': 6370, 'goods': 6371, 'pressies': 6372, 'ultimately': 6373, 'tor': 6374, 'motive': 6375, 'tui': 6376, 'achieve': 6377, 'korli': 6378, 'dock': 6379, 'rolled': 6380, 'newscaster': 6381, 'dabbles': 6382, 'flute': 6383, 'wheel': 6384, 'keyword': 6385, 'the4th': 6386, 'october': 6387, '83435': 6388, 'elaborating': 6389, 'safety': 6390, 'aspects': 6391, 'tarot': 6392, '85555': 6393, 'ours': 6394, 'horniest': 6395, 'flow': 6396, 'developed': 6397, 'ovarian': 6398, 'cysts': 6399, 'shrink': 6400, 'upping': 6401, 'grams': 6402, 'timin': 6403, 'apes': 6404, 'ibm': 6405, 'hp': 6406, 'gosh': 6407, 'spose': 6408, 'rimac': 6409, 'arestaurant': 6410, 'squid': 6411, 'dosomething': 6412, 'dabooks': 6413, 'eachother': 6414, 'luckily': 6415, 'starring': 6416, 'restocked': 6417, 'tkls': 6418, 'stoptxtstop': 6419, 'smoothly': 6420, 'challenging': 6421, 'breakfast': 6422, 'hamper': 6423, 'cc100p': 6424, 'above': 6425, '0870737910216yrs': 6426, 'unni': 6427, 'lacking': 6428, 'particular': 6429, 'dramastorm': 6430, 'forfeit': 6431, 'digi': 6432, 'coupla': 6433, '077xxx': 6434, '09066362206': 6435, 'sundayish': 6436, 'prasad': 6437, 'rcb': 6438, 'kochi': 6439, 'checkup': 6440, 'smear': 6441, 'gobi': 6442, '4w': 6443, 'technologies': 6444, 'olowoyey': 6445, 'argentina': 6446, 'taxt': 6447, 'massage': 6448, 'tie': 6449, 'pos': 6450, 'lool': 6451, 'shaking': 6452, 'scarcasim': 6453, 'naal': 6454, 'eruku': 6455, 'w4': 6456, '5wq': 6457, 'impressively': 6458, 'sensible': 6459, 'obedient': 6460, 'ft': 6461, 'combination': 6462, 'needy': 6463, 'playng': 6464, 'mcfly': 6465, 'ab': 6466, 'sara': 6467, 'jorge': 6468, 'yupz': 6469, 'ericson': 6470, 'der': 6471, 'luks': 6472, 'modl': 6473, 'cheesy': 6474, 'frosty': 6475, 'witin': 6476, 'fans': 6477, '0870141701216': 6478, '120p': 6479, '10th': 6480, '09050000555': 6481, 'ba128nnfwfly150ppm': 6482, 'nudist': 6483, 'themed': 6484, 'pump': 6485, 'signal': 6486, 'unusual': 6487, 'palm': 6488, 'printing': 6489, 'handing': 6490, '83021': 6491, 'stated': 6492, 'perpetual': 6493, 'dd': 6494, 'pract': 6495, 'flung': 6496, 'justbeen': 6497, 'overa': 6498, 'brains': 6499, 'mush': 6500, 'tunde': 6501, 'missions': 6502, '20m12aq': 6503, 'eh74rr': 6504, 'avo': 6505, 'crashed': 6506, 'cuddled': 6507, 'chachi': 6508, 'pl': 6509, 'tiz': 6510, 'kanagu': 6511, 'prices': 6512, 'ringing': 6513, 'houseful': 6514, 'brats': 6515, 'pulling': 6516, 'derp': 6517, 'abusers': 6518, 'lipo': 6519, 'netflix': 6520, 'clash': 6521, 'arr': 6522, 'oscar': 6523, 'rebtel': 6524, 'firefox': 6525, '69969': 6526, 'bcmsfwc1n3xx': 6527, 'impressed': 6528, 'funs': 6529, 'footy': 6530, 'stadium': 6531, 'large': 6532, 'coca': 6533, 'cola': 6534, 'teenager': 6535, 'replacing': 6536, 'mittelschmertz': 6537, 'paracetamol': 6538, 'arrived': 6539, 'cthen': 6540, 'conclusion': 6541, 'references': 6542, 'instant': 6543, '08715203028': 6544, '9th': 6545, 'rugby': 6546, 'affidavit': 6547, 'twiggs': 6548, 'courtroom': 6549, 'showers': 6550, 'possessiveness': 6551, 'poured': 6552, 'golden': 6553, 'lasting': 6554, 'mobs': 6555, 'breathe1': 6556, 'crazyin': 6557, 'sleepingwith': 6558, 'finest': 6559, 'ymca': 6560, 'pobox365o4w45wq': 6561, 'wtc': 6562, 'weiyi': 6563, 'flowers': 6564, '505060': 6565, 'paining': 6566, 'romcapspam': 6567, 'presence': 6568, 'outgoing': 6569, 'maggi': 6570, 'mee': 6571, '08712103738': 6572, 'cough': 6573, 'pooja': 6574, 'sweatter': 6575, 'ambitious': 6576, 'miiiiiiissssssssss': 6577, 'tunji': 6578, 'misscall': 6579, 'frndz': 6580, '6missed': 6581, 'mad1': 6582, 'mad2': 6583, 'tall': 6584, 'robs': 6585, 'avenge': 6586, 'choices': 6587, 'toss': 6588, 'gudni8': 6589, 'dancin': 6590, 'explicitly': 6591, 'nora': 6592, 'gayle': 6593, 'crucify': 6594, 'butting': 6595, 'vs': 6596, 'cedar': 6597, 'durham': 6598, 'reserved': 6599, '69855': 6600, 'stopbcm': 6601, 'sf': 6602, 'wall': 6603, 'printer': 6604, 'groovy': 6605, 'groovying': 6606, 'harish': 6607, 'transfred': 6608, 'acnt': 6609, 'showrooms': 6610, 'shaping': 6611, 'attending': 6612, 'doinat': 6613, 'callon': 6614, 'pdate': 6615, 'yhl': 6616, 'configure': 6617, 'anal': 6618, 'pears': 6619, 'such': 6620, 'oooooh': 6621, '09058094454': 6622, 'resubmit': 6623, 'expiry': 6624, 'mint': 6625, 'humans': 6626, 'studyn': 6627, 'everyboy': 6628, 'xxxxxxxx': 6629, '1thing': 6630, 'answr': 6631, 'liquor': 6632, 'loko': 6633, '730': 6634, 'lined': 6635, 'laughs': 6636, 'fireplace': 6637, 'icon': 6638, '08712400200': 6639, 'fifth': 6640, 'woozles': 6641, 'weasels': 6642, '08718723815': 6643, 'machines': 6644, 'fucks': 6645, 'ignorant': 6646, 'mys': 6647, 'downs': 6648, 'fletcher': 6649, '08714714011': 6650, 'bowls': 6651, 'cozy': 6652, 'buzzzz': 6653, 'vibrator': 6654, 'shake': 6655, 'trends': 6656, 'pros': 6657, 'cons': 6658, 'description': 6659, 'nuclear': 6660, 'fusion': 6661, 'iter': 6662, 'jet': 6663, 'nowhere': 6664, 'ikno': 6665, 'doesdiscount': 6666, 'shitinnit': 6667, 'jabo': 6668, 'slower': 6669, 'maniac': 6670, 'sapna': 6671, 'manege': 6672, 'hogidhe': 6673, 'chinnu': 6674, 'swalpa': 6675, 'agidhane': 6676, 'footbl': 6677, 'crckt': 6678, 'swell': 6679, 'tim': 6680, 'bollox': 6681, 'tol': 6682, 'ingredients': 6683, 'pocy': 6684, 'non': 6685, '4qf2': 6686, 'senor': 6687, 'giggle': 6688, 'possibly': 6689, 'person2die': 6690, 'nvq': 6691, 'professional': 6692, 'tiger': 6693, 'woods': 6694, 'grinder': 6695, 'buyers': 6696, 'figuring': 6697, 'entirely': 6698, 'disconnected': 6699, 'onluy': 6700, 'matters': 6701, 'offcampus': 6702, 'riley': 6703, 'ew': 6704, 'wesley': 6705, 'lingo': 6706, '400mins': 6707, 'j5q': 6708, '69200': 6709, 'chrgd': 6710, '2exit': 6711, 'approaching': 6712, 'sankranti': 6713, 'republic': 6714, 'shivratri': 6715, 'ugadi': 6716, 'fools': 6717, 'independence': 6718, 'teachers': 6719, 'childrens': 6720, 'festival': 6721, 'dasara': 6722, 'mornings': 6723, 'afternoons': 6724, 'rememberi': 6725, 'joys': 6726, 'lifeis': 6727, 'daywith': 6728, 'somewheresomeone': 6729, 'tosend': 6730, 'greeting': 6731, 'selflessness': 6732, 'initiate': 6733, 'tallent': 6734, 'wasting': 6735, 'portal': 6736, 't4get2text': 6737, 'lennon': 6738, 'bothering': 6739, 'fox': 6740, 'frndsship': 6741, 'dwn': 6742, 'slaaaaave': 6743, 'summon': 6744, 'appendix': 6745, 'slob': 6746, 'smiled': 6747, 'webpage': 6748, 'yeesh': 6749, 'unsubscribed': 6750, 'hunks': 6751, 'gotbabes': 6752, 'subscriptions': 6753, 'gopalettan': 6754, 'participate': 6755, 'abroad': 6756, 'xxsp': 6757, 'stopcost': 6758, '08712400603': 6759, 'agent': 6760, 'goodies': 6761, 'mat': 6762, 'ay': 6763, 'steal': 6764, 'isaiah': 6765, 'expert': 6766, 'thinl': 6767, 'importantly': 6768, 'tightly': 6769, 'wnevr': 6770, 'fal': 6771, 'fals': 6772, 'yen': 6773, 'madodu': 6774, 'nav': 6775, 'pretsorginta': 6776, 'nammanna': 6777, 'pretsovru': 6778, 'alwa': 6779, 'lord': 6780, 'rings': 6781, 'soundtrack': 6782, 'stdtxtrate': 6783, 'sg': 6784, 'phyhcmk': 6785, 'pc1323': 6786, 'emigrated': 6787, 'hopeful': 6788, 'olol': 6789, 'stagwood': 6790, 'winterstone': 6791, 'victors': 6792, 'jp': 6793, 'mofo': 6794, 'pathaya': 6795, 'enketa': 6796, 'maraikara': 6797, 'priest': 6798, 'reserves': 6799, 'intrude': 6800, 'walkabout': 6801, 'cashed': 6802, 'announced': 6803, 'blog': 6804, '28th': 6805, 'footie': 6806, 'phil': 6807, 'neville': 6808, 'abbey': 6809, 'returning': 6810, 'punj': 6811, 'str8': 6812, 'classic': 6813, '200p': 6814, 'sacked': 6815, 'clip': 6816, '35p': 6817, 'mmsto': 6818, '32323': 6819, 'barred': 6820, 'twat': 6821, 'dungerees': 6822, 'decking': 6823, 'punch': 6824, 'mentionned': 6825, 'vat': 6826, 'hogolo': 6827, 'kodstini': 6828, 'madstini': 6829, 'hogli': 6830, 'mutai': 6831, 'eerulli': 6832, 'kodthini': 6833, 'thasa': 6834, 'messed': 6835, 'shudvetold': 6836, 'urgran': 6837, 'illspeak': 6838, 'u2moro': 6839, 'tex': 6840, 'mecause': 6841, 'werebored': 6842, 'okden': 6843, 'uin': 6844, 'likeyour': 6845, 'gr8fun': 6846, 'updat': 6847, 'countinlots': 6848, 'tagged': 6849, 'hdd': 6850, 'casing': 6851, 'opened': 6852, 'describe': 6853, '09053750005': 6854, '310303': 6855, '08718725756': 6856, '140ppm': 6857, 'asus': 6858, 'reformat': 6859, 'plumbers': 6860, 'wrench': 6861, 'bcum': 6862, 'appeal': 6863, 'thriller': 6864, 'director': 6865, 'elephant': 6866, 'shove': 6867, 'um': 6868, 'cr': 6869, 'pookie': 6870, 'nri': 6871, 'x2': 6872, 'deserve': 6873, 'diddy': 6874, 'neighbor': 6875, 'toothpaste': 6876, 'poking': 6877, 'coccooning': 6878, 'mus': 6879, 'newquay': 6880, '1im': 6881, 'talkin': 6882, 'windy': 6883, '09066358361': 6884, 'y87': 6885, 'tirunelvai': 6886, 'dusk': 6887, 'puzzles': 6888, 'x29': 6889, '09065989180': 6890, 'stairs': 6891, 'phews': 6892, 'recycling': 6893, 'earning': 6894, 'toledo': 6895, 'tai': 6896, 'feng': 6897, 'reservations': 6898, 'swimsuit': 6899, 'squeeeeeze': 6900, 'frndshp': 6901, 'luvd': 6902, 'volcanoes': 6903, 'erupt': 6904, 'arise': 6905, 'hurricanes': 6906, 'sway': 6907, 'aroundn': 6908, 'disasters': 6909, 'lighters': 6910, 'lasagna': 6911, 'chickened': 6912, 'woould': 6913, '08718726978': 6914, '44': 6915, '7732584351': 6916, 'raviyog': 6917, 'peripherals': 6918, 'bhayandar': 6919, 'sunoco': 6920, 'musical': 6921, 'plate': 6922, 'leftovers': 6923, 'starving': 6924, 'fatty': 6925, 'badrith': 6926, 'owe': 6927, 'checkin': 6928, 'armenia': 6929, 'swann': 6930, '09058097189': 6931, '330': 6932, '1120': 6933, '1205': 6934, 'justify': 6935, 'hunt': 6936, '5226': 6937, 'hava': 6938, '1131': 6939, 'rct': 6940, 'thnq': 6941, 'adrian': 6942, 'vatian': 6943, 'everyones': 6944, 'babysitting': 6945, 'gonnamissu': 6946, 'buttheres': 6947, 'aboutas': 6948, 'merememberin': 6949, 'asthere': 6950, 'ofsi': 6951, 'breakin': 6952, 'yaxx': 6953, 'poortiyagi': 6954, 'odalebeku': 6955, 'hanumanji': 6956, 'hanuman': 6957, 'bajarangabali': 6958, 'maruti': 6959, 'pavanaputra': 6960, 'sankatmochan': 6961, 'ramaduth': 6962, 'mahaveer': 6963, 'janarige': 6964, 'ivatte': 6965, 'kalisidare': 6966, 'olage': 6967, 'ondu': 6968, 'keluviri': 6969, 'maretare': 6970, 'inde': 6971, 'dodda': 6972, 'problum': 6973, 'nalli': 6974, 'siguviri': 6975, 'idu': 6976, 'matra': 6977, 'neglet': 6978, 'ijust': 6979, 'talked': 6980, 'opps': 6981, 'gei': 6982, 'tron': 6983, 'dl': 6984, 'spiffing': 6985, 'workage': 6986, 'craving': 6987, 'supose': 6988, 'babysit': 6989, 'spaces': 6990, 'embassy': 6991, 'lightly': 6992, 'checkboxes': 6993, 'batsman': 6994, 'yetty': 6995, '09050000928': 6996, 'emailed': 6997, 'yifeng': 6998, 'slurp': 6999, '3miles': 7000, 'brainless': 7001, 'doll': 7002, 'vehicle': 7003, 'sariyag': 7004, 'madoke': 7005, 'barolla': 7006, '07090201529': 7007, 'postponed': 7008, 'stocked': 7009, 'tiime': 7010, 'afternon': 7011, 'interviews': 7012, 'resizing': 7013, '09066364349': 7014, 'box434sk38wp150ppm18': 7015, 'opposed': 7016, 'shortcode': 7017, '83332': 7018, '08081263000': 7019, 'refunded': 7020, 'somerset': 7021, 'overtime': 7022, 'nigpun': 7023, 'dismissial': 7024, 'screwd': 7025, '08712402972': 7026, 'bull': 7027, 'floating': 7028, '09058095201': 7029, 'heehee': 7030, 'arithmetic': 7031, 'percentages': 7032, 'chillaxin': 7033, 'das': 7034, 'iknow': 7035, 'wellda': 7036, 'peril': 7037, 'studentfinancial': 7038, 'monster': 7039, 'obey': 7040, 'uhhhhrmm': 7041, 'deltomorrow': 7042, '09066368470': 7043, '24m': 7044, 'smartcall': 7045, '68866': 7046, 'subscriptn3gbp': 7047, '08448714184': 7048, 'landlineonly': 7049, 'orno': 7050, 'fink': 7051, '09099726553': 7052, 'promised': 7053, 'carlie': 7054, 'minmobsmore': 7055, 'lkpobox177hp51fl': 7056, 'youphone': 7057, 'athome': 7058, 'youwanna': 7059, 'jack': 7060, 'helpful': 7061, 'pretend': 7062, 'hypotheticalhuagauahahuagahyuhagga': 7063, 'brainy': 7064, 'occasion': 7065, 'celebrated': 7066, 'reflection': 7067, 'values': 7068, 'affections': 7069, 'traditions': 7070, 'cantdo': 7071, 'anythingtomorrow': 7072, 'myparents': 7073, 'aretaking': 7074, 'outfor': 7075, 'katexxx': 7076, 'level': 7077, 'gate': 7078, '89105': 7079, 'lingerie': 7080, 'bridal': 7081, 'petticoatdreams': 7082, 'weddingfriend': 7083, 'board': 7084, 'overheating': 7085, 'reslove': 7086, 'inst': 7087, 'western': 7088, 'notixiquating': 7089, 'laxinorficated': 7090, 'bambling': 7091, 'entropication': 7092, 'oblisingately': 7093, 'opted': 7094, 'masteriastering': 7095, 'amplikater': 7096, 'fidalfication': 7097, 'champlaxigating': 7098, 'atrocious': 7099, 'wotz': 7100, 'junna': 7101, 'knickers': 7102, '01223585236': 7103, 'nikiyu4': 7104, 'a30': 7105, 'divert': 7106, 'wadebridge': 7107, 'vill': 7108, 'orc': 7109, 'seeking': 7110, 'wherre': 7111, 'phone750': 7112, 'resolution': 7113, 'frank': 7114, 'logoff': 7115, 'parkin': 7116, 'asa': 7117, '09050000878': 7118, 'charming': 7119, 'mention': 7120, 'served': 7121, 'arnt': 7122, 'xxxxxxxxxxxxxx': 7123, 'dorothy': 7124, 'kiefer': 7125, 'alle': 7126, 'mone': 7127, 'eppolum': 7128, 'allalo': 7129, 'fundamentals': 7130, 'whoever': 7131, '1mega': 7132, 'pixels': 7133, '3optical': 7134, '5digital': 7135, 'dooms': 7136, 'noi': 7137, 'js': 7138, 'burgundy': 7139, 'captaining': 7140, 'amrita': 7141, 'profile': 7142, 'bpo': 7143, 'nighters': 7144, 'persevered': 7145, 'regretted': 7146, 'spouse': 7147, 'pmt': 7148, '4give': 7149, 'shldxxxx': 7150, 'scenario': 7151, 'spun': 7152, 'wrld': 7153, 'nytho': 7154, 'tx': 7155, 'fonin': 7156, '2mwen': 7157, 'frmcloud': 7158, '09071517866': 7159, '150ppmpobox10183bhamb64xe': 7160, 'pounded': 7161, 'broadband': 7162, 'installation': 7163, 'tensed': 7164, 'coughing': 7165, 'warned': 7166, 'sprint': 7167, 'gower': 7168, 'morrow': 7169, 'chik': 7170, 'filth': 7171, 'saristar': 7172, 'e14': 7173, '9yt': 7174, '08701752560': 7175, '450p': 7176, 'stop2': 7177, '420': 7178, '9061100010': 7179, 'wire3': 7180, '1st4terms': 7181, 'mobcudb': 7182, 'sabarish': 7183, '09050000460': 7184, 'j89': 7185, 'box245c2150pm': 7186, 'inpersonation': 7187, 'flea': 7188, 'banneduk': 7189, 'highest': 7190, 'maximum': 7191, '71': 7192, 'taj': 7193, 'lesser': 7194, 'known': 7195, 'facts': 7196, 'wifes': 7197, 'arises': 7198, 'hari': 7199, '69101': 7200, 'rtf': 7201, 'sphosting': 7202, 'webadres': 7203, 'geting': 7204, 'passport': 7205, 'multiply': 7206, 'independently': 7207, 'showed': 7208, 'twins': 7209, 'strt': 7210, 'ltdhelpdesk': 7211, '02085076972': 7212, 'equally': 7213, 'uneventful': 7214, 'pesky': 7215, 'cyclists': 7216, 'adi': 7217, 'entey': 7218, 'nattil': 7219, 'kittum': 7220, 'hire': 7221, 'hitman': 7222, '09066660100': 7223, '2309': 7224, 'cps': 7225, 'outages': 7226, 'conserve': 7227, 'voted': 7228, 'epi': 7229, 'bare': 7230, 'bhaskar': 7231, 'gong': 7232, 'kaypoh': 7233, 'basketball': 7234, 'outdoors': 7235, 'interfued': 7236, 'listed': 7237, 'apology': 7238, 'hustle': 7239, 'forth': 7240, 'harlem': 7241, 'workout': 7242, 'fats': 7243, 'zac': 7244, 'hui': 7245, 'versus': 7246, 'underdtand': 7247, 'muchxxlove': 7248, 'locaxx': 7249, '07090298926': 7250, '9307622': 7251, 'skateboarding': 7252, 'thrown': 7253, 'winds': 7254, 'bandages': 7255, 'html': 7256, 'gbp4': 7257, 'mfl': 7258, '1146': 7259, 'hectic': 7260, 'wamma': 7261, 'doggin': 7262, 'dogs': 7263, 'virtual': 7264, 'apnt': 7265, 'pants': 7266, 'go2sri': 7267, 'lanka': 7268, 'merely': 7269, 'relationship': 7270, 'wherevr': 7271, 'gudnyt': 7272, 'plum': 7273, 'smacks': 7274, '50s': 7275, 'alot': 7276, 'formatting': 7277, 'attracts': 7278, 'promotion': 7279, '8714714': 7280, 'lancaster': 7281, 'soc': 7282, 'bsn': 7283, 'advising': 7284, 'lobby': 7285, 'showered': 7286, 'ything': 7287, 'lubly': 7288, '087147123779am': 7289, 'catches': 7290, 'specify': 7291, 'domain': 7292, 'nusstu': 7293, 'bari': 7294, 'hudgi': 7295, 'yorge': 7296, 'pataistha': 7297, 'ertini': 7298, 'hasbro': 7299, 'jump': 7300, 'hoops': 7301, 'ummifying': 7302, 'associate': 7303, 'rip': 7304, 'uterus': 7305, 'jacuzzi': 7306, 'txtstar': 7307, '2nights': 7308, 'uve': 7309, 'wildest': 7310, 'aldrine': 7311, 'rtm': 7312, 'sources': 7313, 'unhappiness': 7314, 'necesity': 7315, 'witout': 7316, 'colleg': 7317, 'wth': 7318, 'functions': 7319, 'events': 7320, 'espe': 7321, 'irritated': 7322, '4wrd': 7323, 'wthout': 7324, 'takecare': 7325, 'univ': 7326, 'rajas': 7327, 'burrito': 7328, 'stitch': 7329, 'trouser': 7330, '146tf150p': 7331, 'cheetos': 7332, 'synced': 7333, 'shangela': 7334, 'passes': 7335, '08704439680': 7336, 'poo': 7337, 'gloucesterroad': 7338, 'uup': 7339, 'ouch': 7340, 'forgiveness': 7341, 'fruit': 7342, 'glo': 7343, '09058095107': 7344, 's3xy': 7345, 'wlcome': 7346, 'timi': 7347, 'fishrman': 7348, 'sack': 7349, 'strtd': 7350, 'throwin': 7351, '1stone': 7352, '08717895698': 7353, 'mobstorequiz10ppm': 7354, 'physics': 7355, 'praveesh': 7356, 'delicious': 7357, 'salad': 7358, 'beers': 7359, 'whore': 7360, 'twinks': 7361, 'scallies': 7362, 'skins': 7363, 'jocks': 7364, '08712466669': 7365, 'flood': 7366, 'beads': 7367, 'wishlist': 7368, 'section': 7369, 'nitro': 7370, 'sold': 7371, 'creative': 7372, 'reffering': 7373, 'getiing': 7374, 'weirdy': 7375, 'brownies': 7376, '09061701851': 7377, 'k61': 7378, '12hours': 7379, 'restrict': 7380, '74355': 7381, 'greece': 7382, 'recorded': 7383, 'someday': 7384, 'grandfather': 7385, 'november': 7386, '09061104276': 7387, '75max': 7388, 'yuou': 7389, 'spot': 7390, 'bunch': 7391, 'lotto': 7392, 'purchases': 7393, 'authorise': 7394, '45pm': 7395, 'gimmi': 7396, 'goss': 7397, 'ystrday': 7398, 'chile': 7399, 'subletting': 7400, 'ammae': 7401, 'steering': 7402, 'sleeps': 7403, 'rounder': 7404, 'required': 7405, 'lambu': 7406, 'ji': 7407, 'batchlor': 7408, 'zoom': 7409, '62220cncl': 7410, 'stopcs': 7411, '08717890890': 7412, '1b6a5ecef91ff9': 7413, '37819': 7414, 'true18': 7415, '0430': 7416, 'jul': 7417, 'xafter': 7418, 'cst': 7419, 'chg': 7420, 'pure': 7421, 'hearted': 7422, 'enemies': 7423, 'smiley': 7424, 'gail': 7425, 'yaxxx': 7426, 'theoretically': 7427, 'hooked': 7428, 'formally': 7429, 'multimedia': 7430, 'vague': 7431, 'accounting': 7432, 'delayed': 7433, 'housing': 7434, 'agency': 7435, 'renting': 7436, 'presents': 7437, 'nicky': 7438, 'gumby': 7439, 'alto18': 7440, '44345': 7441, 'sized': 7442, 'tarpon': 7443, 'springs': 7444, 'cab': 7445, 'steps': 7446, 'limited': 7447, 'hf8': 7448, '08719181259': 7449, 'radiator': 7450, 'proper': 7451, 'tongued': 7452, 'shorts': 7453, 'qi': 7454, 'suddenly': 7455, 'flurries': 7456, 'real1': 7457, 'pushbutton': 7458, 'dontcha': 7459, 'babygoodbye': 7460, 'golddigger': 7461, 'webeburnin': 7462, 'perform': 7463, 'cards': 7464, 'rebooting': 7465, 'nigh': 7466, 'nooooooo': 7467, 'cable': 7468, 'outage': 7469, 'sos': 7470, 'playin': 7471, 'guoyang': 7472, 'rahul': 7473, 'dengra': 7474, 'antelope': 7475, 'toplay': 7476, 'fieldof': 7477, 'selfindependence': 7478, 'contention': 7479, 'gnarls': 7480, 'barkleys': 7481, 'borderline': 7482, '545': 7483, 'nightnight': 7484, 'possibility': 7485, 'grooved': 7486, 'mising': 7487, 'secured': 7488, 'unsecured': 7489, '195': 7490, '6669': 7491, 'lanre': 7492, 'fakeye': 7493, 'eckankar': 7494, '3000': 7495, 'degrees': 7496, 'dodgey': 7497, 'seing': 7498, 'asssssholeeee': 7499, 'ceri': 7500, 'rebel': 7501, 'dreamz': 7502, 'buddy': 7503, 'blokes': 7504, '84484': 7505, 'nationwide': 7506, 'newport': 7507, 'juliana': 7508, 'nachos': 7509, 'dizzamn': 7510, 'suitemates': 7511, 'nimbomsons': 7512, 'continent': 7513, '087104711148': 7514, 'emerging': 7515, 'fiend': 7516, 'impede': 7517, 'hesitant': 7518, '60': 7519, '400thousad': 7520, 'nose': 7521, 'essay': 7522, 'tram': 7523, 'vic': 7524, 'coherently': 7525, 'triple': 7526, 'echo': 7527, 'gran': 7528, 'onlyfound': 7529, 'afew': 7530, 'cusoon': 7531, 'honi': 7532, 'bx526': 7533, 'southern': 7534, 'rayan': 7535, 'macleran': 7536, 'balls': 7537, 'olave': 7538, 'mandara': 7539, 'trishul': 7540, 'woo': 7541, 'hoo': 7542, 'panties': 7543, 'thout': 7544, 'flatter': 7545, 'pints': 7546, 'carlin': 7547, 'ciao': 7548, 'starve': 7549, 'impression': 7550, 'motivate': 7551, 'darkness': 7552, 'wknd': 7553, 'yalrigu': 7554, 'heltini': 7555, 'iyo': 7556, 'uttered': 7557, 'trusting': 7558, 'noice': 7559, 'esaplanade': 7560, 'accessible': 7561, '08709501522': 7562, '139': 7563, 'la3': 7564, '2wu': 7565, 'occurs': 7566, 'enna': 7567, 'kalaachutaarama': 7568, 'coco': 7569, 'sporadically': 7570, '09064017305': 7571, 'pobox75ldns7': 7572, 'tbs': 7573, 'persolvo': 7574, '38': 7575, 'kath': 7576, 'manchester': 7577, 'burden': 7578, 'noworriesloans': 7579, '08717111821': 7580, 'harder': 7581, 'nbme': 7582, 'sickness': 7583, 'villa': 7584, 'gam': 7585, 'smash': 7586, 'religiously': 7587, 'heroes': 7588, 'tips': 7589, '07973788240': 7590, '08715203649': 7591, 'muhommad': 7592, 'penny': 7593, 'fiting': 7594, 'load': 7595, 'mj': 7596, 'unconvinced': 7597, 'elaborate': 7598, 'willpower': 7599, 'absence': 7600, 'answerin': 7601, 'evey': 7602, 'prin': 7603, 'gsoh': 7604, 'spam': 7605, 'gigolo': 7606, 'mens': 7607, 'oncall': 7608, 'mjzgroup': 7609, '08714342399': 7610, '50rcvd': 7611, 'ashwini': 7612, '08707500020': 7613, 'ukp': 7614, '09061790125': 7615, 'thet': 7616, 'skinny': 7617, 'casting': 7618, 'elections': 7619, '116': 7620, 'hlday': 7621, 'camp': 7622, 'amrca': 7623, 'serena': 7624, 'prescribed': 7625, 'meatballs': 7626, 'approve': 7627, 'panalam': 7628, 'spjanuary': 7629, 'fortune': 7630, 'allday': 7631, 'perf': 7632, 'outsider': 7633, '98321561': 7634, 'familiar': 7635, 'depression': 7636, 'infact': 7637, 'simpsons': 7638, 'band': 7639, 'shite': 7640, 'kip': 7641, 'hont': 7642, 'amanda': 7643, 'regard': 7644, 'renewing': 7645, 'upgrading': 7646, 'subject': 7647, 'nannys': 7648, 'puts': 7649, 'perspective': 7650, 'conveying': 7651, 'debating': 7652, 'wtlp': 7653, 'jb': 7654, 'florida': 7655, 'hidden': 7656, 'teams': 7657, 'swhrt': 7658, '0906346330': 7659, '47': 7660, 'po19': 7661, '2ez': 7662, 'general': 7663, 'jetton': 7664, 'cmon': 7665, 'replies': 7666, 'lunsford': 7667, 'enjoying': 7668, '0796xxxxxx': 7669, 'prizeawaiting': 7670, 'kfc': 7671, 'meals': 7672, 'gravy': 7673, '07008009200': 7674, 'attended': 7675, 'mw': 7676, 'tuth': 7677, 'eviction': 7678, 'spiral': 7679, 'michael': 7680, 'riddance': 7681, 'suffers': 7682, 'raglan': 7683, 'edward': 7684, 'cricket': 7685, 'closeby': 7686, 'skye': 7687, 'bookedthe': 7688, 'hut': 7689, 'drastic': 7690, '3750': 7691, 'garments': 7692, 'sez': 7693, 'arab': 7694, 'evry1': 7695, 'eshxxxxxxxxxxx': 7696, 'lay': 7697, 'bimbo': 7698, 'ugo': 7699, '3lions': 7700, 'portege': 7701, 'm100': 7702, 'semiobscure': 7703, 'gprs': 7704, 'loosu': 7705, 'careless': 7706, 'freaking': 7707, 'myspace': 7708, 'logged': 7709, 'method': 7710, 'jewelry': 7711, 'breaker': 7712, 'deluxe': 7713, 'features': 7714, 'graphics': 7715, 'bbdeluxe': 7716, 'fumbling': 7717, 'weekdays': 7718, 'nails': 7719, 'asia': 7720, 'stil': 7721, 'tobed': 7722, '430': 7723, 'asthma': 7724, 'attack': 7725, 'ball': 7726, 'spin': 7727, 'haiyoh': 7728, 'million': 7729, 'prsn': 7730, 'saves': 7731, 'audiitions': 7732, 'relocate': 7733, 'pocked': 7734, 'motivating': 7735, 'brison': 7736, 'spelled': 7737, 'caps': 7738, 'bullshit': 7739, 'motherfucker': 7740, 'kit': 7741, 'strip': 7742, '1013': 7743, 'ig11': 7744, 'oja': 7745, '08712402578': 7746, 'thesmszone': 7747, 'anonymous': 7748, 'masked': 7749, 'abuse': 7750, 'woodland': 7751, 'avenue': 7752, 'parish': 7753, 'magazine': 7754, 'billy': 7755, 'awww': 7756, 'useless': 7757, 'loo': 7758, 'ed': 7759, 'swollen': 7760, 'glands': 7761, 'bcaz': 7762, 'stu': 7763, 'truble': 7764, 'evone': 7765, 'hates': 7766, 'view': 7767, 'gays': 7768, 'dual': 7769, 'hostile': 7770, 'haircut': 7771, 'breezy': 7772, '1apple': 7773, '1tulsi': 7774, 'leaf': 7775, '1lemon': 7776, '1cup': 7777, 'problms': 7778, 'litres': 7779, 'watr': 7780, 'diseases': 7781, 'snd': 7782, 'lavender': 7783, 'manky': 7784, 'scouse': 7785, 'travelling': 7786, 'inmind': 7787, 'recreation': 7788, 'judgemental': 7789, 'fridays': 7790, 'waheeda': 7791, 'bot': 7792, 'notes': 7793, 'eventually': 7794, 'tolerance': 7795, 'hits': 7796, '0789xxxxxxx': 7797, 'hellogorgeous': 7798, 'nitw': 7799, 'texd': 7800, 'hopeu': 7801, '4ward': 7802, 'jaz': 7803, '09058091870': 7804, 'exorcism': 7805, 'emily': 7806, 'emotion': 7807, 'prayrs': 7808, 'othrwise': 7809, 'ujhhhhhhh': 7810, 'sandiago': 7811, 'parantella': 7812, 'hugging': 7813, 'sweater': 7814, 'mango': 7815, 'involved': 7816, 'landmark': 7817, 'bob': 7818, 'barry': 7819, '83738': 7820, 'consent': 7821, 'tonexs': 7822, 'renewed': 7823, 'clubzed': 7824, 'billing': 7825, 'mathews': 7826, 'tait': 7827, 'edwards': 7828, 'anderson': 7829, 'haunt': 7830, 'promoting': 7831, 'crowd': 7832, '8000930705': 7833, 'snowboarding': 7834, 'christmassy': 7835, 'recpt': 7836, 'baaaaaaaabe': 7837, 'ignoring': 7838, 'shola': 7839, 'sagamu': 7840, 'lautech': 7841, 'vital': 7842, 'completes': 7843, 'education': 7844, 'zealand': 7845, 'qet': 7846, 'browser': 7847, 'surf': 7848, 'subscribers': 7849, 'conversations': 7850, 'senses': 7851, 'overemphasise': 7852, 'headset': 7853, 'adp': 7854, 'internal': 7855, 'extract': 7856, 'immed': 7857, 'skint': 7858, 'fancied': 7859, 'bevies': 7860, 'waz': 7861, 'othrs': 7862, 'spoon': 7863, 'watchng': 7864, 'comfey': 7865, 'quitting': 7866, 'least5times': 7867, 'wudn': 7868, 'frequently': 7869, 'cupboard': 7870, 'route': 7871, '2mro': 7872, 'floppy': 7873, 'snappy': 7874, 'risk': 7875, 'grasp': 7876, 'flavour': 7877, 'laready': 7878, 'denying': 7879, 'dom': 7880, 'ffffuuuuuuu': 7881, 'julianaland': 7882, 'oblivious': 7883, 'dehydrated': 7884, 'mapquest': 7885, 'dogwood': 7886, 'tiny': 7887, 'archive': 7888, '08719839835': 7889, 'mgs': 7890, '89123': 7891, 'lengths': 7892, 'behalf': 7893, 'stunning': 7894, 'visa': 7895, 'gucci': 7896, 'sozi': 7897, 'culdnt': 7898, 'talkbut': 7899, 'wannatell': 7900, 'wenwecan': 7901, 'smsing': 7902, 'efficient': 7903, '15pm': 7904, 'erutupalam': 7905, 'thandiyachu': 7906, 'invention': 7907, 'lyrics': 7908, 'nevr': 7909, 'unrecognized': 7910, 'somone': 7911, 'valuing': 7912, 'definitly': 7913, 'undrstnd': 7914, 'ger': 7915, 'toking': 7916, 'syd': 7917, 'khelate': 7918, 'kintu': 7919, 'opponenter': 7920, 'dhorte': 7921, 'lage': 7922, 'fried': 7923, 'spares': 7924, 'looovvve': 7925, 'warwick': 7926, 'tmw': 7927, 'canceled': 7928, 'havn': 7929, 'tops': 7930, 'grandma': 7931, 'parade': 7932, 'proze': 7933, 'norcorp': 7934, 'posting': 7935, '7cfca1a': 7936, 'grumble': 7937, 'linear': 7938, 'algebra': 7939, 'decorating': 7940, 'wining': 7941, '946': 7942, 'roomate': 7943, 'graduated': 7944, 'adjustable': 7945, 'cooperative': 7946, 'allows': 7947, 'nottingham': 7948, '63miles': 7949, '40mph': 7950, 'thanku': 7951, 'guessed': 7952, '89938': 7953, 'strings': 7954, '50ea': 7955, 'otbox': 7956, '731': 7957, 'la1': 7958, '7ws': 7959, 'beside': 7960, 'brisk': 7961, 'walks': 7962, 'sexiest': 7963, 'dirtiest': 7964, 'tellmiss': 7965, 'contribute': 7966, 'greatly': 7967, 'urgh': 7968, 'coach': 7969, 'smells': 7970, 'duvet': 7971, 'predictive': 7972, 'w8in': 7973, '4utxt': 7974, '24th': 7975, 'beverage': 7976, 'pist': 7977, 'surrender': 7978, 'symptoms': 7979, 'rdy': 7980, 'backwards': 7981, 'abstract': 7982, 'africa': 7983, 'avin': 7984, 'chit': 7985, 'logon': 7986, '8883': 7987, '4217': 7988, 'w1a': 7989, '6zf': 7990, '118p': 7991, 'quiteamuzing': 7992, 'scool': 7993, 'probpop': 7994, 'cu': 7995, 'satthen': 7996, '4brekkie': 7997, 'psxtra': 7998, 'lrg': 7999, 'portions': 8000, '1000call': 8001, '09071512432': 8002, '300603t': 8003, 'callcost150ppmmobilesvary': 8004, 'rows': 8005, 'engagement': 8006, 'fixd': 8007, 'njan': 8008, 'vilikkam': 8009, 'sudn': 8010, 'maths': 8011, 'chapter': 8012, 'chop': 8013, 'noooooooo': 8014, '08718727870150ppm': 8015, 'firsg': 8016, 'split': 8017, 'wasnt': 8018, 'heat': 8019, 'applyed': 8020, 'sumfing': 8021, 'hopeso': 8022, 'amnow': 8023, 'ithink': 8024, 'tonsolitusaswell': 8025, 'layin': 8026, 'bedreal': 8027, 'lotsof': 8028, 'hiphop': 8029, 'oxygen': 8030, 'resort': 8031, 'roller': 8032, 'recorder': 8033, 'canname': 8034, 'australia': 8035, 'mquiz': 8036, 'showr': 8037, 'upon': 8038, 'ceiling': 8039, 'presnts': 8040, 'bcz': 8041, 'jeevithathile': 8042, 'irulinae': 8043, 'neekunna': 8044, 'prakasamanu': 8045, 'sneham': 8046, 'prakasam': 8047, 'ennal': 8048, 'mns': 8049, 'blowing': 8050, '7634': 8051, '7684': 8052, 'firmware': 8053, 'vijaykanth': 8054, 'anythiing': 8055, 'ripped': 8056, 'clubmoby': 8057, '08717509990': 8058, 'keypad': 8059, 'btwn': 8060, 'decades': 8061, 'goverment': 8062, 'expects': 8063, 'spice': 8064, 'prasanth': 8065, 'ettans': 8066, '08718738002': 8067, '48922': 8068, 'appy': 8069, 'fizz': 8070, 'contains': 8071, 'genus': 8072, 'robinson': 8073, 'outs': 8074, 'soz': 8075, 'imat': 8076, 'mums': 8077, 'freinds': 8078, 'sometext': 8079, '07099833605': 8080, '9280114': 8081, 'chloe': 8082, 'wewa': 8083, '130': 8084, 'iriver': 8085, '255': 8086, '128': 8087, 'bw': 8088, 'surly': 8089, '07808726822': 8090, '9758': 8091, 'mmmmmmm': 8092, 'snuggles': 8093, 'contented': 8094, 'whispers': 8095, 'healthy': 8096, '2bold': 8097, 'scraped': 8098, 'barrel': 8099, 'misfits': 8100, 'sections': 8101, 'clearer': 8102, 'peach': 8103, 'tasts': 8104, 'rayman': 8105, 'golf': 8106, 'activ8': 8107, 'termsapply': 8108, 'shindig': 8109, 'phonebook': 8110, 'rocking': 8111, 'ashes': 8112, 'shijutta': 8113, 'offense': 8114, 'dvg': 8115, 'vinobanagar': 8116, 'ovulate': 8117, '3wks': 8118, 'woah': 8119, 'realising': 8120, 'orh': 8121, 'hides': 8122, 'secrets': 8123, 'n8': 8124, 'axel': 8125, 'akon': 8126, 'eyed': 8127, 'canteen': 8128, 'stressfull': 8129, 'adds': 8130, 'continued': 8131, 'president': 8132, '140': 8133, '180': 8134, 'pleasured': 8135, 'providing': 8136, 'assistance': 8137, 'whens': 8138, '1172': 8139, 'built': 8140, 'lonlines': 8141, 'lotz': 8142, 'memories': 8143, 'gailxx': 8144, 'complacent': 8145, 'mina': 8146, 'miwa': 8147, '09066649731from': 8148, 'opposite': 8149, 'heavily': 8150, 'dolls': 8151, 'patrick': 8152, 'swayze': 8153, '09077818151': 8154, 'calls1': 8155, '50ppm': 8156, '30s': 8157, 'santacalling': 8158, 'quarter': 8159, 'fired': 8160, 'limping': 8161, 'aa': 8162, '078498': 8163, '08719180219': 8164, 'oga': 8165, 'poorly': 8166, 'punishment': 8167, 'brb': 8168, 'kill': 8169, 'predicte': 8170, 'situations': 8171, 'loosing': 8172, 'smaller': 8173, 'capacity': 8174, 'videos': 8175, 'shsex': 8176, 'netun': 8177, 'fgkslpopw': 8178, 'fgkslpo': 8179, '0871277810710p': 8180, 'defer': 8181, 'admission': 8182, 'checkmate': 8183, 'chess': 8184, 'persian': 8185, 'phrase': 8186, 'shah': 8187, 'maat': 8188, 'rats': 8189, 'themes': 8190, 'photoshop': 8191, 'manageable': 8192, '08715203652': 8193, '42810': 8194, 'increase': 8195, 'north': 8196, 'carolina': 8197, 'texas': 8198, 'gre': 8199, 'bomb': 8200, 'breathing': 8201, 'powerful': 8202, 'weapon': 8203, 'lovly': 8204, 'msgrcvd': 8205, 'customercare': 8206, 'clas': 8207, 'lit': 8208, 'loooooool': 8209, 'couch': 8210, 'swashbuckling': 8211, 'terror': 8212, 'cruel': 8213, 'decent': 8214, 'joker': 8215, 'dip': 8216, 'gek1510': 8217, 'lyricalladie': 8218, 'hmmross': 8219, 'happiest': 8220, 'characters': 8221, 'differences': 8222, 'lists': 8223, 'antibiotic': 8224, 'abdomen': 8225, 'gynae': 8226, '6times': 8227, 'exposed': 8228, 'chastity': 8229, 'device': 8230, 'beatings': 8231, 'uses': 8232, 'gut': 8233, 'wrenching': 8234, 'tallahassee': 8235, 'ou': 8236, 'taka': 8237, 'pobox202': 8238, 'nr31': 8239, '7zs': 8240, '450pw': 8241, 'ritten': 8242, 'fold': 8243, '83118': 8244, 'colin': 8245, 'farrell': 8246, 'swat': 8247, 'mre': 8248, 'solihull': 8249, 'nhs': 8250, '2b': 8251, 'terminated': 8252, 'inconvenience': 8253, 'dentists': 8254, 'yards': 8255, 'bergkamp': 8256, 'margin': 8257, '78': 8258, 'snot': 8259, 'unintentional': 8260, 'nonetheless': 8261, 'hooch': 8262, 'toaday': 8263, 'splat': 8264, 'grazed': 8265, 'knees': 8266, 'deny': 8267, 'hearin': 8268, 'yah': 8269, 'torture': 8270, 'hopeing': 8271, 'sisters': 8272, 'sexychat': 8273, 'lips': 8274, 'congratulation': 8275, 'court': 8276, 'chapel': 8277, 'frontierville': 8278, 'mountain': 8279, 'deer': 8280, 'mailed': 8281, 'varma': 8282, 'secure': 8283, 'parties': 8284, 'farting': 8285, 'ortxt': 8286, 'trained': 8287, 'advisors': 8288, 'dialling': 8289, '402': 8290, 'stuffing': 8291, 'ahhhh': 8292, 'experiencehttp': 8293, 'vouch4me': 8294, 'etlp': 8295, 'kaila': 8296, '09058094507': 8297, 'unicef': 8298, 'asian': 8299, 'tsunami': 8300, 'disaster': 8301, 'fund': 8302, '864233': 8303, 'hos': 8304, 'collapsed': 8305, 'cumming': 8306, 'jade': 8307, 'paul': 8308, 'barmed': 8309, 'thinkthis': 8310, 'dangerous': 8311, 'rushing': 8312, 'coulda': 8313, 'phony': 8314, 'okday': 8315, 'buz': 8316, 'wedlunch': 8317, 'outsomewhere': 8318, 'adrink': 8319, '2watershd': 8320, 'fromwrk': 8321, 'bthere': 8322, 'petexxx': 8323, 'hmph': 8324, 'baller': 8325, 'punto': 8326, 'ayo': 8327, 'travelled': 8328, '125': 8329, 'freeentry': 8330, 'xt': 8331, 'toyota': 8332, 'camry': 8333, 'olayiwola': 8334, 'mileage': 8335, 'landing': 8336, 'clover': 8337, 'achan': 8338, 'amma': 8339, 'rencontre': 8340, 'mountains': 8341, '08714712412': 8342, 'te': 8343, 'puppy': 8344, 'noise': 8345, 'meg': 8346, '08715203685': 8347, '4xx26': 8348, 'crossing': 8349, 'deepest': 8350, 'darkest': 8351, '09094646631': 8352, 'inconvenient': 8353, 'adsense': 8354, 'approved': 8355, 'dudette': 8356, 'perumbavoor': 8357, 'stage': 8358, 'clarify': 8359, 'preponed': 8360, 'natalie': 8361, 'natalie2k9': 8362, 'younger': 8363, '08701213186': 8364, 'liver': 8365, 'opener': 8366, 'guides': 8367, 'watched': 8368, 'loneliness': 8369, 'skyving': 8370, 'onwords': 8371, 'mtnl': 8372, 'mumbai': 8373, '83039': 8374, '62735': 8375, '450': 8376, 'accommodationvouchers': 8377, 'mustprovide': 8378, '15541': 8379, 'rajitha': 8380, 'ranju': 8381, 'styles': 8382, 'tscs08714740323': 8383, '1winawk': 8384, '50perweeksub': 8385, '09066361921': 8386, 'disagreeable': 8387, 'afterwards': 8388, 'vivekanand': 8389, 'uawake': 8390, 'feellikw': 8391, 'justfound': 8392, 'aletter': 8393, 'thatmum': 8394, 'gotmarried': 8395, '4thnov': 8396, 'ourbacks': 8397, 'fuckinnice': 8398, 'deviousbitch': 8399, 'rearrange': 8400, 'dormitory': 8401, 'astronomer': 8402, 'starer': 8403, 'election': 8404, 'recount': 8405, 'hitler': 8406, 'eleven': 8407, 'worms': 8408, 'suffering': 8409, 'dysentry': 8410, 'andre': 8411, 'virgil': 8412, 'gokila': 8413, 'shanil': 8414, 'exchanged': 8415, 'uncut': 8416, 'diamond': 8417, 'dino': 8418, 'kotees': 8419, 'panther': 8420, 'sugababes': 8421, 'zebra': 8422, 'badass': 8423, 'hoody': 8424, 'resent': 8425, 'queries': 8426, 'customersqueries': 8427, 'netvision': 8428, 'hassling': 8429, 'andres': 8430, 'haughaighgtujhyguj': 8431, 'fassyole': 8432, 'blacko': 8433, 'londn': 8434, 'responsibilities': 8435, '08715205273': 8436, 'vco': 8437, 'humanities': 8438, 'reassurance': 8439, 'aslamalaikkum': 8440, 'tohar': 8441, 'beeen': 8442, 'muht': 8443, 'albi': 8444, 'mufti': 8445, 'mahfuuz': 8446, '078': 8447, 'enufcredeit': 8448, 'tocall': 8449, 'ileave': 8450, 'treats': 8451, 'okors': 8452, 'ibored': 8453, 'adding': 8454, 'zeros': 8455, 'savings': 8456, 'goigng': 8457, 'perfume': 8458, 'sday': 8459, 'grocers': 8460, 'pubs': 8461, 'frankie': 8462, 'bennys': 8463, 'changing': 8464, 'diapers': 8465, 'owed': 8466, 'unlike': 8467, 'patients': 8468, 'turkeys': 8469, 'helens': 8470, 'princes': 8471, 'unintentionally': 8472, 'wenever': 8473, 'stability': 8474, 'tranquility': 8475, 'vibrant': 8476, 'colourful': 8477, 'bawling': 8478, 'failure': 8479, 'failing': 8480, 'velusamy': 8481, 'facilities': 8482, 'karnan': 8483, 'bluray': 8484, 'salt': 8485, 'wounds': 8486, 'logging': 8487, 'geoenvironmental': 8488, 'implications': 8489, 'fuuuuck': 8490, 'salmon': 8491, 'uploaded': 8492, 'wrkin': 8493, 'ree': 8494, 'compensation': 8495, 'awkward': 8496, 'splash': 8497, 'leg': 8498, 'musta': 8499, 'overdid': 8500, 'telediscount': 8501, 'foned': 8502, 'chuck': 8503, 'port': 8504, 'stuffs': 8505, 'juswoke': 8506, 'boatin': 8507, 'docks': 8508, 'spinout': 8509, '08715203656': 8510, '42049': 8511, 'uworld': 8512, 'qbank': 8513, 'assessment': 8514, 'someonone': 8515, '09064015307': 8516, 'tke': 8517, 'temales': 8518, 'finishd': 8519, 'dull': 8520, 'studies': 8521, 'anyones': 8522, 'treadmill': 8523, 'craigslist': 8524, 'absolutely': 8525, 'swan': 8526, 'sall': 8527, 'hehe': 8528, 'shexy': 8529, 'lamp': 8530, 'foward': 8531, '09061790126': 8532, 'misundrstud': 8533, '2u2': 8534, 'genes': 8535, 'com1win150ppmx3age16subscription': 8536, 'resuming': 8537, 'reapply': 8538, 'treatin': 8539, 'treacle': 8540, 'mumhas': 8541, 'beendropping': 8542, 'theplace': 8543, 'adress': 8544, 'oyster': 8545, 'sashimi': 8546, 'rumbling': 8547, 'marandratha': 8548, 'correctly': 8549, 'alaikkum': 8550, 'heaven': 8551, 'pisces': 8552, 'aquarius': 8553, '2yrs': 8554, 'steyn': 8555, 'wicket': 8556, 'sterm': 8557, 'resolved': 8558, 'jam': 8559, 'hannaford': 8560, 'wheat': 8561, 'chex': 8562, 'grownup': 8563, 'costume': 8564, 'jerk': 8565, 'stink': 8566, 'follows': 8567, 'subsequent': 8568, 'openings': 8569, 'upcharge': 8570, 'guai': 8571, 'astrology': 8572, 'slacking': 8573, 'mentor': 8574, 'percent': 8575, '09095350301': 8576, 'erotic': 8577, 'ecstacy': 8578, 'dept': 8579, '08717507382': 8580, 'coincidence': 8581, 'sane': 8582, 'helping': 8583, 'leading': 8584, '151': 8585, 'pause': 8586, '8800': 8587, 'psp': 8588, 'spacebucks': 8589, '083': 8590, '6089': 8591, 'squeezed': 8592, 'maintaining': 8593, 'dreading': 8594, 'thou': 8595, 'suggestion': 8596, 'lands': 8597, 'helps': 8598, 'forgt': 8599, 'ajith': 8600, 'ooooooh': 8601, 'yoville': 8602, 'asda': 8603, 'counts': 8604, 'officer': 8605, 'bffs': 8606, 'carly': 8607, 'seperated': 8608, 'ud': 8609, 'brolly': 8610, 'franxx': 8611, 'prometazine': 8612, 'syrup': 8613, '5mls': 8614, 'feed': 8615, 'singapore': 8616, 'victoria': 8617, 'pocay': 8618, 'wocay': 8619, '2morrowxxxx': 8620, 'broth': 8621, 'ramen': 8622, 'fowler': 8623, 'tats': 8624, 'flew': 8625, '09058094583': 8626, 'attention': 8627, 'tix': 8628, 'fne': 8629, 'youdoing': 8630, 'worc': 8631, 'foregate': 8632, 'shrub': 8633, 'get4an18th': 8634, '32000': 8635, 'legitimat': 8636, 'efreefone': 8637, 'pendent': 8638, 'toilet': 8639, 'stolen': 8640, 'cops': 8641, 'hu': 8642, 'navigate': 8643, 'choosing': 8644, 'require': 8645, 'guidance': 8646, 'chick': 8647, 'boobs': 8648, 'revealing': 8649, 'sparkling': 8650, 'breaks': 8651, '45': 8652, '0121': 8653, '2025050': 8654, 'shortbreaks': 8655, 'org': 8656, 'gyno': 8657, 'belong': 8658, 'gamb': 8659, 'treasure': 8660, '820554ad0a1705572711': 8661, '09050000332': 8662, 'positive': 8663, 'negative': 8664, 'hmmmm': 8665, 'command': 8666, 'stressful': 8667, 'holby': 8668, '09064017295': 8669, 'li': 8670, 'lecturer': 8671, 'repeating': 8672, 'yeovil': 8673, 'motor': 8674, 'rhode': 8675, 'bong': 8676, 'ofcourse': 8677, '08448350055': 8678, 'planettalkinstant': 8679, 'marvel': 8680, 'ultimate': 8681, '83338': 8682, '8ball': 8683, 'tamilnadu': 8684, 'tip': 8685, '07808247860': 8686, '08719899229': 8687, '40411': 8688, 'identification': 8689, 'limit': 8690, 'boundaries': 8691, 'endless': 8692, 'reassuring': 8693, 'young': 8694, 'referin': 8695, 'saibaba': 8696, 'colany': 8697, 'chic': 8698, 'declare': 8699, '49557': 8700, 'disappointment': 8701, 'irritation': 8702, 'tantrum': 8703, 'compliments': 8704, 'adventuring': 8705, 'chief': 8706, 'gsex': 8707, '2667': 8708, 'wc1n': 8709, '3xx': 8710, '3mobile': 8711, 'chatlines': 8712, 'inclu': 8713, 'servs': 8714, 'l8er': 8715, 'bailiff': 8716, 'mouse': 8717, 'desk': 8718, 'childporn': 8719, 'jumpers': 8720, 'hat': 8721, 'belt': 8722, 'cribbs': 8723, 'spiritual': 8724, 'barring': 8725, 'sudden': 8726, 'influx': 8727, 'kane': 8728, 'shud': 8729, 'pshew': 8730, 'units': 8731, 'accent': 8732, '4years': 8733, 'dental': 8734, 'nmde': 8735, 'dump': 8736, 'heap': 8737, 'lowes': 8738, 'salesman': 8739, '087187272008': 8740, 'now1': 8741, 'pity': 8742, 'suggestions': 8743, 'bitching': 8744}\n"
          ]
        }
      ]
    },
    {
      "cell_type": "code",
      "source": [
        "#Each token is going to be a basis vector so im constructing an 8745 space\n",
        "import numpy as np\n",
        "\n",
        "def vectorize_sentence(sentence_tokens, token2idx):\n",
        "    # Initialize a zero vector of length equal to vocab size\n",
        "    vec = np.zeros(len(token2idx), dtype=int) # produces 0s of vector space size, set as int (not float or anything else)\n",
        "    for token in sentence_tokens: #loop over token in each sentence\n",
        "      if token in token2idx: #check if token in dictionary\n",
        "        idx = token2idx[token] #find index for this token (basis vector on axis)\n",
        "        vec[idx] +=1 #Increment the count at this position, goes from 000 to 010 e.g. per token\n",
        "    return vec"
      ],
      "metadata": {
        "id": "-H3xn4D-1jXt"
      },
      "execution_count": null,
      "outputs": []
    },
    {
      "cell_type": "code",
      "source": [
        "row_index= len(data) -1\n",
        "tokens = data['tokens'].iloc[row_index]\n",
        "\n",
        "vec = vectorize_sentence(tokens, token2idx)\n",
        "print(vec)\n"
      ],
      "metadata": {
        "colab": {
          "base_uri": "https://localhost:8080/"
        },
        "id": "-PKWbE3Y8eyx",
        "outputId": "1d87a400-02dd-4187-e5a1-ffd9bde87bb1"
      },
      "execution_count": null,
      "outputs": [
        {
          "output_type": "stream",
          "name": "stdout",
          "text": [
            "[0 1 0 ... 0 0 0]\n"
          ]
        }
      ]
    },
    {
      "cell_type": "code",
      "source": [
        "import numpy as np\n",
        "\n",
        "# Initialize an empty list to store vectors\n",
        "all_vectors = []\n",
        "\n",
        "# Loop over each row index in the DataFrame\n",
        "for i in range(len(data)):\n",
        "    # Get the token list for this row\n",
        "    tokens = data['tokens'].iloc[i]\n",
        "\n",
        "    # Vectorize this token list using the function you have\n",
        "    vec = vectorize_sentence(tokens, token2idx)\n",
        "\n",
        "    # Append the vector to the list\n",
        "    all_vectors.append(vec)\n",
        "\n",
        "# Convert list of vectors into a 2D NumPy array (rows = messages, cols = vocab size)\n",
        "X = np.array(all_vectors)\n",
        "\n",
        "print(X.shape)  # should be (number of messages, vocabulary size)\n",
        "print(all_vectors[0])"
      ],
      "metadata": {
        "colab": {
          "base_uri": "https://localhost:8080/"
        },
        "id": "K1XhALig9RDO",
        "outputId": "4114afc3-c20a-4533-f73c-b413203e3709"
      },
      "execution_count": null,
      "outputs": [
        {
          "output_type": "stream",
          "name": "stdout",
          "text": [
            "(5572, 8745)\n",
            "[0 0 0 ... 0 0 0]\n"
          ]
        }
      ]
    },
    {
      "cell_type": "code",
      "source": [
        "print(\"Shape of X:\", X.shape)\n",
        "print(\"Data type of X:\", X.dtype)\n",
        "print(\"First row of X:\\n\", X[0])\n",
        "print(\"Sum of first row (total tokens in first message):\", X[0].sum())\n",
        "print(\"Number of non-zero entries in first row:\", (X[0] != 0).sum())\n",
        "print(\"Max value in X (should be >=1):\", X.max())\n"
      ],
      "metadata": {
        "colab": {
          "base_uri": "https://localhost:8080/"
        },
        "id": "D9fZ1abV-Uyr",
        "outputId": "75f5ac17-7471-4b1e-e9da-3e351d9172d8"
      },
      "execution_count": null,
      "outputs": [
        {
          "output_type": "stream",
          "name": "stdout",
          "text": [
            "Shape of X: (5572, 8745)\n",
            "Data type of X: int64\n",
            "First row of X:\n",
            " [0 0 0 ... 0 0 0]\n",
            "Sum of first row (total tokens in first message): 20\n",
            "Number of non-zero entries in first row: 20\n",
            "Max value in X (should be >=1): 18\n"
          ]
        }
      ]
    },
    {
      "cell_type": "code",
      "source": [
        "print(\"Shape of y:\", y.shape)\n",
        "print(\"Unique labels in y:\", y.unique())\n",
        "print(\"Counts of each label:\\n\", y.value_counts())\n",
        "y.dtype#this is object because series with strings in it\n",
        "y_num = y.map({'ham': 0, 'spam': 1})\n",
        "print(\"Shape of y:\", y_num.shape)\n",
        "print(\"Unique labels in y:\", y_num.unique())\n",
        "print(\"Counts of each\", y_num.value_counts())"
      ],
      "metadata": {
        "colab": {
          "base_uri": "https://localhost:8080/"
        },
        "id": "Ktq13Tbh-VRO",
        "outputId": "69e6e4b3-6ca8-4e57-df50-da43d1b5d09f"
      },
      "execution_count": null,
      "outputs": [
        {
          "output_type": "stream",
          "name": "stdout",
          "text": [
            "Shape of y: (5572,)\n",
            "Unique labels in y: ['ham' 'spam']\n",
            "Counts of each label:\n",
            " label\n",
            "ham     4825\n",
            "spam     747\n",
            "Name: count, dtype: int64\n",
            "Shape of y: (5572,)\n",
            "Unique labels in y: [0 1]\n",
            "Counts of each label\n",
            "0    4825\n",
            "1     747\n",
            "Name: count, dtype: int64\n"
          ]
        }
      ]
    },
    {
      "cell_type": "code",
      "source": [
        "#Grad Boosting is ensemble of weak learners here decision tree that is shallow, each small model focuses on error of previous model to boost performance\n",
        "#RandForest is bagging/parallel indep learners that take majority vote/average, lower overfitting risk due to randomness, easier to tune\n",
        "#GradBoost is sequential, each learner fixes errors w. additive updates, needs regularizaiton as high risk of overfitting, usually better without tuning"
      ],
      "metadata": {
        "id": "ERWVgUq9-1Mj"
      },
      "execution_count": null,
      "outputs": []
    },
    {
      "cell_type": "code",
      "source": [
        "#from sklearn.preprocessing import StandardScaler dont need bc features are vector frequencies and decision trees are scale invariant\n",
        "from sklearn.model_selection import train_test_split\n",
        "\n",
        "# First split: Train vs Temp (Validation + Test)\n",
        "X_train, X_temp, y_train, y_temp = train_test_split(\n",
        "    X, y_num, test_size=0.3, random_state=42, stratify=y_num\n",
        ")\n",
        "\n",
        "# Second split: Validation vs Test\n",
        "X_val, X_test, y_val, y_test = train_test_split(\n",
        "    X_temp, y_temp, test_size=0.5, random_state=42, stratify=y_temp\n",
        ")\n",
        "\n",
        "# Print shapes for sanity check\n",
        "print(\"X_train:\", X_train.shape)\n",
        "print(\"X_val:\", X_val.shape)\n",
        "print(\"X_test:\", X_test.shape)"
      ],
      "metadata": {
        "colab": {
          "base_uri": "https://localhost:8080/"
        },
        "id": "ISN5BAii1_3F",
        "outputId": "dcfff3f1-d88a-4e55-ecd0-0007e431a246"
      },
      "execution_count": null,
      "outputs": [
        {
          "output_type": "stream",
          "name": "stdout",
          "text": [
            "X_train: (3900, 8745)\n",
            "X_val: (836, 8745)\n",
            "X_test: (836, 8745)\n"
          ]
        }
      ]
    },
    {
      "cell_type": "code",
      "source": [
        "from sklearn.metrics import accuracy_score, precision_recall_fscore_support\n",
        "#using accuracy, precision, recall and F1 score-confusion matrix\n",
        "def evaluate(y_true, y_pred):\n",
        "    acc = accuracy_score(y_true, y_pred)\n",
        "    #average because binary classification, zerodivision avoids crashes if class not predicted\n",
        "    precision, recall, f1, _ = precision_recall_fscore_support( #here ,_ is a throwaway variable as it'll return support:true count doenst help with DT\n",
        "        y_true, y_pred, average='binary', zero_division=0\n",
        "    )\n",
        "    print(f\"accuracy={acc:.4f}, precision={precision:.4f}, recall={recall:.4f}, f1={f1:.4f}\")\n"
      ],
      "metadata": {
        "id": "7fN2cnJ93I3A"
      },
      "execution_count": null,
      "outputs": []
    },
    {
      "cell_type": "code",
      "source": [
        "'''\n",
        "#Import Decision Tree from Previous code or use sciKit Learn\n",
        "import numpy as np\n",
        "import pandas as pd\n",
        "\n",
        "# ----------------------\n",
        "# Gini impurity function\n",
        "# ----------------------\n",
        "def gini_impurity(y):\n",
        "    \"\"\"\n",
        "    Compute Gini impurity for a binary label array y.\n",
        "    Returns 0 if y is empty.\n",
        "    \"\"\"\n",
        "    if len(y) == 0:\n",
        "        return 0\n",
        "    p1 = np.mean(y)        # proportion of class 1\n",
        "    p0 = 1 - p1            # proportion of class 0\n",
        "    return 1 - p0**2 - p1**2  # Gini formula\n",
        "\n",
        "# ----------------------\n",
        "# Split dataset function\n",
        "# ----------------------\n",
        "def split_dataset(X, y, feature, threshold):\n",
        "    \"\"\"\n",
        "    Split X and y based on a feature threshold.\n",
        "    Returns X_left, y_left, X_right, y_right.\n",
        "    \"\"\"\n",
        "    # Align y index to X index\n",
        "    y = pd.Series(y.values, index=X.index)\n",
        "\n",
        "    left_mask = X[feature] <= threshold\n",
        "    right_mask = X[feature] > threshold\n",
        "\n",
        "    return X[left_mask], y[left_mask], X[right_mask], y[right_mask]\n",
        "# ----------------------\n",
        "# Best split function\n",
        "# ----------------------\n",
        "def best_split(X, y):\n",
        "    \"\"\"\n",
        "    Find the best feature and threshold to split the dataset.\n",
        "    Returns: best_feature, best_threshold, best_splits (X_left, y_left, X_right, y_right)\n",
        "    \"\"\"\n",
        "    best_feature = None\n",
        "    best_threshold = None\n",
        "    best_gini = float('inf')\n",
        "    best_splits = None\n",
        "\n",
        "    n_samples, n_features = X.shape\n",
        "\n",
        "    for feature_idx in range(n_features):\n",
        "        feature_name = X.columns[feature_idx]\n",
        "        values = X[feature_name].unique()  # candidate thresholds\n",
        "\n",
        "        for threshold in values:\n",
        "            X_left, y_left, X_right, y_right = split_dataset(X, y, feature_name, threshold)\n",
        "\n",
        "            gini_left = gini_impurity(y_left)\n",
        "            gini_right = gini_impurity(y_right)\n",
        "\n",
        "            n_left = len(y_left)\n",
        "            n_right = len(y_right)\n",
        "            weighted_gini = (n_left / n_samples) * gini_left + (n_right / n_samples) * gini_right\n",
        "\n",
        "            if weighted_gini < best_gini:\n",
        "                best_gini = weighted_gini\n",
        "                best_feature = feature_name\n",
        "                best_threshold = threshold\n",
        "                best_splits = (X_left, y_left, X_right, y_right)\n",
        "\n",
        "    return best_feature, best_threshold, best_splits\n",
        "\n",
        "# ----------------------\n",
        "# TreeNode class\n",
        "# ----------------------\n",
        "class TreeNode:\n",
        "    \"\"\"\n",
        "    Node in the decision tree.\n",
        "    \"\"\"\n",
        "    def __init__(self, feature=None, threshold=None, left=None, right=None, *, value=None):\n",
        "        self.feature = feature      # feature used for split\n",
        "        self.threshold = threshold  # threshold for split\n",
        "        self.left = left            # left child TreeNode\n",
        "        self.right = right          # right child TreeNode\n",
        "        self.value = value          # class label if leaf node\n",
        "\n",
        "    def is_leaf(self):\n",
        "        return self.value is not None\n",
        "'''"
      ],
      "metadata": {
        "id": "ykvg0ywK7K2s",
        "colab": {
          "base_uri": "https://localhost:8080/",
          "height": 139
        },
        "outputId": "fe05f6a4-e0bc-4971-ecf0-41a06d7f2e16"
      },
      "execution_count": null,
      "outputs": [
        {
          "output_type": "execute_result",
          "data": {
            "text/plain": [
              "'\\n#Import Decision Tree from Previous code or use sciKit Learn\\nimport numpy as np\\nimport pandas as pd\\n\\n# ----------------------\\n# Gini impurity function\\n# ----------------------\\ndef gini_impurity(y):\\n    \"\"\"\\n    Compute Gini impurity for a binary label array y.\\n    Returns 0 if y is empty.\\n    \"\"\"\\n    if len(y) == 0:\\n        return 0\\n    p1 = np.mean(y)        # proportion of class 1\\n    p0 = 1 - p1            # proportion of class 0\\n    return 1 - p0**2 - p1**2  # Gini formula\\n\\n# ----------------------\\n# Split dataset function\\n# ----------------------\\ndef split_dataset(X, y, feature, threshold):\\n    \"\"\"\\n    Split X and y based on a feature threshold.\\n    Returns X_left, y_left, X_right, y_right.\\n    \"\"\"\\n    # Align y index to X index\\n    y = pd.Series(y.values, index=X.index)\\n\\n    left_mask = X[feature] <= threshold\\n    right_mask = X[feature] > threshold\\n\\n    return X[left_mask], y[left_mask], X[right_mask], y[right_mask]\\n# ----------------------\\n# Best split function\\n# ----------------------\\ndef best_split(X, y):\\n    \"\"\"\\n    Find the best feature and threshold to split the dataset.\\n    Returns: best_feature, best_threshold, best_splits (X_left, y_left, X_right, y_right)\\n    \"\"\"\\n    best_feature = None\\n    best_threshold = None\\n    best_gini = float(\\'inf\\')\\n    best_splits = None\\n\\n    n_samples, n_features = X.shape\\n\\n    for feature_idx in range(n_features):\\n        feature_name = X.columns[feature_idx]\\n        values = X[feature_name].unique()  # candidate thresholds\\n\\n        for threshold in values:\\n            X_left, y_left, X_right, y_right = split_dataset(X, y, feature_name, threshold)\\n\\n            gini_left = gini_impurity(y_left)\\n            gini_right = gini_impurity(y_right)\\n\\n            n_left = len(y_left)\\n            n_right = len(y_right)\\n            weighted_gini = (n_left / n_samples) * gini_left + (n_right / n_samples) * gini_right\\n\\n            if weighted_gini < best_gini:\\n                best_gini = weighted_gini\\n                best_feature = feature_name\\n                best_threshold = threshold\\n                best_splits = (X_left, y_left, X_right, y_right)\\n\\n    return best_feature, best_threshold, best_splits\\n\\n# ----------------------\\n# TreeNode class\\n# ----------------------\\nclass TreeNode:\\n    \"\"\"\\n    Node in the decision tree.\\n    \"\"\"\\n    def __init__(self, feature=None, threshold=None, left=None, right=None, *, value=None):\\n        self.feature = feature      # feature used for split\\n        self.threshold = threshold  # threshold for split\\n        self.left = left            # left child TreeNode\\n        self.right = right          # right child TreeNode\\n        self.value = value          # class label if leaf node\\n\\n    def is_leaf(self):\\n        return self.value is not None\\n'"
            ],
            "application/vnd.google.colaboratory.intrinsic+json": {
              "type": "string"
            }
          },
          "metadata": {},
          "execution_count": 35
        }
      ]
    },
    {
      "cell_type": "code",
      "source": [
        "from sklearn.tree import DecisionTreeClassifier\n",
        "#help(DecisionTreeClassifier)\n",
        "\n",
        "rtree = DecisionTreeClassifier(criterion= 'gini',\n",
        "                      max_depth= 12, #I could do none random forest wants deep but dont want to memorize samples so ill do 10-12\n",
        "                      min_samples_split=2, #node split too high will underfit wont split, too low deep tree can overfit but random forest mitigates taht\n",
        "                      min_samples_leaf=2, # num of samples required to split node, depends on size of dataset small=2 large =10\n",
        "                      max_features='sqrt', #this is num of features to consider each split, bc our vec is 1000s make it small to decorrelate/generalize\n",
        "                      random_state=22,\n",
        "                                )"
      ],
      "metadata": {
        "id": "bXEvR-Zi7m3c"
      },
      "execution_count": null,
      "outputs": []
    },
    {
      "cell_type": "code",
      "source": [
        "#initialize random tree class\n",
        "import numpy as np\n",
        "\n",
        "#Define class, has parameters in the init function, these are temporary names with default values\n",
        "class RandomForest:\n",
        "    def __init__( #this is a function: initialize\n",
        "        self, #object instance\n",
        "        n_trees=10,           # how many trees in the forest\n",
        "        max_depth=None,       # max depth per tree\n",
        "        min_samples_split=2,  # minimum samples to split a node\n",
        "        min_samples_leaf=1,   # minimum samples in a leaf\n",
        "        max_features='sqrt',  # features considered per split\n",
        "        random_state=None     # reproducibility\n",
        "    ):\n",
        "\n",
        "#instances of the variables vs function parameters in brackets above, temp names then attached to values below\n",
        "        self.n_trees = n_trees #self. takes the value of the parameter (here 10) and stores it as instance var(LH), stored inside rf later when rf=RandClass()\n",
        "        self.max_depth = max_depth\n",
        "        self.min_samples_split = min_samples_split\n",
        "        self.min_samples_leaf = min_samples_leaf\n",
        "        self.max_features = max_features\n",
        "        self.random_state = random_state\n",
        "        #without these if i do rf(n_trees=50)I'll get an error as it can't access n_trees without self\n",
        "\n",
        "#creates new list object in memory\n",
        "#creates reference inside self called trees (so this becomes part of the obj rf)\n",
        "#So just like above this object is stored in rf called trees, but here it's an empty list\n",
        "        self.trees = []  #stores all DTrees, mutable list unlike above\n",
        "\n",
        "        if random_state is not None: #random here is selecting bootstrapping samples for each tree in the forest\n",
        "            np.random.seed(random_state)  # ensure reproducible bootstraps\n",
        "\n",
        "#rf=RandomForest() rf is isntance, self inside class refers to that same object while _init_ is running, every attribute self becomes part of obj"
      ],
      "metadata": {
        "id": "GUH7MvwtIRVL"
      },
      "execution_count": null,
      "outputs": []
    },
    {
      "cell_type": "code",
      "source": [
        "X.shape[0]"
      ],
      "metadata": {
        "colab": {
          "base_uri": "https://localhost:8080/"
        },
        "id": "cuVRwWJQXAEX",
        "outputId": "2822e1a7-f6b5-41e8-a5bc-5063a391a347"
      },
      "execution_count": null,
      "outputs": [
        {
          "output_type": "execute_result",
          "data": {
            "text/plain": [
              "5572"
            ]
          },
          "metadata": {},
          "execution_count": 38
        }
      ]
    },
    {
      "cell_type": "code",
      "source": [
        "#Randomly pick rows from dataset with replacement (same row can pick again), each tree is trained on bootstrap not the entire dataset (does this mean mult rows)\n",
        "#Reduces variance by averaging, as individual trees can overfit. Here each tree sees slightly diff data, improves ensemble performance\n",
        "#Bagging=sample with repalcement\n",
        "def _bootstrap_sample(self, X, y): #self allows method to access isntance variables if needed e.g. self.random_state\n",
        "      n_samples = X.shape[0] #number of rows/samples\n",
        "      indices = np.random.choice(n_samples, size=n_samples, replace=True) #randomly pick indices from 0 to n-1, allow repeats, indices create samples\n",
        "#size=n_samples so same as original dataset, but some rows will repeat and therefore some others will be missing\n",
        "      return X.iloc[indices], y.iloc[indices] #X and y samples here b.c df cant just say X[indices]\n"
      ],
      "metadata": {
        "id": "hDdAuw2QIVlV"
      },
      "execution_count": null,
      "outputs": []
    },
    {
      "cell_type": "code",
      "source": [
        " #Fit, we are going to train n decision trees on bootstrap samples and store them as self.trees\n",
        "def fit(self, X, y): # Add self here\n",
        "  for _ in range(self.n_trees):  # loop over number of trees, here _ b/c we dont care about loop index, loops once for each tree and self.n_trees defined in class\n",
        "        # Step 1: create bootstrap sample-here we're running the previous method it creates a 'unique' dataset\n",
        "        X_sample, y_sample = self._bootstrap_sample(X, y) #calls bootstrap method inside the object (self) or rf in this case when rf=RandomForest()\n",
        "#without .self itlook for a function vs the method that it is, defined on RandFor Class\n",
        "\n",
        "        # Step 2: create a new decision tree, for every iteration so it's not all stored in one and overwritten\n",
        "        tree = DecisionTreeClassifier(\n",
        "            criterion='gini',\n",
        "            max_depth=self.max_depth,\n",
        "            min_samples_split=self.min_samples_split,\n",
        "            min_samples_leaf=self.min_samples_leaf,\n",
        "            max_features=self.max_features,\n",
        "            random_state=self.random_state  # optional: can also vary per tree for more randomness\n",
        "        )\n",
        "\n",
        "        # Step 3: fit the tree on the bootstrap sample, the repeat but b/c new sample new tree (stil lsimilar)\n",
        "        tree.fit(X_sample, y_sample)\n",
        "\n",
        "        # Step 4: store the trained tree in self.trees\n",
        "        self.trees.append(tree)"
      ],
      "metadata": {
        "id": "WthHOKDkIVoU"
      },
      "execution_count": null,
      "outputs": []
    },
    {
      "cell_type": "code",
      "source": [
        "#With a trained tree on a bootstrap sample, when a row is applied to a tree it'll make a prediction and can vary amongst trees\n",
        "def predict(self, X): #self refers to the random forest instance calling the method rf\n",
        "        \"\"\"\n",
        "        Predict by aggregating predictions of all trees (majority vote).\n",
        "        \"\"\"\n",
        "        all_preds = []\n",
        "\n",
        "        # 1. Get predictions from every tree\n",
        "        for tree in self.trees:\n",
        "            preds = tree.predict(X) #this is a method from scikit learn due to import\n",
        "            all_preds.append(preds) #stores all predictions as an array\n",
        "\n",
        "        # 2. Convert to 2D array: shape (n_trees, n_samples)\n",
        "        all_preds = np.array(all_preds)\n",
        "\n",
        "        # 3. Take majority vote for each sample\n",
        "        y_pred = []\n",
        "        for i in range(all_preds.shape[1]): #loops over column which is predictions of all trees (rows) on a specific row of X\n",
        "            counts = np.bincount(all_preds[:, i])\n",
        "            y_pred.append(np.argmax(counts))\n",
        "\n",
        "        return np.array(y_pred)\n"
      ],
      "metadata": {
        "id": "rF2SCdZpIVqc"
      },
      "execution_count": null,
      "outputs": []
    },
    {
      "cell_type": "code",
      "source": [
        "import numpy as np\n",
        "from sklearn.tree import DecisionTreeClassifier\n",
        "\n",
        "class RandomForest:\n",
        "    def __init__(self,\n",
        "                 n_trees=10,\n",
        "                 criterion='gini',\n",
        "                 max_depth=None,\n",
        "                 min_samples_split=2,\n",
        "                 min_samples_leaf=1,\n",
        "                 max_features='sqrt',\n",
        "                 random_state=None):\n",
        "        \"\"\"\n",
        "        Custom Random Forest classifier using sklearn DecisionTreeClassifier as base.\n",
        "        \"\"\"\n",
        "        self.n_trees = n_trees\n",
        "        self.criterion = criterion\n",
        "        self.max_depth = max_depth\n",
        "        self.min_samples_split = min_samples_split\n",
        "        self.min_samples_leaf = min_samples_leaf\n",
        "        self.max_features = max_features\n",
        "        self.random_state = random_state\n",
        "        self.trees = []\n",
        "\n",
        "    def _bootstrap_sample(self, X, y):\n",
        "        \"\"\"\n",
        "        Generate a bootstrap sample using integer-based NumPy indexing.\n",
        "        Converts pandas objects to NumPy arrays for safety.\n",
        "        \"\"\"\n",
        "        # Convert pandas to NumPy if needed\n",
        "        if hasattr(X, 'values'):\n",
        "            X = X.values\n",
        "        if hasattr(y, 'values'):\n",
        "            y = y.values\n",
        "\n",
        "        n_samples = X.shape[0]\n",
        "        indices = np.random.choice(n_samples, size=n_samples, replace=True)\n",
        "        return X[indices], y[indices]\n",
        "\n",
        "    def fit(self, X, y):\n",
        "        \"\"\"\n",
        "        Train n_trees decision trees on bootstrap samples.\n",
        "        \"\"\"\n",
        "        np.random.seed(self.random_state)\n",
        "        self.trees = []\n",
        "\n",
        "        for i in range(self.n_trees):\n",
        "            X_sample, y_sample = self._bootstrap_sample(X, y)\n",
        "\n",
        "            tree = DecisionTreeClassifier(\n",
        "                criterion=self.criterion,\n",
        "                max_depth=self.max_depth,\n",
        "                min_samples_split=self.min_samples_split,\n",
        "                min_samples_leaf=self.min_samples_leaf,\n",
        "                max_features=self.max_features,\n",
        "                random_state=self.random_state\n",
        "            )\n",
        "\n",
        "            # Cast X_sample to float64 for safety\n",
        "            tree.fit(X_sample.astype(np.float64), y_sample)\n",
        "            self.trees.append(tree)\n",
        "\n",
        "    def predict(self, X):\n",
        "        \"\"\"\n",
        "        Predict class labels for samples in X using majority vote.\n",
        "        \"\"\"\n",
        "        # Convert pandas to NumPy if needed\n",
        "        if hasattr(X, 'values'):\n",
        "            X = X.values\n",
        "\n",
        "        all_preds = []\n",
        "        for tree in self.trees:\n",
        "            preds = tree.predict(X.astype(np.float64))\n",
        "            all_preds.append(preds)\n",
        "\n",
        "        all_preds = np.array(all_preds)  # shape: (n_trees, n_samples)\n",
        "\n",
        "        # Majority vote\n",
        "        y_pred = []\n",
        "        for i in range(all_preds.shape[1]):\n",
        "            counts = np.bincount(all_preds[:, i])\n",
        "            y_pred.append(np.argmax(counts))\n",
        "\n",
        "        return np.array(y_pred)\n",
        "#Bug was putting all these together, and then something about pandas and numpys not playing well together"
      ],
      "metadata": {
        "id": "khED4jEOpeC1"
      },
      "execution_count": null,
      "outputs": []
    },
    {
      "cell_type": "code",
      "source": [
        "# Assuming X_train, y_train, X_val, y_val are defined (NumPy arrays or pandas)\n",
        "\n",
        "rf = RandomForest(\n",
        "    n_trees=50,\n",
        "    criterion='gini',\n",
        "    max_depth=12,\n",
        "    min_samples_split=2,\n",
        "    min_samples_leaf=2,\n",
        "    max_features='sqrt',\n",
        "    random_state=22\n",
        ")\n",
        "\n",
        "rf.fit(X_train, y_train)\n",
        "y_pred = rf.predict(X_val)\n"
      ],
      "metadata": {
        "collapsed": true,
        "id": "tPKYbhwipek6"
      },
      "execution_count": null,
      "outputs": []
    },
    {
      "cell_type": "code",
      "source": [
        "print(y_pred)"
      ],
      "metadata": {
        "colab": {
          "base_uri": "https://localhost:8080/"
        },
        "id": "ba36G9FuwxjT",
        "outputId": "0610c5b5-552e-40d2-9a60-45fae4ac5c60"
      },
      "execution_count": null,
      "outputs": [
        {
          "output_type": "stream",
          "name": "stdout",
          "text": [
            "[0 0 0 0 0 0 0 0 0 0 0 0 0 0 0 0 0 0 0 0 0 0 0 0 0 0 0 0 0 0 0 0 0 0 0 0 1\n",
            " 0 0 0 0 0 0 0 0 0 0 0 0 0 0 0 0 1 0 0 0 0 0 0 0 0 0 0 0 0 0 0 0 0 0 0 0 0\n",
            " 0 0 0 0 0 0 0 0 1 0 0 0 0 0 0 0 0 0 0 0 0 0 0 0 0 0 0 0 0 0 0 0 0 0 0 0 0\n",
            " 0 0 0 0 0 0 0 0 0 0 0 0 0 0 0 0 0 0 0 0 0 0 0 0 0 0 0 0 0 0 0 0 0 0 0 0 0\n",
            " 0 0 0 0 0 0 0 0 0 0 0 0 0 0 0 0 0 1 0 0 0 0 0 0 0 0 0 0 0 0 0 0 0 0 0 0 0\n",
            " 1 0 0 0 0 0 0 0 0 0 0 0 0 0 0 0 0 0 1 0 0 0 0 0 0 0 0 0 0 0 0 0 0 0 0 0 0\n",
            " 0 0 0 0 0 0 0 0 0 0 0 0 1 1 0 0 0 0 0 0 0 0 1 0 0 0 0 0 0 0 0 0 0 0 0 0 0\n",
            " 0 0 0 0 0 0 0 0 0 0 0 1 0 0 0 0 0 0 0 0 0 0 0 0 0 0 1 0 0 0 0 0 0 0 1 0 0\n",
            " 0 0 0 0 0 0 0 0 0 0 0 0 0 0 0 0 0 0 0 0 0 0 0 0 0 0 0 0 0 0 0 0 0 0 0 0 0\n",
            " 0 0 0 0 1 0 0 0 0 0 0 0 0 0 0 1 0 0 0 0 0 0 0 0 0 0 0 0 0 0 0 0 0 0 0 0 0\n",
            " 1 0 0 0 0 0 0 0 0 0 0 1 0 0 0 0 0 0 0 0 0 1 0 0 0 0 0 0 0 0 0 0 0 0 0 0 0\n",
            " 0 0 0 0 0 0 0 0 0 0 0 0 0 0 0 0 0 0 0 0 0 0 0 0 0 0 0 0 0 0 0 0 0 0 0 0 0\n",
            " 0 0 0 0 0 0 0 0 0 0 0 0 0 0 0 0 0 0 0 0 0 0 0 1 0 0 0 0 0 0 0 0 0 0 1 0 0\n",
            " 0 0 0 0 0 0 0 0 0 0 0 0 0 0 0 0 0 0 0 0 0 0 0 0 0 0 0 0 1 1 0 0 0 1 0 0 0\n",
            " 0 0 0 0 0 0 0 1 0 0 0 0 0 0 0 0 0 0 0 0 0 0 0 0 0 0 0 0 0 1 0 0 0 1 0 0 0\n",
            " 0 0 0 0 0 0 0 0 0 0 0 0 0 1 0 1 0 0 0 0 0 0 0 0 0 0 0 0 0 0 0 0 0 0 0 0 0\n",
            " 0 0 0 0 0 0 0 0 0 0 0 0 0 0 0 0 0 0 0 0 0 0 0 0 0 0 0 0 0 0 0 0 0 0 1 0 0\n",
            " 0 0 0 0 0 0 0 0 0 0 0 0 0 0 0 0 0 0 0 0 0 0 0 0 0 0 0 0 0 0 0 0 0 0 0 0 0\n",
            " 0 0 0 0 1 0 0 0 0 0 0 0 0 0 0 0 0 0 0 0 0 0 0 0 0 0 0 0 0 1 0 0 0 0 0 1 0\n",
            " 0 0 0 0 0 0 0 0 0 0 0 0 0 1 0 0 0 0 0 0 0 0 0 0 0 0 0 0 0 0 0 0 0 0 0 0 0\n",
            " 0 0 0 1 0 1 0 0 0 0 0 0 0 0 0 0 0 0 0 0 0 0 0 0 0 0 0 0 0 0 0 0 0 0 0 0 0\n",
            " 0 0 0 0 0 0 0 0 0 0 0 0 0 0 0 0 0 0 1 0 0 0 0 0 0 0 0 0 0 0 0 0 0 0 0 0 0\n",
            " 0 0 0 0 0 0 0 0 0 0 0 0 0 0 1 0 0 0 1 0 0 0]\n"
          ]
        }
      ]
    },
    {
      "cell_type": "code",
      "source": [
        "import numpy as np\n",
        "import pandas as pd\n",
        "from sklearn.ensemble import RandomForestClassifier\n",
        "from sklearn.model_selection import train_test_split\n",
        "from sklearn.metrics import accuracy_score, classification_report\n",
        "\n",
        "\n",
        "# Initialize scikit-learn RandomForestClassifier with same hyperparameters\n",
        "rf_sklearn = RandomForestClassifier(\n",
        "    n_estimators=50,\n",
        "    criterion='gini',\n",
        "    max_depth=12,\n",
        "    min_samples_split=2,\n",
        "    min_samples_leaf=2,\n",
        "    max_features='sqrt',\n",
        "    random_state=22,\n",
        "    n_jobs=-1  # Use all CPU cores\n",
        ")\n",
        "\n",
        "# Fit the model\n",
        "rf_sklearn.fit(X_train, y_train)\n",
        "\n",
        "# Make predictions\n",
        "y_pred_sklearn = rf_sklearn.predict(X_val)"
      ],
      "metadata": {
        "id": "_rP6kUONxv67"
      },
      "execution_count": null,
      "outputs": []
    },
    {
      "cell_type": "code",
      "source": [
        "print(y_pred_sklearn)\n",
        "# Evaluate\n",
        "accuracy = accuracy_score(y_val, y_pred_sklearn)\n",
        "report = classification_report(y_val, y_pred_sklearn)\n",
        "\n",
        "print(\"Accuracy:\", accuracy)\n",
        "print(\"Classification Report:\\n\", report)\n",
        "print(\"Predictions:\\n\", y_pred_sklearn)\n",
        "\n",
        "accuracysc = accuracy_score(y_val, y_pred)\n",
        "reportsc = classification_report(y_val, y_pred)\n",
        "\n",
        "print(\"Accuracy:\", accuracysc)\n",
        "print(\"Classification Report:\\n\", reportsc)\n"
      ],
      "metadata": {
        "colab": {
          "base_uri": "https://localhost:8080/"
        },
        "id": "-NmIa1Lmx4Zv",
        "outputId": "b3b54b10-ab4f-4bbe-8cb3-1fae899f46c5"
      },
      "execution_count": null,
      "outputs": [
        {
          "output_type": "stream",
          "name": "stdout",
          "text": [
            "[0 0 0 0 0 0 0 1 0 0 0 0 0 0 0 0 0 0 0 0 0 0 0 0 0 0 0 0 0 0 0 0 0 0 0 0 1\n",
            " 0 0 0 0 0 0 0 0 0 0 0 0 0 0 1 0 0 0 0 0 0 0 0 0 0 0 0 0 0 0 0 0 0 0 0 0 0\n",
            " 0 0 0 0 0 0 0 0 1 0 0 0 0 0 0 0 0 0 0 0 0 0 0 0 0 0 0 0 0 0 0 0 0 0 0 0 0\n",
            " 0 0 0 0 0 0 0 0 0 0 0 0 0 0 0 0 0 0 0 0 0 0 0 0 0 0 0 0 0 0 0 0 0 0 0 0 0\n",
            " 0 0 0 0 0 0 0 0 0 0 0 0 0 0 0 0 0 1 0 0 0 0 0 0 0 0 0 0 0 0 0 0 0 0 0 0 0\n",
            " 1 0 0 0 0 0 0 0 0 0 0 0 0 0 0 0 0 0 0 0 0 0 0 0 0 0 0 0 0 0 0 0 0 0 0 0 0\n",
            " 0 0 0 0 0 0 0 0 0 0 0 0 1 1 0 0 0 0 0 0 0 0 1 0 0 0 0 0 0 0 0 0 0 0 0 0 0\n",
            " 0 0 0 0 0 0 0 0 0 0 0 1 0 0 0 0 0 0 0 0 0 0 0 0 0 0 1 0 0 0 0 0 0 0 1 0 0\n",
            " 0 0 0 0 0 0 0 0 0 0 0 0 0 1 0 0 0 0 0 0 0 0 0 0 0 1 0 0 0 0 1 0 0 0 0 0 0\n",
            " 0 0 0 0 1 0 0 0 0 0 0 0 1 0 0 1 0 0 0 0 0 0 0 0 0 0 0 1 0 0 0 0 0 0 0 0 0\n",
            " 1 0 0 0 0 0 0 0 0 0 1 1 0 0 0 0 0 0 0 0 0 1 0 0 0 0 0 0 0 0 0 0 0 0 0 0 0\n",
            " 0 0 0 0 0 0 0 0 0 0 0 0 0 0 0 0 0 0 0 0 0 0 0 0 0 0 0 0 0 0 0 0 0 0 0 0 0\n",
            " 0 0 0 0 0 0 0 0 0 0 0 0 0 0 0 0 0 0 0 0 0 0 0 1 0 0 0 0 0 0 0 0 0 0 1 0 0\n",
            " 0 0 0 0 0 0 0 1 0 0 0 0 0 0 0 0 0 0 0 0 0 0 0 0 0 0 0 0 1 1 0 0 0 1 0 0 0\n",
            " 0 0 0 0 0 0 0 1 0 0 0 0 0 0 0 0 0 0 0 0 0 0 0 0 0 0 0 0 0 1 0 0 0 1 0 0 0\n",
            " 0 0 0 0 0 0 0 0 0 0 1 0 0 1 0 1 0 0 0 0 0 0 0 0 0 0 0 0 0 0 0 0 0 0 0 0 0\n",
            " 0 0 0 0 0 0 0 0 0 0 0 0 0 0 0 0 0 0 0 0 0 0 0 0 0 0 0 0 0 0 0 0 0 0 1 0 0\n",
            " 0 0 0 0 0 0 0 0 0 0 0 0 0 1 0 0 0 0 0 0 0 0 0 0 0 0 0 0 0 0 0 0 0 0 0 0 0\n",
            " 0 0 0 0 1 0 0 0 0 0 0 0 0 0 0 0 0 0 0 0 0 0 0 0 0 0 0 0 0 0 0 0 0 0 0 1 0\n",
            " 0 0 0 0 0 0 0 0 0 0 0 0 0 1 0 0 0 0 0 0 0 0 0 0 0 0 0 0 0 0 0 0 0 0 0 0 0\n",
            " 0 0 0 1 0 1 0 0 0 0 0 0 0 0 0 0 0 0 0 0 0 0 0 0 0 0 0 0 0 0 0 0 0 0 0 0 0\n",
            " 0 0 0 0 0 0 0 0 0 0 0 0 0 0 0 0 0 0 1 0 0 0 0 0 0 0 1 0 0 0 0 0 0 0 0 0 0\n",
            " 0 0 0 0 0 0 0 0 0 0 0 0 0 0 1 0 0 0 1 0 0 0]\n",
            "Accuracy: 0.9210526315789473\n",
            "Classification Report:\n",
            "               precision    recall  f1-score   support\n",
            "\n",
            "           0       0.92      1.00      0.96       724\n",
            "           1       1.00      0.41      0.58       112\n",
            "\n",
            "    accuracy                           0.92       836\n",
            "   macro avg       0.96      0.71      0.77       836\n",
            "weighted avg       0.93      0.92      0.91       836\n",
            "\n",
            "Predictions:\n",
            " [0 0 0 0 0 0 0 1 0 0 0 0 0 0 0 0 0 0 0 0 0 0 0 0 0 0 0 0 0 0 0 0 0 0 0 0 1\n",
            " 0 0 0 0 0 0 0 0 0 0 0 0 0 0 1 0 0 0 0 0 0 0 0 0 0 0 0 0 0 0 0 0 0 0 0 0 0\n",
            " 0 0 0 0 0 0 0 0 1 0 0 0 0 0 0 0 0 0 0 0 0 0 0 0 0 0 0 0 0 0 0 0 0 0 0 0 0\n",
            " 0 0 0 0 0 0 0 0 0 0 0 0 0 0 0 0 0 0 0 0 0 0 0 0 0 0 0 0 0 0 0 0 0 0 0 0 0\n",
            " 0 0 0 0 0 0 0 0 0 0 0 0 0 0 0 0 0 1 0 0 0 0 0 0 0 0 0 0 0 0 0 0 0 0 0 0 0\n",
            " 1 0 0 0 0 0 0 0 0 0 0 0 0 0 0 0 0 0 0 0 0 0 0 0 0 0 0 0 0 0 0 0 0 0 0 0 0\n",
            " 0 0 0 0 0 0 0 0 0 0 0 0 1 1 0 0 0 0 0 0 0 0 1 0 0 0 0 0 0 0 0 0 0 0 0 0 0\n",
            " 0 0 0 0 0 0 0 0 0 0 0 1 0 0 0 0 0 0 0 0 0 0 0 0 0 0 1 0 0 0 0 0 0 0 1 0 0\n",
            " 0 0 0 0 0 0 0 0 0 0 0 0 0 1 0 0 0 0 0 0 0 0 0 0 0 1 0 0 0 0 1 0 0 0 0 0 0\n",
            " 0 0 0 0 1 0 0 0 0 0 0 0 1 0 0 1 0 0 0 0 0 0 0 0 0 0 0 1 0 0 0 0 0 0 0 0 0\n",
            " 1 0 0 0 0 0 0 0 0 0 1 1 0 0 0 0 0 0 0 0 0 1 0 0 0 0 0 0 0 0 0 0 0 0 0 0 0\n",
            " 0 0 0 0 0 0 0 0 0 0 0 0 0 0 0 0 0 0 0 0 0 0 0 0 0 0 0 0 0 0 0 0 0 0 0 0 0\n",
            " 0 0 0 0 0 0 0 0 0 0 0 0 0 0 0 0 0 0 0 0 0 0 0 1 0 0 0 0 0 0 0 0 0 0 1 0 0\n",
            " 0 0 0 0 0 0 0 1 0 0 0 0 0 0 0 0 0 0 0 0 0 0 0 0 0 0 0 0 1 1 0 0 0 1 0 0 0\n",
            " 0 0 0 0 0 0 0 1 0 0 0 0 0 0 0 0 0 0 0 0 0 0 0 0 0 0 0 0 0 1 0 0 0 1 0 0 0\n",
            " 0 0 0 0 0 0 0 0 0 0 1 0 0 1 0 1 0 0 0 0 0 0 0 0 0 0 0 0 0 0 0 0 0 0 0 0 0\n",
            " 0 0 0 0 0 0 0 0 0 0 0 0 0 0 0 0 0 0 0 0 0 0 0 0 0 0 0 0 0 0 0 0 0 0 1 0 0\n",
            " 0 0 0 0 0 0 0 0 0 0 0 0 0 1 0 0 0 0 0 0 0 0 0 0 0 0 0 0 0 0 0 0 0 0 0 0 0\n",
            " 0 0 0 0 1 0 0 0 0 0 0 0 0 0 0 0 0 0 0 0 0 0 0 0 0 0 0 0 0 0 0 0 0 0 0 1 0\n",
            " 0 0 0 0 0 0 0 0 0 0 0 0 0 1 0 0 0 0 0 0 0 0 0 0 0 0 0 0 0 0 0 0 0 0 0 0 0\n",
            " 0 0 0 1 0 1 0 0 0 0 0 0 0 0 0 0 0 0 0 0 0 0 0 0 0 0 0 0 0 0 0 0 0 0 0 0 0\n",
            " 0 0 0 0 0 0 0 0 0 0 0 0 0 0 0 0 0 0 1 0 0 0 0 0 0 0 1 0 0 0 0 0 0 0 0 0 0\n",
            " 0 0 0 0 0 0 0 0 0 0 0 0 0 0 1 0 0 0 1 0 0 0]\n",
            "Accuracy: 0.9102870813397129\n",
            "Classification Report:\n",
            "               precision    recall  f1-score   support\n",
            "\n",
            "           0       0.91      1.00      0.95       724\n",
            "           1       1.00      0.33      0.50       112\n",
            "\n",
            "    accuracy                           0.91       836\n",
            "   macro avg       0.95      0.67      0.72       836\n",
            "weighted avg       0.92      0.91      0.89       836\n",
            "\n"
          ]
        }
      ]
    },
    {
      "cell_type": "code",
      "source": [
        "#Grad Boosting start: so we have probab of spam over total = F0 serves as original guess this is line a plane through our sample space\n",
        "#Each axis on sample space is a row, by true y it's either 0 or 1, plane F0 crosses through all axes\n",
        "#Residual=vector attached to plane, as point on an axis, pointing in direction towards true value"
      ],
      "metadata": {
        "id": "7u3T4bQgVXRI"
      },
      "execution_count": null,
      "outputs": []
    },
    {
      "cell_type": "code",
      "source": [
        "import numpy as np\n",
        "#F0 as mean of y=Plane cutting through sample space\n",
        "# SMS labels, 0 = ham, 1 = spam\n",
        "F0 = np.mean(y_train)  # Initial prediction for all rows\n",
        "print(\"F0 (initial guess for all samples):\", F0)\n",
        "\n",
        "#Compute initial residuals (negative gradient)\n",
        "residuals = y_train - F0\n",
        "print(\"Residuals (first 10 rows):\", residuals[:10]) #output makes sense for binary 0 1 minus 0.13"
      ],
      "metadata": {
        "colab": {
          "base_uri": "https://localhost:8080/"
        },
        "id": "kJZ5nklLVoIR",
        "outputId": "a1b762f4-f8d7-4d05-dd76-2dcebd67c5c6"
      },
      "execution_count": null,
      "outputs": [
        {
          "output_type": "stream",
          "name": "stdout",
          "text": [
            "F0 (initial guess for all samples): 0.1341025641025641\n",
            "Residuals (first 10 rows): 4914    0.865897\n",
            "2541   -0.134103\n",
            "5323   -0.134103\n",
            "5171   -0.134103\n",
            "2532   -0.134103\n",
            "4085   -0.134103\n",
            "3420    0.865897\n",
            "2568   -0.134103\n",
            "3256   -0.134103\n",
            "203    -0.134103\n",
            "Name: label, dtype: float64\n"
          ]
        }
      ]
    },
    {
      "cell_type": "code",
      "source": [
        "print(F0.shape)"
      ],
      "metadata": {
        "colab": {
          "base_uri": "https://localhost:8080/"
        },
        "id": "2HpnvTwNfjCn",
        "outputId": "585a6b8d-1cfc-4473-d4df-4ef7e0538404"
      },
      "execution_count": null,
      "outputs": [
        {
          "output_type": "stream",
          "name": "stdout",
          "text": [
            "()\n"
          ]
        }
      ]
    },
    {
      "cell_type": "code",
      "source": [
        "#F0 is flat manifold, residual vectors are negative gradient of loss at each sample\n",
        "#weak learners then map regions of feature space as vector fields mapping to adjustments in residual vectors, pointing from manifold to true value\n",
        "#topology from these cells creaties regions of feature space, mapping them as vector fields in a sample space creates a hilly loss function from F0\n",
        "from sklearn.tree import DecisionTreeRegressor\n",
        "\n",
        "tree1 = DecisionTreeRegressor(\n",
        "    max_depth=1,             # weak learner: shallow tree / stump\n",
        "    random_state=42,         # reproducibility\n",
        "    min_samples_split=2,     # prevents splitting tiny samples unnecessarily\n",
        "    min_samples_leaf=1,      # ensures leaf has at least 1 sample\n",
        "    max_features=None        # consider all features at each split; can tune later\n",
        ")\n",
        "tree1.fit(X_train, residuals)  # fit only on training set\n",
        "\n",
        "h1=tree1.predict(X_train)\n",
        "print(\"Predictions (first 10 rows):\", h1[:10])\n",
        "\n",
        "# Update F1 using learning rate eta\n",
        "eta = 0.1  # shrinkage/learning rate\n",
        "F1 = F0 + eta * h1\n",
        "print(\"Updated predictions F1 (first 10 rows):\", F1[:10])\n",
        "\n",
        "# Compute new residuals for next tree\n",
        "residuals2 = y_train - F1\n",
        "print(\"Residuals for next tree (first 10 rows):\", residuals2[:10])\n"
      ],
      "metadata": {
        "colab": {
          "base_uri": "https://localhost:8080/"
        },
        "id": "czp_ip4fYXg0",
        "outputId": "3cb1d7c7-2b3d-4bb4-8164-479bad709665"
      },
      "execution_count": null,
      "outputs": [
        {
          "output_type": "stream",
          "name": "stdout",
          "text": [
            "Predictions (first 10 rows): [-0.04849392 -0.04849392 -0.04849392 -0.04849392 -0.04849392 -0.04849392\n",
            "  0.44402244 -0.04849392 -0.04849392 -0.04849392]\n",
            "Updated predictions F1 (first 10 rows): [0.12925317 0.12925317 0.12925317 0.12925317 0.12925317 0.12925317\n",
            " 0.17850481 0.12925317 0.12925317 0.12925317]\n",
            "Residuals for next tree (first 10 rows): 4914    0.870747\n",
            "2541   -0.129253\n",
            "5323   -0.129253\n",
            "5171   -0.129253\n",
            "2532   -0.129253\n",
            "4085   -0.129253\n",
            "3420    0.821495\n",
            "2568   -0.129253\n",
            "3256   -0.129253\n",
            "203    -0.129253\n",
            "Name: label, dtype: float64\n"
          ]
        }
      ]
    },
    {
      "cell_type": "code",
      "source": [
        "F = np.full(shape=y_train.shape, fill_value=np.mean(y_train))  # initial guess F0, for that it was just () and python did broadcasting, but this is best practice\n",
        "#make an array with same shape as y_train and fill it with mean\n",
        "print(F.shape)\n",
        "print(F)"
      ],
      "metadata": {
        "colab": {
          "base_uri": "https://localhost:8080/"
        },
        "id": "cetlBI73em5i",
        "outputId": "03e04c93-23f3-41c6-90ef-8cbcc15b2865"
      },
      "execution_count": null,
      "outputs": [
        {
          "output_type": "stream",
          "name": "stdout",
          "text": [
            "(3900,)\n",
            "[0.13410256 0.13410256 0.13410256 ... 0.13410256 0.13410256 0.13410256]\n"
          ]
        }
      ]
    },
    {
      "cell_type": "code",
      "source": [
        "#Now ina loop\n",
        "from sklearn.tree import DecisionTreeRegressor\n",
        "import numpy as np\n",
        "\n",
        "# Step 0: Initialize\n",
        "eta = 0.1                   # learning rate\n",
        "M = 16                       # number of trees\n",
        "F = np.full(shape=y_train.shape, fill_value=np.mean(y_train))  # initial guess F0\n",
        "#make an array with same shape as y_train and fill it with mean\n",
        "residuals = y_train - F\n",
        "\n",
        "trees = []  # store trained trees\n",
        "F_history = [F.copy()]  # optional: track predictions after each tree\n",
        "\n",
        "# Step 1: Loop over M trees\n",
        "for m in range(M):\n",
        "    # 1a: Fit a shallow tree to current residuals\n",
        "    tree = DecisionTreeRegressor(\n",
        "        max_depth=4,           # weak learner (stump)\n",
        "        random_state=42,\n",
        "        min_samples_split=2,\n",
        "        min_samples_leaf=1,\n",
        "        max_features=None\n",
        "    )\n",
        "    tree.fit(X_train, residuals)\n",
        "\n",
        "    # 1b: Predict update from this tree\n",
        "    h_m = tree.predict(X_train)\n",
        "\n",
        "    # 1c: Update current prediction\n",
        "    F += eta * h_m\n",
        "\n",
        "    # 1d: Compute new residuals\n",
        "    residuals = y_train - F\n",
        "\n",
        "    # 1e: Save tree and optionally predictions\n",
        "    trees.append(tree)\n",
        "    F_history.append(F.copy())\n",
        "\n",
        "# Final model predictions on training set\n",
        "print(\"Final predictions F (first 10 rows):\", F[:10])\n",
        "\n",
        "#normally do cross validation for n_estimators (monitor validation loss/error) and use early stopping-add trees til validation loss stops improving\n",
        "\n",
        "#At 6 trees: [0.11377348 0.11377348 0.11377348 0.11377348 0.11377348 0.11377348 0.30524773 0.11377348 0.11377348 0.11377348]\n",
        "#At 16 trees: [0.09458619 0.09458619 0.09458619 0.09458619 0.09458619 0.09458619 0.44019502 0.09458619 0.09458619 0.09458619]\n",
        "#Now i'll increase depth initially stump had depth=1, common practice is 3-5\n",
        "#at depth=4, and 6 trees: [0.08974826 0.08974826 0.08974826 0.08974826 0.08974826 0.08974826 0.50909764 0.08974826 0.08974826 0.08974826]\n",
        "#Now 16 trees: [0.05386501 0.05386501 0.07165392 0.05386501 0.05386501 0.05386501 0.81121224 0.05386501 0.05386501 0.07165392]\n",
        "#Looks good to me: 0.05 and 0.811"
      ],
      "metadata": {
        "colab": {
          "base_uri": "https://localhost:8080/"
        },
        "id": "RHycZW4PcNNB",
        "outputId": "3535b9e2-bfa7-4d73-950e-d3a486a4a901"
      },
      "execution_count": null,
      "outputs": [
        {
          "output_type": "stream",
          "name": "stdout",
          "text": [
            "Final predictions F (first 10 rows): [0.05386501 0.05386501 0.07165392 0.05386501 0.05386501 0.05386501\n",
            " 0.81121224 0.05386501 0.05386501 0.07165392]\n"
          ]
        }
      ]
    },
    {
      "cell_type": "code",
      "source": [
        "print(F_history[:10]) #shows its progression"
      ],
      "metadata": {
        "colab": {
          "base_uri": "https://localhost:8080/"
        },
        "collapsed": true,
        "id": "orYW6_0K2mtf",
        "outputId": "956a1f54-dde7-414c-e2cb-64b3cae2c3e6"
      },
      "execution_count": null,
      "outputs": [
        {
          "output_type": "stream",
          "name": "stdout",
          "text": [
            "[array([0.13410256, 0.13410256, 0.13410256, ..., 0.13410256, 0.13410256,\n",
            "       0.13410256]), array([0.12418068, 0.12418068, 0.12418068, ..., 0.12418068, 0.12418068,\n",
            "       0.12418068]), array([0.11536074, 0.11536074, 0.11536074, ..., 0.11536074, 0.11536074,\n",
            "       0.11536074]), array([0.10788539, 0.10788539, 0.10788539, ..., 0.10788539, 0.10788539,\n",
            "       0.10788539]), array([0.10098331, 0.10098331, 0.10098331, ..., 0.10098331, 0.10098331,\n",
            "       0.10098331]), array([0.09418329, 0.09418329, 0.09418329, ..., 0.09418329, 0.09418329,\n",
            "       0.09418329]), array([0.08974826, 0.08974826, 0.08974826, ..., 0.08974826, 0.08974826,\n",
            "       0.08974826]), array([0.08412536, 0.08412536, 0.08412536, ..., 0.08412536, 0.08412536,\n",
            "       0.08412536]), array([0.07920113, 0.07920113, 0.07920113, ..., 0.07920113, 0.07920113,\n",
            "       0.07920113]), array([0.07570117, 0.07570117, 0.07570117, ..., 0.07570117, 0.07570117,\n",
            "       0.07570117])]\n"
          ]
        }
      ]
    },
    {
      "cell_type": "code",
      "source": [
        "#METRICS\n",
        "from sklearn.metrics import accuracy_score, precision_recall_fscore_support\n",
        "\n",
        "def evaluate(y_true, F, threshold=0.5):\n",
        "    \"\"\"\n",
        "    Evaluate predictions using accuracy, precision, recall, and F1.\n",
        "    F: continuous predictions (e.g. from gradient boosting model).\n",
        "    We convert them to binary labels using the threshold.\n",
        "    \"\"\"\n",
        "    # Step 1: Convert scores into binary predictions\n",
        "    y_pred = (F >= threshold).astype(int)\n",
        "\n",
        "    # Step 2: Compute accuracy\n",
        "    acc = accuracy_score(y_true, y_pred)\n",
        "\n",
        "    # Step 3: Compute precision, recall, f1\n",
        "    precision, recall, f1, _ = precision_recall_fscore_support(\n",
        "        y_true, y_pred, average='binary', zero_division=0\n",
        "    )\n",
        "\n",
        "    # Step 4: Print results\n",
        "    print(f\"accuracy={acc:.4f}, precision={precision:.4f}, recall={recall:.4f}, f1={f1:.4f}\")\n",
        "\n",
        "    return acc, precision, recall, f1\n",
        "\n",
        "# Example usage\n",
        "evaluate(y_train, F)\n",
        "#accuracy=0.9644, precision=0.9683, recall=0.7591, f1=0.8510"
      ],
      "metadata": {
        "colab": {
          "base_uri": "https://localhost:8080/"
        },
        "id": "s_i79aJ9zQB8",
        "outputId": "02ffa52d-41f5-4d76-85b2-9898b0b17bc0"
      },
      "execution_count": null,
      "outputs": [
        {
          "output_type": "stream",
          "name": "stdout",
          "text": [
            "accuracy=0.9644, precision=0.9683, recall=0.7591, f1=0.8510\n"
          ]
        },
        {
          "output_type": "execute_result",
          "data": {
            "text/plain": [
              "(0.9643589743589743,\n",
              " 0.9682926829268292,\n",
              " 0.7590822179732314,\n",
              " 0.8510182207931404)"
            ]
          },
          "metadata": {},
          "execution_count": 54
        }
      ]
    },
    {
      "cell_type": "code",
      "source": [
        "import numpy as np\n",
        "import matplotlib.pyplot as plt\n",
        "from mpl_toolkits.mplot3d import Axes3D\n",
        "\n",
        "# --- 1. Sample data: 3 rows, 3 features (tokens) ---\n",
        "X = np.array([\n",
        "    [0, 1, 0],  # ham\n",
        "    [1, 0, 0],  # ham\n",
        "    [1, 1, 1]   # spam\n",
        "])\n",
        "y = np.array([0, 0, 1])\n",
        "\n",
        "# --- 2. Initial prediction F0 (mean) ---\n",
        "F0 = np.full(y.shape, np.mean(y))\n",
        "residuals = y - F0\n",
        "\n",
        "print(\"F0:\", F0)\n",
        "print(\"Residuals:\", residuals)\n",
        "\n",
        "# --- 3. Plot F0 plane and residuals ---\n",
        "fig = plt.figure(figsize=(8,6))\n",
        "ax = fig.add_subplot(111, projection='3d')\n",
        "\n",
        "# Coordinates for features (just use first 3 features as axes)\n",
        "xs = X[:,0]\n",
        "ys = X[:,1]\n",
        "zs = F0  # initial plane\n",
        "\n",
        "# Plot F0 plane points\n",
        "ax.scatter(xs, ys, zs, color='blue', label='F0 predictions')\n",
        "\n",
        "# Plot true target points\n",
        "ax.scatter(xs, ys, y, color='red', label='True targets')\n",
        "\n",
        "# Draw residual vectors\n",
        "for i in range(len(y)):\n",
        "    ax.quiver(xs[i], ys[i], zs[i], 0, 0, residuals[i], color='green', arrow_length_ratio=0.3)\n",
        "\n",
        "ax.set_xlabel(\"Feature 1 (token1)\")\n",
        "ax.set_ylabel(\"Feature 2 (token2)\")\n",
        "ax.set_zlabel(\"Prediction / F0\")\n",
        "ax.set_title(\"F0 plane and residual vectors (3 samples)\")\n",
        "ax.legend()\n",
        "plt.show()\n"
      ],
      "metadata": {
        "colab": {
          "base_uri": "https://localhost:8080/",
          "height": 558
        },
        "id": "47fvJ9F-hE_l",
        "outputId": "907e9548-adfa-4548-9b6b-652528645af2"
      },
      "execution_count": null,
      "outputs": [
        {
          "output_type": "stream",
          "name": "stdout",
          "text": [
            "F0: [0.33333333 0.33333333 0.33333333]\n",
            "Residuals: [-0.33333333 -0.33333333  0.66666667]\n"
          ]
        },
        {
          "output_type": "display_data",
          "data": {
            "text/plain": [
              "<Figure size 800x600 with 1 Axes>"
            ],
            "image/png": "[encoded data removed]"
          },
          "metadata": {}
        }
      ]
    },
    {
      "cell_type": "code",
      "source": [
        "def feature_importances_from_trees(trees, n_features):\n",
        "    imp = np.zeros(n_features, dtype=np.float64)\n",
        "    for t in trees:\n",
        "        # Ensure feature_importances_ exists before adding\n",
        "        if hasattr(t, \"feature_importances_\"):\n",
        "            imp += t.feature_importances_\n",
        "    if imp.sum() > 0:\n",
        "        imp /= imp.sum()  # normalize\n",
        "    return imp\n",
        "\n",
        "importances = feature_importances_from_trees(trees, X_tr.shape[1])\n",
        "# If X_train was a DataFrame you could map names using X_train.columns\n",
        "# Since X_train is a numpy array, use the vocab list for feature names\n",
        "feature_names = vocab # Use the vocab list created earlier\n",
        "sorted_idx = np.argsort(importances)[::-1]\n",
        "print(\"Top 20 most important features:\")\n",
        "for i in sorted_idx[:20]:\n",
        "    print(f\"{feature_names[i]}: {importances[i]:.4f}\")\n",
        "\n",
        "#print(importances) # Optionally print all importances"
      ],
      "metadata": {
        "colab": {
          "base_uri": "https://localhost:8080/"
        },
        "id": "GAoot_9D3TBW",
        "outputId": "c120eb4c-69ac-48c5-e8a0-d2df311e6795"
      },
      "execution_count": null,
      "outputs": [
        {
          "output_type": "stream",
          "name": "stdout",
          "text": [
            "Top 20 most important features:\n",
            "call: 0.1614\n",
            "txt: 0.1457\n",
            "i: 0.1015\n",
            "www: 0.0736\n",
            "free: 0.0730\n",
            "claim: 0.0588\n",
            "150p: 0.0379\n",
            "me: 0.0377\n",
            "stop: 0.0351\n",
            "reply: 0.0293\n",
            "win: 0.0234\n",
            "text: 0.0234\n",
            "service: 0.0227\n",
            "uk: 0.0205\n",
            "mobile: 0.0151\n",
            "your: 0.0126\n",
            "ringtone: 0.0118\n",
            "to: 0.0114\n",
            "com: 0.0112\n",
            "won: 0.0084\n",
            "[0.10152444 0.01139581 0.         ... 0.         0.         0.        ]\n"
          ]
        }
      ]
    },
    {
      "cell_type": "code",
      "source": [],
      "metadata": {
        "id": "NidNK61Q34Ok"
      },
      "execution_count": null,
      "outputs": []
    }
  ]
}